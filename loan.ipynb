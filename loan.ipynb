{
  "nbformat": 4,
  "nbformat_minor": 0,
  "metadata": {
    "colab": {
      "provenance": [],
      "toc_visible": true,
      "mount_file_id": "1Prb6cG29rQHM1ZzHZ9FdO_YkLpPOqn5X",
      "authorship_tag": "ABX9TyOJRNq95WzrdUpVUSe0Ko7k",
      "include_colab_link": true
    },
    "kernelspec": {
      "name": "python3",
      "display_name": "Python 3"
    },
    "language_info": {
      "name": "python"
    },
    "gpuClass": "standard"
  },
  "cells": [
    {
      "cell_type": "markdown",
      "metadata": {
        "id": "view-in-github",
        "colab_type": "text"
      },
      "source": [
        "<a href=\"https://colab.research.google.com/github/Vey27/DeepLearning/blob/main/loan.ipynb\" target=\"_parent\"><img src=\"https://colab.research.google.com/assets/colab-badge.svg\" alt=\"Open In Colab\"/></a>"
      ]
    },
    {
      "cell_type": "markdown",
      "source": [
        "# Lending Club Loan Data Analysis\n",
        "## Course-end Project 1\n",
        "\n",
        "**DESCRIPTION**\n",
        "bold text\n",
        "Create a model that predicts whether or not a loan will be default using the historical data.\n",
        "\n",
        "**Problem Statement:**  \n",
        "For companies like Lending Club correctly predicting whether or not a loan will be a default is very important. In this project, using the historical data from 2007 to 2015, you have to build a deep learning model to predict the chance of default for future loans. As you will see later this dataset is highly imbalanced and includes a lot of features that makes this problem more challenging.\n",
        "\n",
        "**Domain**: Finance\n",
        "\n",
        "Analysis to be done: Perform data preprocessing and build a deep learning prediction model. \n",
        "\n",
        "**Content:**\n",
        "Dataset columns and definition:\n",
        "\n",
        "**credit.policy:** 1 if the customer meets the credit underwriting criteria of LendingClub.com, and 0 otherwise.\n",
        "\n",
        "**purpose:** The purpose of the loan (takes values \"credit_card\", \"debt_consolidation\", \"educational\", \"major_purchase\", \"small_business\", and \"all_other\").\n",
        "\n",
        "**int.rate:** The interest rate of the loan, as a proportion (a rate of 11% would be stored as 0.11). Borrowers judged by LendingClub.com to be more risky are assigned higher interest rates.\n",
        "\n",
        "**installment:** The monthly installments owed by the borrower if the loan is funded.\n",
        "\n",
        "**log.annual.inc:** The natural log of the self-reported annual income of the borrower.\n",
        "\n",
        "**dti:** The debt-to-income ratio of the borrower (amount of debt divided by annual income).\n",
        "\n",
        "**fico**: The FICO credit score of the borrower.\n",
        "\n",
        "**days.with.cr.line:** The number of days the borrower has had a credit line.\n",
        "\n",
        "**revol.bal:** The borrower's revolving balance (amount unpaid at the end of the credit card billing cycle).\n",
        "\n",
        "**revol.util:** The borrower's revolving line utilization rate (the amount of the credit line used relative to total credit available).\n",
        "\n",
        "**inq.last.6mths:** The borrower's number of inquiries by creditors in the last 6 months.\n",
        "\n",
        "**delinq.2yrs:** The number of times the borrower had been 30+ days past due on a payment in the past 2 years.\n",
        "\n",
        "**pub.rec:** The borrower's number of derogatory public records (bankruptcy filings, tax liens, or judgments).\n",
        "\n",
        " \n",
        "**Steps to perform:**\n",
        "Perform exploratory data analysis and feature engineering and then apply feature engineering. Follow up with a deep learning model to predict whether or not the loan will be default using the historical data.\n",
        "\n",
        "Tasks:\n",
        "\n",
        "1.     Feature Transformation\n",
        "\n",
        "Transform categorical values into numerical values (discrete)\n",
        "\n",
        "2.     Exploratory data analysis of different factors of the dataset.\n",
        "\n",
        "3.     Additional Feature Engineering\n",
        "\n",
        "You will check the correlation between features and will drop those features which have a strong correlation\n",
        "\n",
        "This will help reduce the number of features and will leave you with the most relevant features\n",
        "\n",
        "4.     Modeling\n",
        "\n",
        "After applying EDA and feature engineering, you are now ready to build the predictive models\n",
        "\n",
        "In this part, you will create a deep learning model using Keras with Tensorflow backend"
      ],
      "metadata": {
        "id": "tsn9mwiUMDhA"
      }
    },
    {
      "cell_type": "code",
      "source": [
        "from google.colab import files\n",
        "\n",
        "uploaded = files.upload()\n",
        "\n",
        "for fn in uploaded.keys():\n",
        "  print('User uploaded file \"{name}\" with length {length} bytes'.format(\n",
        "      name=fn, length=len(uploaded[fn])))"
      ],
      "metadata": {
        "colab": {
          "base_uri": "https://localhost:8080/",
          "height": 90
        },
        "id": "IY-74C4VfTwV",
        "outputId": "553db713-1d25-45b5-95d5-ca9c98dd0db4"
      },
      "execution_count": 2,
      "outputs": [
        {
          "output_type": "display_data",
          "data": {
            "text/plain": [
              "<IPython.core.display.HTML object>"
            ],
            "text/html": [
              "\n",
              "     <input type=\"file\" id=\"files-e844b754-f4e6-4437-9e09-62e38c8c2bb7\" name=\"files[]\" multiple disabled\n",
              "        style=\"border:none\" />\n",
              "     <output id=\"result-e844b754-f4e6-4437-9e09-62e38c8c2bb7\">\n",
              "      Upload widget is only available when the cell has been executed in the\n",
              "      current browser session. Please rerun this cell to enable.\n",
              "      </output>\n",
              "      <script>// Copyright 2017 Google LLC\n",
              "//\n",
              "// Licensed under the Apache License, Version 2.0 (the \"License\");\n",
              "// you may not use this file except in compliance with the License.\n",
              "// You may obtain a copy of the License at\n",
              "//\n",
              "//      http://www.apache.org/licenses/LICENSE-2.0\n",
              "//\n",
              "// Unless required by applicable law or agreed to in writing, software\n",
              "// distributed under the License is distributed on an \"AS IS\" BASIS,\n",
              "// WITHOUT WARRANTIES OR CONDITIONS OF ANY KIND, either express or implied.\n",
              "// See the License for the specific language governing permissions and\n",
              "// limitations under the License.\n",
              "\n",
              "/**\n",
              " * @fileoverview Helpers for google.colab Python module.\n",
              " */\n",
              "(function(scope) {\n",
              "function span(text, styleAttributes = {}) {\n",
              "  const element = document.createElement('span');\n",
              "  element.textContent = text;\n",
              "  for (const key of Object.keys(styleAttributes)) {\n",
              "    element.style[key] = styleAttributes[key];\n",
              "  }\n",
              "  return element;\n",
              "}\n",
              "\n",
              "// Max number of bytes which will be uploaded at a time.\n",
              "const MAX_PAYLOAD_SIZE = 100 * 1024;\n",
              "\n",
              "function _uploadFiles(inputId, outputId) {\n",
              "  const steps = uploadFilesStep(inputId, outputId);\n",
              "  const outputElement = document.getElementById(outputId);\n",
              "  // Cache steps on the outputElement to make it available for the next call\n",
              "  // to uploadFilesContinue from Python.\n",
              "  outputElement.steps = steps;\n",
              "\n",
              "  return _uploadFilesContinue(outputId);\n",
              "}\n",
              "\n",
              "// This is roughly an async generator (not supported in the browser yet),\n",
              "// where there are multiple asynchronous steps and the Python side is going\n",
              "// to poll for completion of each step.\n",
              "// This uses a Promise to block the python side on completion of each step,\n",
              "// then passes the result of the previous step as the input to the next step.\n",
              "function _uploadFilesContinue(outputId) {\n",
              "  const outputElement = document.getElementById(outputId);\n",
              "  const steps = outputElement.steps;\n",
              "\n",
              "  const next = steps.next(outputElement.lastPromiseValue);\n",
              "  return Promise.resolve(next.value.promise).then((value) => {\n",
              "    // Cache the last promise value to make it available to the next\n",
              "    // step of the generator.\n",
              "    outputElement.lastPromiseValue = value;\n",
              "    return next.value.response;\n",
              "  });\n",
              "}\n",
              "\n",
              "/**\n",
              " * Generator function which is called between each async step of the upload\n",
              " * process.\n",
              " * @param {string} inputId Element ID of the input file picker element.\n",
              " * @param {string} outputId Element ID of the output display.\n",
              " * @return {!Iterable<!Object>} Iterable of next steps.\n",
              " */\n",
              "function* uploadFilesStep(inputId, outputId) {\n",
              "  const inputElement = document.getElementById(inputId);\n",
              "  inputElement.disabled = false;\n",
              "\n",
              "  const outputElement = document.getElementById(outputId);\n",
              "  outputElement.innerHTML = '';\n",
              "\n",
              "  const pickedPromise = new Promise((resolve) => {\n",
              "    inputElement.addEventListener('change', (e) => {\n",
              "      resolve(e.target.files);\n",
              "    });\n",
              "  });\n",
              "\n",
              "  const cancel = document.createElement('button');\n",
              "  inputElement.parentElement.appendChild(cancel);\n",
              "  cancel.textContent = 'Cancel upload';\n",
              "  const cancelPromise = new Promise((resolve) => {\n",
              "    cancel.onclick = () => {\n",
              "      resolve(null);\n",
              "    };\n",
              "  });\n",
              "\n",
              "  // Wait for the user to pick the files.\n",
              "  const files = yield {\n",
              "    promise: Promise.race([pickedPromise, cancelPromise]),\n",
              "    response: {\n",
              "      action: 'starting',\n",
              "    }\n",
              "  };\n",
              "\n",
              "  cancel.remove();\n",
              "\n",
              "  // Disable the input element since further picks are not allowed.\n",
              "  inputElement.disabled = true;\n",
              "\n",
              "  if (!files) {\n",
              "    return {\n",
              "      response: {\n",
              "        action: 'complete',\n",
              "      }\n",
              "    };\n",
              "  }\n",
              "\n",
              "  for (const file of files) {\n",
              "    const li = document.createElement('li');\n",
              "    li.append(span(file.name, {fontWeight: 'bold'}));\n",
              "    li.append(span(\n",
              "        `(${file.type || 'n/a'}) - ${file.size} bytes, ` +\n",
              "        `last modified: ${\n",
              "            file.lastModifiedDate ? file.lastModifiedDate.toLocaleDateString() :\n",
              "                                    'n/a'} - `));\n",
              "    const percent = span('0% done');\n",
              "    li.appendChild(percent);\n",
              "\n",
              "    outputElement.appendChild(li);\n",
              "\n",
              "    const fileDataPromise = new Promise((resolve) => {\n",
              "      const reader = new FileReader();\n",
              "      reader.onload = (e) => {\n",
              "        resolve(e.target.result);\n",
              "      };\n",
              "      reader.readAsArrayBuffer(file);\n",
              "    });\n",
              "    // Wait for the data to be ready.\n",
              "    let fileData = yield {\n",
              "      promise: fileDataPromise,\n",
              "      response: {\n",
              "        action: 'continue',\n",
              "      }\n",
              "    };\n",
              "\n",
              "    // Use a chunked sending to avoid message size limits. See b/62115660.\n",
              "    let position = 0;\n",
              "    do {\n",
              "      const length = Math.min(fileData.byteLength - position, MAX_PAYLOAD_SIZE);\n",
              "      const chunk = new Uint8Array(fileData, position, length);\n",
              "      position += length;\n",
              "\n",
              "      const base64 = btoa(String.fromCharCode.apply(null, chunk));\n",
              "      yield {\n",
              "        response: {\n",
              "          action: 'append',\n",
              "          file: file.name,\n",
              "          data: base64,\n",
              "        },\n",
              "      };\n",
              "\n",
              "      let percentDone = fileData.byteLength === 0 ?\n",
              "          100 :\n",
              "          Math.round((position / fileData.byteLength) * 100);\n",
              "      percent.textContent = `${percentDone}% done`;\n",
              "\n",
              "    } while (position < fileData.byteLength);\n",
              "  }\n",
              "\n",
              "  // All done.\n",
              "  yield {\n",
              "    response: {\n",
              "      action: 'complete',\n",
              "    }\n",
              "  };\n",
              "}\n",
              "\n",
              "scope.google = scope.google || {};\n",
              "scope.google.colab = scope.google.colab || {};\n",
              "scope.google.colab._files = {\n",
              "  _uploadFiles,\n",
              "  _uploadFilesContinue,\n",
              "};\n",
              "})(self);\n",
              "</script> "
            ]
          },
          "metadata": {}
        },
        {
          "output_type": "stream",
          "name": "stdout",
          "text": [
            "Saving loan_data.csv to loan_data.csv\n",
            "User uploaded file \"loan_data.csv\" with length 751253 bytes\n"
          ]
        }
      ]
    },
    {
      "cell_type": "code",
      "source": [
        "import pandas as pd\n",
        "import numpy as np\n",
        "import matplotlib.pyplot as plt\n",
        "import seaborn as sns\n",
        "\n",
        "%matplotlib inline  \n",
        "\n",
        "import pandas as pd, joblib\n",
        "\n",
        "import warnings\n",
        "warnings.filterwarnings('ignore')"
      ],
      "metadata": {
        "id": "FEbmOeMqQoUZ"
      },
      "execution_count": 39,
      "outputs": []
    },
    {
      "cell_type": "code",
      "source": [
        "df_loan=pd.read_csv(\"loan_data.csv\")"
      ],
      "metadata": {
        "id": "OvYRRLCoMTJe"
      },
      "execution_count": 4,
      "outputs": []
    },
    {
      "cell_type": "code",
      "source": [
        "df_loan.head()\n"
      ],
      "metadata": {
        "id": "mFY3ZoIx-5J5",
        "colab": {
          "base_uri": "https://localhost:8080/",
          "height": 270
        },
        "outputId": "57912eae-9db0-49b1-ac67-d6a3873c9df3"
      },
      "execution_count": 5,
      "outputs": [
        {
          "output_type": "execute_result",
          "data": {
            "text/plain": [
              "   credit.policy             purpose  int.rate  installment  log.annual.inc  \\\n",
              "0              1  debt_consolidation    0.1189       829.10       11.350407   \n",
              "1              1         credit_card    0.1071       228.22       11.082143   \n",
              "2              1  debt_consolidation    0.1357       366.86       10.373491   \n",
              "3              1  debt_consolidation    0.1008       162.34       11.350407   \n",
              "4              1         credit_card    0.1426       102.92       11.299732   \n",
              "\n",
              "     dti  fico  days.with.cr.line  revol.bal  revol.util  inq.last.6mths  \\\n",
              "0  19.48   737        5639.958333      28854        52.1               0   \n",
              "1  14.29   707        2760.000000      33623        76.7               0   \n",
              "2  11.63   682        4710.000000       3511        25.6               1   \n",
              "3   8.10   712        2699.958333      33667        73.2               1   \n",
              "4  14.97   667        4066.000000       4740        39.5               0   \n",
              "\n",
              "   delinq.2yrs  pub.rec  not.fully.paid  \n",
              "0            0        0               0  \n",
              "1            0        0               0  \n",
              "2            0        0               0  \n",
              "3            0        0               0  \n",
              "4            1        0               0  "
            ],
            "text/html": [
              "\n",
              "  <div id=\"df-c08cc9a0-b6c2-4248-b967-daf87d10aefb\">\n",
              "    <div class=\"colab-df-container\">\n",
              "      <div>\n",
              "<style scoped>\n",
              "    .dataframe tbody tr th:only-of-type {\n",
              "        vertical-align: middle;\n",
              "    }\n",
              "\n",
              "    .dataframe tbody tr th {\n",
              "        vertical-align: top;\n",
              "    }\n",
              "\n",
              "    .dataframe thead th {\n",
              "        text-align: right;\n",
              "    }\n",
              "</style>\n",
              "<table border=\"1\" class=\"dataframe\">\n",
              "  <thead>\n",
              "    <tr style=\"text-align: right;\">\n",
              "      <th></th>\n",
              "      <th>credit.policy</th>\n",
              "      <th>purpose</th>\n",
              "      <th>int.rate</th>\n",
              "      <th>installment</th>\n",
              "      <th>log.annual.inc</th>\n",
              "      <th>dti</th>\n",
              "      <th>fico</th>\n",
              "      <th>days.with.cr.line</th>\n",
              "      <th>revol.bal</th>\n",
              "      <th>revol.util</th>\n",
              "      <th>inq.last.6mths</th>\n",
              "      <th>delinq.2yrs</th>\n",
              "      <th>pub.rec</th>\n",
              "      <th>not.fully.paid</th>\n",
              "    </tr>\n",
              "  </thead>\n",
              "  <tbody>\n",
              "    <tr>\n",
              "      <th>0</th>\n",
              "      <td>1</td>\n",
              "      <td>debt_consolidation</td>\n",
              "      <td>0.1189</td>\n",
              "      <td>829.10</td>\n",
              "      <td>11.350407</td>\n",
              "      <td>19.48</td>\n",
              "      <td>737</td>\n",
              "      <td>5639.958333</td>\n",
              "      <td>28854</td>\n",
              "      <td>52.1</td>\n",
              "      <td>0</td>\n",
              "      <td>0</td>\n",
              "      <td>0</td>\n",
              "      <td>0</td>\n",
              "    </tr>\n",
              "    <tr>\n",
              "      <th>1</th>\n",
              "      <td>1</td>\n",
              "      <td>credit_card</td>\n",
              "      <td>0.1071</td>\n",
              "      <td>228.22</td>\n",
              "      <td>11.082143</td>\n",
              "      <td>14.29</td>\n",
              "      <td>707</td>\n",
              "      <td>2760.000000</td>\n",
              "      <td>33623</td>\n",
              "      <td>76.7</td>\n",
              "      <td>0</td>\n",
              "      <td>0</td>\n",
              "      <td>0</td>\n",
              "      <td>0</td>\n",
              "    </tr>\n",
              "    <tr>\n",
              "      <th>2</th>\n",
              "      <td>1</td>\n",
              "      <td>debt_consolidation</td>\n",
              "      <td>0.1357</td>\n",
              "      <td>366.86</td>\n",
              "      <td>10.373491</td>\n",
              "      <td>11.63</td>\n",
              "      <td>682</td>\n",
              "      <td>4710.000000</td>\n",
              "      <td>3511</td>\n",
              "      <td>25.6</td>\n",
              "      <td>1</td>\n",
              "      <td>0</td>\n",
              "      <td>0</td>\n",
              "      <td>0</td>\n",
              "    </tr>\n",
              "    <tr>\n",
              "      <th>3</th>\n",
              "      <td>1</td>\n",
              "      <td>debt_consolidation</td>\n",
              "      <td>0.1008</td>\n",
              "      <td>162.34</td>\n",
              "      <td>11.350407</td>\n",
              "      <td>8.10</td>\n",
              "      <td>712</td>\n",
              "      <td>2699.958333</td>\n",
              "      <td>33667</td>\n",
              "      <td>73.2</td>\n",
              "      <td>1</td>\n",
              "      <td>0</td>\n",
              "      <td>0</td>\n",
              "      <td>0</td>\n",
              "    </tr>\n",
              "    <tr>\n",
              "      <th>4</th>\n",
              "      <td>1</td>\n",
              "      <td>credit_card</td>\n",
              "      <td>0.1426</td>\n",
              "      <td>102.92</td>\n",
              "      <td>11.299732</td>\n",
              "      <td>14.97</td>\n",
              "      <td>667</td>\n",
              "      <td>4066.000000</td>\n",
              "      <td>4740</td>\n",
              "      <td>39.5</td>\n",
              "      <td>0</td>\n",
              "      <td>1</td>\n",
              "      <td>0</td>\n",
              "      <td>0</td>\n",
              "    </tr>\n",
              "  </tbody>\n",
              "</table>\n",
              "</div>\n",
              "      <button class=\"colab-df-convert\" onclick=\"convertToInteractive('df-c08cc9a0-b6c2-4248-b967-daf87d10aefb')\"\n",
              "              title=\"Convert this dataframe to an interactive table.\"\n",
              "              style=\"display:none;\">\n",
              "        \n",
              "  <svg xmlns=\"http://www.w3.org/2000/svg\" height=\"24px\"viewBox=\"0 0 24 24\"\n",
              "       width=\"24px\">\n",
              "    <path d=\"M0 0h24v24H0V0z\" fill=\"none\"/>\n",
              "    <path d=\"M18.56 5.44l.94 2.06.94-2.06 2.06-.94-2.06-.94-.94-2.06-.94 2.06-2.06.94zm-11 1L8.5 8.5l.94-2.06 2.06-.94-2.06-.94L8.5 2.5l-.94 2.06-2.06.94zm10 10l.94 2.06.94-2.06 2.06-.94-2.06-.94-.94-2.06-.94 2.06-2.06.94z\"/><path d=\"M17.41 7.96l-1.37-1.37c-.4-.4-.92-.59-1.43-.59-.52 0-1.04.2-1.43.59L10.3 9.45l-7.72 7.72c-.78.78-.78 2.05 0 2.83L4 21.41c.39.39.9.59 1.41.59.51 0 1.02-.2 1.41-.59l7.78-7.78 2.81-2.81c.8-.78.8-2.07 0-2.86zM5.41 20L4 18.59l7.72-7.72 1.47 1.35L5.41 20z\"/>\n",
              "  </svg>\n",
              "      </button>\n",
              "      \n",
              "  <style>\n",
              "    .colab-df-container {\n",
              "      display:flex;\n",
              "      flex-wrap:wrap;\n",
              "      gap: 12px;\n",
              "    }\n",
              "\n",
              "    .colab-df-convert {\n",
              "      background-color: #E8F0FE;\n",
              "      border: none;\n",
              "      border-radius: 50%;\n",
              "      cursor: pointer;\n",
              "      display: none;\n",
              "      fill: #1967D2;\n",
              "      height: 32px;\n",
              "      padding: 0 0 0 0;\n",
              "      width: 32px;\n",
              "    }\n",
              "\n",
              "    .colab-df-convert:hover {\n",
              "      background-color: #E2EBFA;\n",
              "      box-shadow: 0px 1px 2px rgba(60, 64, 67, 0.3), 0px 1px 3px 1px rgba(60, 64, 67, 0.15);\n",
              "      fill: #174EA6;\n",
              "    }\n",
              "\n",
              "    [theme=dark] .colab-df-convert {\n",
              "      background-color: #3B4455;\n",
              "      fill: #D2E3FC;\n",
              "    }\n",
              "\n",
              "    [theme=dark] .colab-df-convert:hover {\n",
              "      background-color: #434B5C;\n",
              "      box-shadow: 0px 1px 3px 1px rgba(0, 0, 0, 0.15);\n",
              "      filter: drop-shadow(0px 1px 2px rgba(0, 0, 0, 0.3));\n",
              "      fill: #FFFFFF;\n",
              "    }\n",
              "  </style>\n",
              "\n",
              "      <script>\n",
              "        const buttonEl =\n",
              "          document.querySelector('#df-c08cc9a0-b6c2-4248-b967-daf87d10aefb button.colab-df-convert');\n",
              "        buttonEl.style.display =\n",
              "          google.colab.kernel.accessAllowed ? 'block' : 'none';\n",
              "\n",
              "        async function convertToInteractive(key) {\n",
              "          const element = document.querySelector('#df-c08cc9a0-b6c2-4248-b967-daf87d10aefb');\n",
              "          const dataTable =\n",
              "            await google.colab.kernel.invokeFunction('convertToInteractive',\n",
              "                                                     [key], {});\n",
              "          if (!dataTable) return;\n",
              "\n",
              "          const docLinkHtml = 'Like what you see? Visit the ' +\n",
              "            '<a target=\"_blank\" href=https://colab.research.google.com/notebooks/data_table.ipynb>data table notebook</a>'\n",
              "            + ' to learn more about interactive tables.';\n",
              "          element.innerHTML = '';\n",
              "          dataTable['output_type'] = 'display_data';\n",
              "          await google.colab.output.renderOutput(dataTable, element);\n",
              "          const docLink = document.createElement('div');\n",
              "          docLink.innerHTML = docLinkHtml;\n",
              "          element.appendChild(docLink);\n",
              "        }\n",
              "      </script>\n",
              "    </div>\n",
              "  </div>\n",
              "  "
            ]
          },
          "metadata": {},
          "execution_count": 5
        }
      ]
    },
    {
      "cell_type": "markdown",
      "source": [
        "# 1.     Feature Transformation"
      ],
      "metadata": {
        "id": "cV3EPdzZNcBJ"
      }
    },
    {
      "cell_type": "markdown",
      "source": [
        "Check the size of the dataset\n"
      ],
      "metadata": {
        "id": "BhNeC7jFM1yi"
      }
    },
    {
      "cell_type": "code",
      "source": [
        "df_loan.shape"
      ],
      "metadata": {
        "id": "u335oa5OMrA2",
        "colab": {
          "base_uri": "https://localhost:8080/",
          "height": 0
        },
        "outputId": "54464271-2761-4fc2-8166-c906c0966f9b"
      },
      "execution_count": 6,
      "outputs": [
        {
          "output_type": "execute_result",
          "data": {
            "text/plain": [
              "(9578, 14)"
            ]
          },
          "metadata": {},
          "execution_count": 6
        }
      ]
    },
    {
      "cell_type": "code",
      "source": [
        "df_loan.info()"
      ],
      "metadata": {
        "colab": {
          "base_uri": "https://localhost:8080/",
          "height": 0
        },
        "id": "J9uYku6pwt-X",
        "outputId": "4d9bf149-217c-4f12-ab28-d62221b667a2"
      },
      "execution_count": 33,
      "outputs": [
        {
          "output_type": "stream",
          "name": "stdout",
          "text": [
            "<class 'pandas.core.frame.DataFrame'>\n",
            "RangeIndex: 9578 entries, 0 to 9577\n",
            "Data columns (total 14 columns):\n",
            " #   Column             Non-Null Count  Dtype  \n",
            "---  ------             --------------  -----  \n",
            " 0   credit.policy      9578 non-null   int64  \n",
            " 1   purpose            9578 non-null   object \n",
            " 2   int.rate           9578 non-null   float64\n",
            " 3   installment        9578 non-null   float64\n",
            " 4   log.annual.inc     9578 non-null   float64\n",
            " 5   dti                9578 non-null   float64\n",
            " 6   fico               9578 non-null   int64  \n",
            " 7   days.with.cr.line  9578 non-null   float64\n",
            " 8   revol.bal          9578 non-null   int64  \n",
            " 9   revol.util         9578 non-null   float64\n",
            " 10  inq.last.6mths     9578 non-null   int64  \n",
            " 11  delinq.2yrs        9578 non-null   int64  \n",
            " 12  pub.rec            9578 non-null   int64  \n",
            " 13  not.fully.paid     9578 non-null   int64  \n",
            "dtypes: float64(6), int64(7), object(1)\n",
            "memory usage: 1.0+ MB\n"
          ]
        }
      ]
    },
    {
      "cell_type": "code",
      "source": [
        "df_loan.describe().transpose()\n"
      ],
      "metadata": {
        "id": "lqNGgsQkTGCA",
        "colab": {
          "base_uri": "https://localhost:8080/",
          "height": 501
        },
        "outputId": "3ec32138-4dde-4b21-c573-dc8c7af0aebc"
      },
      "execution_count": 9,
      "outputs": [
        {
          "output_type": "execute_result",
          "data": {
            "text/plain": [
              "                    count          mean           std         min  \\\n",
              "credit.policy      9578.0      0.804970      0.396245    0.000000   \n",
              "int.rate           9578.0      0.122640      0.026847    0.060000   \n",
              "installment        9578.0    319.089413    207.071301   15.670000   \n",
              "log.annual.inc     9578.0     10.932117      0.614813    7.547502   \n",
              "dti                9578.0     12.606679      6.883970    0.000000   \n",
              "fico               9578.0    710.846314     37.970537  612.000000   \n",
              "days.with.cr.line  9578.0   4560.767197   2496.930377  178.958333   \n",
              "revol.bal          9578.0  16913.963876  33756.189557    0.000000   \n",
              "revol.util         9578.0     46.799236     29.014417    0.000000   \n",
              "inq.last.6mths     9578.0      1.577469      2.200245    0.000000   \n",
              "delinq.2yrs        9578.0      0.163708      0.546215    0.000000   \n",
              "pub.rec            9578.0      0.062122      0.262126    0.000000   \n",
              "not.fully.paid     9578.0      0.160054      0.366676    0.000000   \n",
              "\n",
              "                           25%          50%           75%           max  \n",
              "credit.policy         1.000000     1.000000      1.000000  1.000000e+00  \n",
              "int.rate              0.103900     0.122100      0.140700  2.164000e-01  \n",
              "installment         163.770000   268.950000    432.762500  9.401400e+02  \n",
              "log.annual.inc       10.558414    10.928884     11.291293  1.452835e+01  \n",
              "dti                   7.212500    12.665000     17.950000  2.996000e+01  \n",
              "fico                682.000000   707.000000    737.000000  8.270000e+02  \n",
              "days.with.cr.line  2820.000000  4139.958333   5730.000000  1.763996e+04  \n",
              "revol.bal          3187.000000  8596.000000  18249.500000  1.207359e+06  \n",
              "revol.util           22.600000    46.300000     70.900000  1.190000e+02  \n",
              "inq.last.6mths        0.000000     1.000000      2.000000  3.300000e+01  \n",
              "delinq.2yrs           0.000000     0.000000      0.000000  1.300000e+01  \n",
              "pub.rec               0.000000     0.000000      0.000000  5.000000e+00  \n",
              "not.fully.paid        0.000000     0.000000      0.000000  1.000000e+00  "
            ],
            "text/html": [
              "\n",
              "  <div id=\"df-b1b828cb-753b-47ab-8ec4-b823ec6573f9\">\n",
              "    <div class=\"colab-df-container\">\n",
              "      <div>\n",
              "<style scoped>\n",
              "    .dataframe tbody tr th:only-of-type {\n",
              "        vertical-align: middle;\n",
              "    }\n",
              "\n",
              "    .dataframe tbody tr th {\n",
              "        vertical-align: top;\n",
              "    }\n",
              "\n",
              "    .dataframe thead th {\n",
              "        text-align: right;\n",
              "    }\n",
              "</style>\n",
              "<table border=\"1\" class=\"dataframe\">\n",
              "  <thead>\n",
              "    <tr style=\"text-align: right;\">\n",
              "      <th></th>\n",
              "      <th>count</th>\n",
              "      <th>mean</th>\n",
              "      <th>std</th>\n",
              "      <th>min</th>\n",
              "      <th>25%</th>\n",
              "      <th>50%</th>\n",
              "      <th>75%</th>\n",
              "      <th>max</th>\n",
              "    </tr>\n",
              "  </thead>\n",
              "  <tbody>\n",
              "    <tr>\n",
              "      <th>credit.policy</th>\n",
              "      <td>9578.0</td>\n",
              "      <td>0.804970</td>\n",
              "      <td>0.396245</td>\n",
              "      <td>0.000000</td>\n",
              "      <td>1.000000</td>\n",
              "      <td>1.000000</td>\n",
              "      <td>1.000000</td>\n",
              "      <td>1.000000e+00</td>\n",
              "    </tr>\n",
              "    <tr>\n",
              "      <th>int.rate</th>\n",
              "      <td>9578.0</td>\n",
              "      <td>0.122640</td>\n",
              "      <td>0.026847</td>\n",
              "      <td>0.060000</td>\n",
              "      <td>0.103900</td>\n",
              "      <td>0.122100</td>\n",
              "      <td>0.140700</td>\n",
              "      <td>2.164000e-01</td>\n",
              "    </tr>\n",
              "    <tr>\n",
              "      <th>installment</th>\n",
              "      <td>9578.0</td>\n",
              "      <td>319.089413</td>\n",
              "      <td>207.071301</td>\n",
              "      <td>15.670000</td>\n",
              "      <td>163.770000</td>\n",
              "      <td>268.950000</td>\n",
              "      <td>432.762500</td>\n",
              "      <td>9.401400e+02</td>\n",
              "    </tr>\n",
              "    <tr>\n",
              "      <th>log.annual.inc</th>\n",
              "      <td>9578.0</td>\n",
              "      <td>10.932117</td>\n",
              "      <td>0.614813</td>\n",
              "      <td>7.547502</td>\n",
              "      <td>10.558414</td>\n",
              "      <td>10.928884</td>\n",
              "      <td>11.291293</td>\n",
              "      <td>1.452835e+01</td>\n",
              "    </tr>\n",
              "    <tr>\n",
              "      <th>dti</th>\n",
              "      <td>9578.0</td>\n",
              "      <td>12.606679</td>\n",
              "      <td>6.883970</td>\n",
              "      <td>0.000000</td>\n",
              "      <td>7.212500</td>\n",
              "      <td>12.665000</td>\n",
              "      <td>17.950000</td>\n",
              "      <td>2.996000e+01</td>\n",
              "    </tr>\n",
              "    <tr>\n",
              "      <th>fico</th>\n",
              "      <td>9578.0</td>\n",
              "      <td>710.846314</td>\n",
              "      <td>37.970537</td>\n",
              "      <td>612.000000</td>\n",
              "      <td>682.000000</td>\n",
              "      <td>707.000000</td>\n",
              "      <td>737.000000</td>\n",
              "      <td>8.270000e+02</td>\n",
              "    </tr>\n",
              "    <tr>\n",
              "      <th>days.with.cr.line</th>\n",
              "      <td>9578.0</td>\n",
              "      <td>4560.767197</td>\n",
              "      <td>2496.930377</td>\n",
              "      <td>178.958333</td>\n",
              "      <td>2820.000000</td>\n",
              "      <td>4139.958333</td>\n",
              "      <td>5730.000000</td>\n",
              "      <td>1.763996e+04</td>\n",
              "    </tr>\n",
              "    <tr>\n",
              "      <th>revol.bal</th>\n",
              "      <td>9578.0</td>\n",
              "      <td>16913.963876</td>\n",
              "      <td>33756.189557</td>\n",
              "      <td>0.000000</td>\n",
              "      <td>3187.000000</td>\n",
              "      <td>8596.000000</td>\n",
              "      <td>18249.500000</td>\n",
              "      <td>1.207359e+06</td>\n",
              "    </tr>\n",
              "    <tr>\n",
              "      <th>revol.util</th>\n",
              "      <td>9578.0</td>\n",
              "      <td>46.799236</td>\n",
              "      <td>29.014417</td>\n",
              "      <td>0.000000</td>\n",
              "      <td>22.600000</td>\n",
              "      <td>46.300000</td>\n",
              "      <td>70.900000</td>\n",
              "      <td>1.190000e+02</td>\n",
              "    </tr>\n",
              "    <tr>\n",
              "      <th>inq.last.6mths</th>\n",
              "      <td>9578.0</td>\n",
              "      <td>1.577469</td>\n",
              "      <td>2.200245</td>\n",
              "      <td>0.000000</td>\n",
              "      <td>0.000000</td>\n",
              "      <td>1.000000</td>\n",
              "      <td>2.000000</td>\n",
              "      <td>3.300000e+01</td>\n",
              "    </tr>\n",
              "    <tr>\n",
              "      <th>delinq.2yrs</th>\n",
              "      <td>9578.0</td>\n",
              "      <td>0.163708</td>\n",
              "      <td>0.546215</td>\n",
              "      <td>0.000000</td>\n",
              "      <td>0.000000</td>\n",
              "      <td>0.000000</td>\n",
              "      <td>0.000000</td>\n",
              "      <td>1.300000e+01</td>\n",
              "    </tr>\n",
              "    <tr>\n",
              "      <th>pub.rec</th>\n",
              "      <td>9578.0</td>\n",
              "      <td>0.062122</td>\n",
              "      <td>0.262126</td>\n",
              "      <td>0.000000</td>\n",
              "      <td>0.000000</td>\n",
              "      <td>0.000000</td>\n",
              "      <td>0.000000</td>\n",
              "      <td>5.000000e+00</td>\n",
              "    </tr>\n",
              "    <tr>\n",
              "      <th>not.fully.paid</th>\n",
              "      <td>9578.0</td>\n",
              "      <td>0.160054</td>\n",
              "      <td>0.366676</td>\n",
              "      <td>0.000000</td>\n",
              "      <td>0.000000</td>\n",
              "      <td>0.000000</td>\n",
              "      <td>0.000000</td>\n",
              "      <td>1.000000e+00</td>\n",
              "    </tr>\n",
              "  </tbody>\n",
              "</table>\n",
              "</div>\n",
              "      <button class=\"colab-df-convert\" onclick=\"convertToInteractive('df-b1b828cb-753b-47ab-8ec4-b823ec6573f9')\"\n",
              "              title=\"Convert this dataframe to an interactive table.\"\n",
              "              style=\"display:none;\">\n",
              "        \n",
              "  <svg xmlns=\"http://www.w3.org/2000/svg\" height=\"24px\"viewBox=\"0 0 24 24\"\n",
              "       width=\"24px\">\n",
              "    <path d=\"M0 0h24v24H0V0z\" fill=\"none\"/>\n",
              "    <path d=\"M18.56 5.44l.94 2.06.94-2.06 2.06-.94-2.06-.94-.94-2.06-.94 2.06-2.06.94zm-11 1L8.5 8.5l.94-2.06 2.06-.94-2.06-.94L8.5 2.5l-.94 2.06-2.06.94zm10 10l.94 2.06.94-2.06 2.06-.94-2.06-.94-.94-2.06-.94 2.06-2.06.94z\"/><path d=\"M17.41 7.96l-1.37-1.37c-.4-.4-.92-.59-1.43-.59-.52 0-1.04.2-1.43.59L10.3 9.45l-7.72 7.72c-.78.78-.78 2.05 0 2.83L4 21.41c.39.39.9.59 1.41.59.51 0 1.02-.2 1.41-.59l7.78-7.78 2.81-2.81c.8-.78.8-2.07 0-2.86zM5.41 20L4 18.59l7.72-7.72 1.47 1.35L5.41 20z\"/>\n",
              "  </svg>\n",
              "      </button>\n",
              "      \n",
              "  <style>\n",
              "    .colab-df-container {\n",
              "      display:flex;\n",
              "      flex-wrap:wrap;\n",
              "      gap: 12px;\n",
              "    }\n",
              "\n",
              "    .colab-df-convert {\n",
              "      background-color: #E8F0FE;\n",
              "      border: none;\n",
              "      border-radius: 50%;\n",
              "      cursor: pointer;\n",
              "      display: none;\n",
              "      fill: #1967D2;\n",
              "      height: 32px;\n",
              "      padding: 0 0 0 0;\n",
              "      width: 32px;\n",
              "    }\n",
              "\n",
              "    .colab-df-convert:hover {\n",
              "      background-color: #E2EBFA;\n",
              "      box-shadow: 0px 1px 2px rgba(60, 64, 67, 0.3), 0px 1px 3px 1px rgba(60, 64, 67, 0.15);\n",
              "      fill: #174EA6;\n",
              "    }\n",
              "\n",
              "    [theme=dark] .colab-df-convert {\n",
              "      background-color: #3B4455;\n",
              "      fill: #D2E3FC;\n",
              "    }\n",
              "\n",
              "    [theme=dark] .colab-df-convert:hover {\n",
              "      background-color: #434B5C;\n",
              "      box-shadow: 0px 1px 3px 1px rgba(0, 0, 0, 0.15);\n",
              "      filter: drop-shadow(0px 1px 2px rgba(0, 0, 0, 0.3));\n",
              "      fill: #FFFFFF;\n",
              "    }\n",
              "  </style>\n",
              "\n",
              "      <script>\n",
              "        const buttonEl =\n",
              "          document.querySelector('#df-b1b828cb-753b-47ab-8ec4-b823ec6573f9 button.colab-df-convert');\n",
              "        buttonEl.style.display =\n",
              "          google.colab.kernel.accessAllowed ? 'block' : 'none';\n",
              "\n",
              "        async function convertToInteractive(key) {\n",
              "          const element = document.querySelector('#df-b1b828cb-753b-47ab-8ec4-b823ec6573f9');\n",
              "          const dataTable =\n",
              "            await google.colab.kernel.invokeFunction('convertToInteractive',\n",
              "                                                     [key], {});\n",
              "          if (!dataTable) return;\n",
              "\n",
              "          const docLinkHtml = 'Like what you see? Visit the ' +\n",
              "            '<a target=\"_blank\" href=https://colab.research.google.com/notebooks/data_table.ipynb>data table notebook</a>'\n",
              "            + ' to learn more about interactive tables.';\n",
              "          element.innerHTML = '';\n",
              "          dataTable['output_type'] = 'display_data';\n",
              "          await google.colab.output.renderOutput(dataTable, element);\n",
              "          const docLink = document.createElement('div');\n",
              "          docLink.innerHTML = docLinkHtml;\n",
              "          element.appendChild(docLink);\n",
              "        }\n",
              "      </script>\n",
              "    </div>\n",
              "  </div>\n",
              "  "
            ]
          },
          "metadata": {},
          "execution_count": 9
        }
      ]
    },
    {
      "cell_type": "markdown",
      "source": [
        "# 2.     Exploratory data analysis of different factors of the dataset.\n"
      ],
      "metadata": {
        "id": "lh1aS4oKjMvx"
      }
    },
    {
      "cell_type": "code",
      "source": [
        "num_cols = ['dti','revol.bal', 'inq.last.6mths', 'pub.rec']\n",
        "for i in range(0,len(num_cols),2):\n",
        " plt.figure(figsize=(12,4))\n",
        " plt.subplot(121)\n",
        " sns.distplot(df_loan[num_cols[i]], hist=True, kde=True)\n",
        " plt.subplot(122) \n",
        " sns.distplot(df_loan[num_cols[i+1]], hist=True, kde=True)\n",
        " plt.tight_layout()\n",
        " plt.show()\n"
      ],
      "metadata": {
        "id": "fThsl_LDPdQj",
        "colab": {
          "base_uri": "https://localhost:8080/",
          "height": 577
        },
        "outputId": "0c3cc113-d1fe-471c-a091-594a436e47f3"
      },
      "execution_count": 40,
      "outputs": [
        {
          "output_type": "display_data",
          "data": {
            "text/plain": [
              "<Figure size 864x288 with 2 Axes>"
            ],
            "image/png": "[encoded data removed]"
          },
          "metadata": {
            "needs_background": "light"
          }
        },
        {
          "output_type": "display_data",
          "data": {
            "text/plain": [
              "<Figure size 864x288 with 2 Axes>"
            ],
            "image/png": "[encoded data removed]"
          },
          "metadata": {
            "needs_background": "light"
          }
        }
      ]
    },
    {
      "cell_type": "markdown",
      "source": [
        "# Observations:\n",
        "1.   This borrower's income is same as debt, no money left over end of the month. \n",
        "2.   Decrease amount of unpaid at the end of the credit card billing cycle.\n",
        "3.   The last six months reduced in borrower of inquiries by creditors\n",
        "4.   Short spike, but was able to make payments, no frequency of deogatory public records. \n",
        "\n",
        "\n",
        "\n",
        "\n",
        "\n",
        "\n",
        "\n",
        "\n",
        "\n",
        "\n",
        "\n"
      ],
      "metadata": {
        "id": "zX5SgnKRXCzs"
      }
    },
    {
      "cell_type": "code",
      "source": [
        "sns.set_style('darkgrid')\n",
        "sns.countplot(x='not.fully.paid', data=df_loan)"
      ],
      "metadata": {
        "id": "JpWWwtP9c7Sd",
        "colab": {
          "base_uri": "https://localhost:8080/",
          "height": 296
        },
        "outputId": "7e164e4e-1b63-4638-8ae3-b2f3a57f26d8"
      },
      "execution_count": 11,
      "outputs": [
        {
          "output_type": "execute_result",
          "data": {
            "text/plain": [
              "<AxesSubplot:xlabel='not.fully.paid', ylabel='count'>"
            ]
          },
          "metadata": {},
          "execution_count": 11
        },
        {
          "output_type": "display_data",
          "data": {
            "text/plain": [
              "<Figure size 432x288 with 1 Axes>"
            ],
            "image/png": "[encoded data removed]"
          },
          "metadata": {}
        }
      ]
    },
    {
      "cell_type": "markdown",
      "source": [
        "# Check the label “no.fully.paid” distribution in the dataset.\n",
        "\n",
        "\n",
        "The data is imblance the predication will be biased since\n",
        "“not.fully.paid =0 “ has 83.9% filled, and only 16% is the “not.fully.paid=1”"
      ],
      "metadata": {
        "id": "Y2jj6yTcfVMT"
      }
    },
    {
      "cell_type": "code",
      "source": [
        "df_loan['not.fully.paid'].isnull().mean()\n",
        "df_loan.groupby('not.fully.paid')['not.fully.paid'].count()/len(df_loan)"
      ],
      "metadata": {
        "colab": {
          "base_uri": "https://localhost:8080/",
          "height": 0
        },
        "id": "FfXBst7lzDuU",
        "outputId": "746f81de-4ded-4950-a6c1-fda783610b07"
      },
      "execution_count": 36,
      "outputs": [
        {
          "output_type": "execute_result",
          "data": {
            "text/plain": [
              "not.fully.paid\n",
              "0    0.839946\n",
              "1    0.160054\n",
              "Name: not.fully.paid, dtype: float64"
            ]
          },
          "metadata": {},
          "execution_count": 36
        }
      ]
    },
    {
      "cell_type": "markdown",
      "source": [
        "# 3.     Additional Feature Engineering\n"
      ],
      "metadata": {
        "id": "bwS3HzZWjdB_"
      }
    },
    {
      "cell_type": "code",
      "source": [
        "plt.figure(figsize=(16,6))\n",
        "df_loan[df_loan['revol.bal']==1]['fico'].hist(alpha=0.5,color='green',bins=30,label='revol.bal=1')\n",
        "df_loan[df_loan['revol.bal']==0]['fico'].hist(alpha=0.5,color='gold',bins=30,label='revol.bal=0')\n",
        "plt.legend()\n",
        "plt.xlabel('FICO')\n"
      ],
      "metadata": {
        "id": "AtM-0qHKm-Nj",
        "colab": {
          "base_uri": "https://localhost:8080/",
          "height": 425
        },
        "outputId": "2a4a308d-7d77-42d6-d5e8-160c4449c75c"
      },
      "execution_count": 12,
      "outputs": [
        {
          "output_type": "execute_result",
          "data": {
            "text/plain": [
              "Text(0.5, 0, 'FICO')"
            ]
          },
          "metadata": {},
          "execution_count": 12
        },
        {
          "output_type": "display_data",
          "data": {
            "text/plain": [
              "<Figure size 1152x432 with 1 Axes>"
            ],
            "image/png": "[encoded data removed]"
          },
          "metadata": {}
        }
      ]
    },
    {
      "cell_type": "code",
      "source": [
        "plt.figure(figsize=(11,7))\n",
        "sns.lmplot(y='int.rate',x='fico',data=df_loan,hue='credit.policy',\n",
        "           col='not.fully.paid',palette='Set1')"
      ],
      "metadata": {
        "colab": {
          "base_uri": "https://localhost:8080/",
          "height": 404
        },
        "id": "vNi_GiVOzezY",
        "outputId": "d6ba356c-f820-4dc7-aa41-46f638ef5791"
      },
      "execution_count": 37,
      "outputs": [
        {
          "output_type": "execute_result",
          "data": {
            "text/plain": [
              "<seaborn.axisgrid.FacetGrid at 0x7f6693792070>"
            ]
          },
          "metadata": {},
          "execution_count": 37
        },
        {
          "output_type": "display_data",
          "data": {
            "text/plain": [
              "<Figure size 792x504 with 0 Axes>"
            ]
          },
          "metadata": {}
        },
        {
          "output_type": "display_data",
          "data": {
            "text/plain": [
              "<Figure size 789.25x360 with 2 Axes>"
            ],
            "image/png": "[encoded data removed]"
          },
          "metadata": {}
        }
      ]
    },
    {
      "cell_type": "markdown",
      "source": [
        "**revol.bal:** The borrower's revolving balance (amount unpaid at the end of the credit card billing cycle)."
      ],
      "metadata": {
        "id": "CU9FEnHLuTEI"
      }
    },
    {
      "cell_type": "code",
      "source": [
        "# create dummy variables\n",
        "df_dummy=pd.get_dummies(data=df_loan,drop_first=True)"
      ],
      "metadata": {
        "id": "KVYtTxnHjof3"
      },
      "execution_count": 26,
      "outputs": []
    },
    {
      "cell_type": "code",
      "source": [
        "# separate x and y\n",
        "x=df_dummy.drop(columns='not.fully.paid ')\n",
        "y=df_dummy.not.fully.paid \n",
        "\n"
      ],
      "metadata": {
        "id": "vGUv9wLmkBVR",
        "colab": {
          "base_uri": "https://localhost:8080/",
          "height": 130
        },
        "outputId": "ff13fc38-bb6e-4cd4-ed3a-b732681b839b"
      },
      "execution_count": 41,
      "outputs": [
        {
          "output_type": "error",
          "ename": "SyntaxError",
          "evalue": "ignored",
          "traceback": [
            "\u001b[0;36m  File \u001b[0;32m\"<ipython-input-41-8009c20653c1>\"\u001b[0;36m, line \u001b[0;32m3\u001b[0m\n\u001b[0;31m    y=df_dummy.not.fully.paid\u001b[0m\n\u001b[0m               ^\u001b[0m\n\u001b[0;31mSyntaxError\u001b[0m\u001b[0;31m:\u001b[0m invalid syntax\n"
          ]
        }
      ]
    }
  ]
}