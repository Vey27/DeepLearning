{
  "nbformat": 4,
  "nbformat_minor": 0,
  "metadata": {
    "colab": {
      "provenance": [],
      "toc_visible": true,
      "mount_file_id": "1Prb6cG29rQHM1ZzHZ9FdO_YkLpPOqn5X",
      "authorship_tag": "ABX9TyP0ux1I6Dh2MOz6oVDKD1uB",
      "include_colab_link": true
    },
    "kernelspec": {
      "name": "python3",
      "display_name": "Python 3"
    },
    "language_info": {
      "name": "python"
    },
    "gpuClass": "standard"
  },
  "cells": [
    {
      "cell_type": "markdown",
      "metadata": {
        "id": "view-in-github",
        "colab_type": "text"
      },
      "source": [
        "<a href=\"https://colab.research.google.com/github/Vey27/DeepLearning/blob/main/loan.ipynb\" target=\"_parent\"><img src=\"https://colab.research.google.com/assets/colab-badge.svg\" alt=\"Open In Colab\"/></a>"
      ]
    },
    {
      "cell_type": "markdown",
      "source": [
        "\n",
        "#Loan Data Analysis\n",
        "## Course-end Project 1 out 4 \n",
        "\n",
        "**DESCRIPTION**\n",
        "bold text\n",
        "Create a model that predicts whether or not a loan will be default using the historical data.\n",
        "\n",
        "**Problem Statement:**  \n",
        "For companies like Lending Club correctly predicting whether or not a loan will be a default is very important. In this project, using the historical data from 2007 to 2015, you have to build a deep learning model to predict the chance of default for future loans. As you will see later this dataset is highly imbalanced and includes a lot of features that makes this problem more challenging.\n",
        "\n",
        "**Domain**: Finance\n",
        "\n",
        "Analysis to be done: Perform data preprocessing and build a deep learning prediction model. \n",
        "\n",
        "**Content:**\n",
        "Dataset columns and definition:\n",
        "\n",
        "**credit.policy:** 1 if the customer meets the credit underwriting criteria of LendingClub.com, and 0 otherwise.\n",
        "\n",
        "**purpose:** The purpose of the loan (takes values \"credit_card\", \"debt_consolidation\", \"educational\", \"major_purchase\", \"small_business\", and \"all_other\").\n",
        "\n",
        "**int.rate:** The interest rate of the loan, as a proportion (a rate of 11% would be stored as 0.11). Borrowers judged by LendingClub.com to be more risky are assigned higher interest rates.\n",
        "\n",
        "**installment:** The monthly installments owed by the borrower if the loan is funded.\n",
        "\n",
        "**log.annual.inc:** The natural log of the self-reported annual income of the borrower.\n",
        "\n",
        "**dti:** The debt-to-income ratio of the borrower (amount of debt divided by annual income).\n",
        "\n",
        "**fico**: The FICO credit score of the borrower.\n",
        "\n",
        "**days.with.cr.line:** The number of days the borrower has had a credit line.\n",
        "\n",
        "**revol.bal:** The borrower's revolving balance (amount unpaid at the end of the credit card billing cycle).\n",
        "\n",
        "**revol.util:** The borrower's revolving line utilization rate (the amount of the credit line used relative to total credit available).\n",
        "\n",
        "**inq.last.6mths:** The borrower's number of inquiries by creditors in the last 6 months.\n",
        "\n",
        "**delinq.2yrs:** The number of times the borrower had been 30+ days past due on a payment in the past 2 years.\n",
        "\n",
        "**pub.rec:** The borrower's number of derogatory public records (bankruptcy filings, tax liens, or judgments).\n",
        "\n",
        " \n",
        "**Steps to perform:**\n",
        "Perform exploratory data analysis and feature engineering and then apply feature engineering. Follow up with a deep learning model to predict whether or not the loan will be default using the historical data.\n",
        "\n",
        "Tasks:\n",
        "\n",
        "1.     Feature Transformation\n",
        "\n",
        "Transform categorical values into numerical values (discrete)\n",
        "\n",
        "2.     Exploratory data analysis of different factors of the dataset.\n",
        "\n",
        "3.     Additional Feature Engineering\n",
        "\n",
        "You will check the correlation between features and will drop those features which have a strong correlation\n",
        "\n",
        "This will help reduce the number of features and will leave you with the most relevant features\n",
        "\n",
        "4.     Modeling\n",
        "\n",
        "After applying EDA and feature engineering, you are now ready to build the predictive models\n",
        "\n",
        "In this part, you will create a deep learning model using Keras with Tensorflow backend"
      ],
      "metadata": {
        "id": "tsn9mwiUMDhA"
      }
    },
    {
      "cell_type": "code",
      "source": [
        "from google.colab import files\n",
        "\n",
        "uploaded = files.upload()\n",
        "\n",
        "for fn in uploaded.keys():\n",
        "  print('User uploaded file \"{name}\" with length {length} bytes'.format(\n",
        "      name=fn, length=len(uploaded[fn])))"
      ],
      "metadata": {
        "colab": {
          "base_uri": "https://localhost:8080/",
          "height": 90
        },
        "id": "IY-74C4VfTwV",
        "outputId": "e0e5e414-64a7-4d10-9206-a8e54d7c01fb"
      },
      "execution_count": 147,
      "outputs": [
        {
          "output_type": "display_data",
          "data": {
            "text/plain": [
              "<IPython.core.display.HTML object>"
            ],
            "text/html": [
              "\n",
              "     <input type=\"file\" id=\"files-07b30692-8e95-4c2a-81e4-e277400e0f66\" name=\"files[]\" multiple disabled\n",
              "        style=\"border:none\" />\n",
              "     <output id=\"result-07b30692-8e95-4c2a-81e4-e277400e0f66\">\n",
              "      Upload widget is only available when the cell has been executed in the\n",
              "      current browser session. Please rerun this cell to enable.\n",
              "      </output>\n",
              "      <script>// Copyright 2017 Google LLC\n",
              "//\n",
              "// Licensed under the Apache License, Version 2.0 (the \"License\");\n",
              "// you may not use this file except in compliance with the License.\n",
              "// You may obtain a copy of the License at\n",
              "//\n",
              "//      http://www.apache.org/licenses/LICENSE-2.0\n",
              "//\n",
              "// Unless required by applicable law or agreed to in writing, software\n",
              "// distributed under the License is distributed on an \"AS IS\" BASIS,\n",
              "// WITHOUT WARRANTIES OR CONDITIONS OF ANY KIND, either express or implied.\n",
              "// See the License for the specific language governing permissions and\n",
              "// limitations under the License.\n",
              "\n",
              "/**\n",
              " * @fileoverview Helpers for google.colab Python module.\n",
              " */\n",
              "(function(scope) {\n",
              "function span(text, styleAttributes = {}) {\n",
              "  const element = document.createElement('span');\n",
              "  element.textContent = text;\n",
              "  for (const key of Object.keys(styleAttributes)) {\n",
              "    element.style[key] = styleAttributes[key];\n",
              "  }\n",
              "  return element;\n",
              "}\n",
              "\n",
              "// Max number of bytes which will be uploaded at a time.\n",
              "const MAX_PAYLOAD_SIZE = 100 * 1024;\n",
              "\n",
              "function _uploadFiles(inputId, outputId) {\n",
              "  const steps = uploadFilesStep(inputId, outputId);\n",
              "  const outputElement = document.getElementById(outputId);\n",
              "  // Cache steps on the outputElement to make it available for the next call\n",
              "  // to uploadFilesContinue from Python.\n",
              "  outputElement.steps = steps;\n",
              "\n",
              "  return _uploadFilesContinue(outputId);\n",
              "}\n",
              "\n",
              "// This is roughly an async generator (not supported in the browser yet),\n",
              "// where there are multiple asynchronous steps and the Python side is going\n",
              "// to poll for completion of each step.\n",
              "// This uses a Promise to block the python side on completion of each step,\n",
              "// then passes the result of the previous step as the input to the next step.\n",
              "function _uploadFilesContinue(outputId) {\n",
              "  const outputElement = document.getElementById(outputId);\n",
              "  const steps = outputElement.steps;\n",
              "\n",
              "  const next = steps.next(outputElement.lastPromiseValue);\n",
              "  return Promise.resolve(next.value.promise).then((value) => {\n",
              "    // Cache the last promise value to make it available to the next\n",
              "    // step of the generator.\n",
              "    outputElement.lastPromiseValue = value;\n",
              "    return next.value.response;\n",
              "  });\n",
              "}\n",
              "\n",
              "/**\n",
              " * Generator function which is called between each async step of the upload\n",
              " * process.\n",
              " * @param {string} inputId Element ID of the input file picker element.\n",
              " * @param {string} outputId Element ID of the output display.\n",
              " * @return {!Iterable<!Object>} Iterable of next steps.\n",
              " */\n",
              "function* uploadFilesStep(inputId, outputId) {\n",
              "  const inputElement = document.getElementById(inputId);\n",
              "  inputElement.disabled = false;\n",
              "\n",
              "  const outputElement = document.getElementById(outputId);\n",
              "  outputElement.innerHTML = '';\n",
              "\n",
              "  const pickedPromise = new Promise((resolve) => {\n",
              "    inputElement.addEventListener('change', (e) => {\n",
              "      resolve(e.target.files);\n",
              "    });\n",
              "  });\n",
              "\n",
              "  const cancel = document.createElement('button');\n",
              "  inputElement.parentElement.appendChild(cancel);\n",
              "  cancel.textContent = 'Cancel upload';\n",
              "  const cancelPromise = new Promise((resolve) => {\n",
              "    cancel.onclick = () => {\n",
              "      resolve(null);\n",
              "    };\n",
              "  });\n",
              "\n",
              "  // Wait for the user to pick the files.\n",
              "  const files = yield {\n",
              "    promise: Promise.race([pickedPromise, cancelPromise]),\n",
              "    response: {\n",
              "      action: 'starting',\n",
              "    }\n",
              "  };\n",
              "\n",
              "  cancel.remove();\n",
              "\n",
              "  // Disable the input element since further picks are not allowed.\n",
              "  inputElement.disabled = true;\n",
              "\n",
              "  if (!files) {\n",
              "    return {\n",
              "      response: {\n",
              "        action: 'complete',\n",
              "      }\n",
              "    };\n",
              "  }\n",
              "\n",
              "  for (const file of files) {\n",
              "    const li = document.createElement('li');\n",
              "    li.append(span(file.name, {fontWeight: 'bold'}));\n",
              "    li.append(span(\n",
              "        `(${file.type || 'n/a'}) - ${file.size} bytes, ` +\n",
              "        `last modified: ${\n",
              "            file.lastModifiedDate ? file.lastModifiedDate.toLocaleDateString() :\n",
              "                                    'n/a'} - `));\n",
              "    const percent = span('0% done');\n",
              "    li.appendChild(percent);\n",
              "\n",
              "    outputElement.appendChild(li);\n",
              "\n",
              "    const fileDataPromise = new Promise((resolve) => {\n",
              "      const reader = new FileReader();\n",
              "      reader.onload = (e) => {\n",
              "        resolve(e.target.result);\n",
              "      };\n",
              "      reader.readAsArrayBuffer(file);\n",
              "    });\n",
              "    // Wait for the data to be ready.\n",
              "    let fileData = yield {\n",
              "      promise: fileDataPromise,\n",
              "      response: {\n",
              "        action: 'continue',\n",
              "      }\n",
              "    };\n",
              "\n",
              "    // Use a chunked sending to avoid message size limits. See b/62115660.\n",
              "    let position = 0;\n",
              "    do {\n",
              "      const length = Math.min(fileData.byteLength - position, MAX_PAYLOAD_SIZE);\n",
              "      const chunk = new Uint8Array(fileData, position, length);\n",
              "      position += length;\n",
              "\n",
              "      const base64 = btoa(String.fromCharCode.apply(null, chunk));\n",
              "      yield {\n",
              "        response: {\n",
              "          action: 'append',\n",
              "          file: file.name,\n",
              "          data: base64,\n",
              "        },\n",
              "      };\n",
              "\n",
              "      let percentDone = fileData.byteLength === 0 ?\n",
              "          100 :\n",
              "          Math.round((position / fileData.byteLength) * 100);\n",
              "      percent.textContent = `${percentDone}% done`;\n",
              "\n",
              "    } while (position < fileData.byteLength);\n",
              "  }\n",
              "\n",
              "  // All done.\n",
              "  yield {\n",
              "    response: {\n",
              "      action: 'complete',\n",
              "    }\n",
              "  };\n",
              "}\n",
              "\n",
              "scope.google = scope.google || {};\n",
              "scope.google.colab = scope.google.colab || {};\n",
              "scope.google.colab._files = {\n",
              "  _uploadFiles,\n",
              "  _uploadFilesContinue,\n",
              "};\n",
              "})(self);\n",
              "</script> "
            ]
          },
          "metadata": {}
        },
        {
          "output_type": "stream",
          "name": "stdout",
          "text": [
            "Saving loan_data.csv to loan_data (3).csv\n",
            "User uploaded file \"loan_data.csv\" with length 751253 bytes\n"
          ]
        }
      ]
    },
    {
      "cell_type": "code",
      "source": [
        "import pandas as pd\n",
        "import numpy as np\n",
        "import matplotlib.pyplot as plt\n",
        "import seaborn as sns\n",
        "\n",
        "%matplotlib inline  \n",
        "\n",
        "import pandas as pd, joblib\n",
        "\n",
        "import warnings\n",
        "warnings.filterwarnings('ignore')"
      ],
      "metadata": {
        "id": "FEbmOeMqQoUZ"
      },
      "execution_count": 148,
      "outputs": []
    },
    {
      "cell_type": "code",
      "source": [
        "\n",
        "df_loan.describe()"
      ],
      "metadata": {
        "id": "OvYRRLCoMTJe",
        "colab": {
          "base_uri": "https://localhost:8080/",
          "height": 364
        },
        "outputId": "1ef010bd-dca0-43d4-fc1c-87eece3bdd27"
      },
      "execution_count": 149,
      "outputs": [
        {
          "output_type": "execute_result",
          "data": {
            "text/plain": [
              "       credit.policy      purpose     int.rate  installment  log.annual.inc  \\\n",
              "count    9578.000000  9578.000000  9578.000000  9578.000000     9578.000000   \n",
              "mean        0.804970     1.944038     0.122640   319.089413       10.932117   \n",
              "std         0.396245     1.686881     0.026847   207.071301        0.614813   \n",
              "min         0.000000     0.000000     0.060000    15.670000        7.547502   \n",
              "25%         1.000000     1.000000     0.103900   163.770000       10.558414   \n",
              "50%         1.000000     2.000000     0.122100   268.950000       10.928884   \n",
              "75%         1.000000     2.000000     0.140700   432.762500       11.291293   \n",
              "max         1.000000     6.000000     0.216400   940.140000       14.528354   \n",
              "\n",
              "               dti         fico  days.with.cr.line     revol.bal   revol.util  \\\n",
              "count  9578.000000  9578.000000        9578.000000  9.578000e+03  9578.000000   \n",
              "mean     12.606679   710.846314        4560.767197  1.691396e+04    46.799236   \n",
              "std       6.883970    37.970537        2496.930377  3.375619e+04    29.014417   \n",
              "min       0.000000   612.000000         178.958333  0.000000e+00     0.000000   \n",
              "25%       7.212500   682.000000        2820.000000  3.187000e+03    22.600000   \n",
              "50%      12.665000   707.000000        4139.958333  8.596000e+03    46.300000   \n",
              "75%      17.950000   737.000000        5730.000000  1.824950e+04    70.900000   \n",
              "max      29.960000   827.000000       17639.958330  1.207359e+06   119.000000   \n",
              "\n",
              "       inq.last.6mths  delinq.2yrs      pub.rec  not.fully.paid  \n",
              "count     9578.000000  9578.000000  9578.000000     9578.000000  \n",
              "mean         1.577469     0.163708     0.062122        0.160054  \n",
              "std          2.200245     0.546215     0.262126        0.366676  \n",
              "min          0.000000     0.000000     0.000000        0.000000  \n",
              "25%          0.000000     0.000000     0.000000        0.000000  \n",
              "50%          1.000000     0.000000     0.000000        0.000000  \n",
              "75%          2.000000     0.000000     0.000000        0.000000  \n",
              "max         33.000000    13.000000     5.000000        1.000000  "
            ],
            "text/html": [
              "\n",
              "  <div id=\"df-c9412757-865c-405b-b8d9-b25fea059aa0\">\n",
              "    <div class=\"colab-df-container\">\n",
              "      <div>\n",
              "<style scoped>\n",
              "    .dataframe tbody tr th:only-of-type {\n",
              "        vertical-align: middle;\n",
              "    }\n",
              "\n",
              "    .dataframe tbody tr th {\n",
              "        vertical-align: top;\n",
              "    }\n",
              "\n",
              "    .dataframe thead th {\n",
              "        text-align: right;\n",
              "    }\n",
              "</style>\n",
              "<table border=\"1\" class=\"dataframe\">\n",
              "  <thead>\n",
              "    <tr style=\"text-align: right;\">\n",
              "      <th></th>\n",
              "      <th>credit.policy</th>\n",
              "      <th>purpose</th>\n",
              "      <th>int.rate</th>\n",
              "      <th>installment</th>\n",
              "      <th>log.annual.inc</th>\n",
              "      <th>dti</th>\n",
              "      <th>fico</th>\n",
              "      <th>days.with.cr.line</th>\n",
              "      <th>revol.bal</th>\n",
              "      <th>revol.util</th>\n",
              "      <th>inq.last.6mths</th>\n",
              "      <th>delinq.2yrs</th>\n",
              "      <th>pub.rec</th>\n",
              "      <th>not.fully.paid</th>\n",
              "    </tr>\n",
              "  </thead>\n",
              "  <tbody>\n",
              "    <tr>\n",
              "      <th>count</th>\n",
              "      <td>9578.000000</td>\n",
              "      <td>9578.000000</td>\n",
              "      <td>9578.000000</td>\n",
              "      <td>9578.000000</td>\n",
              "      <td>9578.000000</td>\n",
              "      <td>9578.000000</td>\n",
              "      <td>9578.000000</td>\n",
              "      <td>9578.000000</td>\n",
              "      <td>9.578000e+03</td>\n",
              "      <td>9578.000000</td>\n",
              "      <td>9578.000000</td>\n",
              "      <td>9578.000000</td>\n",
              "      <td>9578.000000</td>\n",
              "      <td>9578.000000</td>\n",
              "    </tr>\n",
              "    <tr>\n",
              "      <th>mean</th>\n",
              "      <td>0.804970</td>\n",
              "      <td>1.944038</td>\n",
              "      <td>0.122640</td>\n",
              "      <td>319.089413</td>\n",
              "      <td>10.932117</td>\n",
              "      <td>12.606679</td>\n",
              "      <td>710.846314</td>\n",
              "      <td>4560.767197</td>\n",
              "      <td>1.691396e+04</td>\n",
              "      <td>46.799236</td>\n",
              "      <td>1.577469</td>\n",
              "      <td>0.163708</td>\n",
              "      <td>0.062122</td>\n",
              "      <td>0.160054</td>\n",
              "    </tr>\n",
              "    <tr>\n",
              "      <th>std</th>\n",
              "      <td>0.396245</td>\n",
              "      <td>1.686881</td>\n",
              "      <td>0.026847</td>\n",
              "      <td>207.071301</td>\n",
              "      <td>0.614813</td>\n",
              "      <td>6.883970</td>\n",
              "      <td>37.970537</td>\n",
              "      <td>2496.930377</td>\n",
              "      <td>3.375619e+04</td>\n",
              "      <td>29.014417</td>\n",
              "      <td>2.200245</td>\n",
              "      <td>0.546215</td>\n",
              "      <td>0.262126</td>\n",
              "      <td>0.366676</td>\n",
              "    </tr>\n",
              "    <tr>\n",
              "      <th>min</th>\n",
              "      <td>0.000000</td>\n",
              "      <td>0.000000</td>\n",
              "      <td>0.060000</td>\n",
              "      <td>15.670000</td>\n",
              "      <td>7.547502</td>\n",
              "      <td>0.000000</td>\n",
              "      <td>612.000000</td>\n",
              "      <td>178.958333</td>\n",
              "      <td>0.000000e+00</td>\n",
              "      <td>0.000000</td>\n",
              "      <td>0.000000</td>\n",
              "      <td>0.000000</td>\n",
              "      <td>0.000000</td>\n",
              "      <td>0.000000</td>\n",
              "    </tr>\n",
              "    <tr>\n",
              "      <th>25%</th>\n",
              "      <td>1.000000</td>\n",
              "      <td>1.000000</td>\n",
              "      <td>0.103900</td>\n",
              "      <td>163.770000</td>\n",
              "      <td>10.558414</td>\n",
              "      <td>7.212500</td>\n",
              "      <td>682.000000</td>\n",
              "      <td>2820.000000</td>\n",
              "      <td>3.187000e+03</td>\n",
              "      <td>22.600000</td>\n",
              "      <td>0.000000</td>\n",
              "      <td>0.000000</td>\n",
              "      <td>0.000000</td>\n",
              "      <td>0.000000</td>\n",
              "    </tr>\n",
              "    <tr>\n",
              "      <th>50%</th>\n",
              "      <td>1.000000</td>\n",
              "      <td>2.000000</td>\n",
              "      <td>0.122100</td>\n",
              "      <td>268.950000</td>\n",
              "      <td>10.928884</td>\n",
              "      <td>12.665000</td>\n",
              "      <td>707.000000</td>\n",
              "      <td>4139.958333</td>\n",
              "      <td>8.596000e+03</td>\n",
              "      <td>46.300000</td>\n",
              "      <td>1.000000</td>\n",
              "      <td>0.000000</td>\n",
              "      <td>0.000000</td>\n",
              "      <td>0.000000</td>\n",
              "    </tr>\n",
              "    <tr>\n",
              "      <th>75%</th>\n",
              "      <td>1.000000</td>\n",
              "      <td>2.000000</td>\n",
              "      <td>0.140700</td>\n",
              "      <td>432.762500</td>\n",
              "      <td>11.291293</td>\n",
              "      <td>17.950000</td>\n",
              "      <td>737.000000</td>\n",
              "      <td>5730.000000</td>\n",
              "      <td>1.824950e+04</td>\n",
              "      <td>70.900000</td>\n",
              "      <td>2.000000</td>\n",
              "      <td>0.000000</td>\n",
              "      <td>0.000000</td>\n",
              "      <td>0.000000</td>\n",
              "    </tr>\n",
              "    <tr>\n",
              "      <th>max</th>\n",
              "      <td>1.000000</td>\n",
              "      <td>6.000000</td>\n",
              "      <td>0.216400</td>\n",
              "      <td>940.140000</td>\n",
              "      <td>14.528354</td>\n",
              "      <td>29.960000</td>\n",
              "      <td>827.000000</td>\n",
              "      <td>17639.958330</td>\n",
              "      <td>1.207359e+06</td>\n",
              "      <td>119.000000</td>\n",
              "      <td>33.000000</td>\n",
              "      <td>13.000000</td>\n",
              "      <td>5.000000</td>\n",
              "      <td>1.000000</td>\n",
              "    </tr>\n",
              "  </tbody>\n",
              "</table>\n",
              "</div>\n",
              "      <button class=\"colab-df-convert\" onclick=\"convertToInteractive('df-c9412757-865c-405b-b8d9-b25fea059aa0')\"\n",
              "              title=\"Convert this dataframe to an interactive table.\"\n",
              "              style=\"display:none;\">\n",
              "        \n",
              "  <svg xmlns=\"http://www.w3.org/2000/svg\" height=\"24px\"viewBox=\"0 0 24 24\"\n",
              "       width=\"24px\">\n",
              "    <path d=\"M0 0h24v24H0V0z\" fill=\"none\"/>\n",
              "    <path d=\"M18.56 5.44l.94 2.06.94-2.06 2.06-.94-2.06-.94-.94-2.06-.94 2.06-2.06.94zm-11 1L8.5 8.5l.94-2.06 2.06-.94-2.06-.94L8.5 2.5l-.94 2.06-2.06.94zm10 10l.94 2.06.94-2.06 2.06-.94-2.06-.94-.94-2.06-.94 2.06-2.06.94z\"/><path d=\"M17.41 7.96l-1.37-1.37c-.4-.4-.92-.59-1.43-.59-.52 0-1.04.2-1.43.59L10.3 9.45l-7.72 7.72c-.78.78-.78 2.05 0 2.83L4 21.41c.39.39.9.59 1.41.59.51 0 1.02-.2 1.41-.59l7.78-7.78 2.81-2.81c.8-.78.8-2.07 0-2.86zM5.41 20L4 18.59l7.72-7.72 1.47 1.35L5.41 20z\"/>\n",
              "  </svg>\n",
              "      </button>\n",
              "      \n",
              "  <style>\n",
              "    .colab-df-container {\n",
              "      display:flex;\n",
              "      flex-wrap:wrap;\n",
              "      gap: 12px;\n",
              "    }\n",
              "\n",
              "    .colab-df-convert {\n",
              "      background-color: #E8F0FE;\n",
              "      border: none;\n",
              "      border-radius: 50%;\n",
              "      cursor: pointer;\n",
              "      display: none;\n",
              "      fill: #1967D2;\n",
              "      height: 32px;\n",
              "      padding: 0 0 0 0;\n",
              "      width: 32px;\n",
              "    }\n",
              "\n",
              "    .colab-df-convert:hover {\n",
              "      background-color: #E2EBFA;\n",
              "      box-shadow: 0px 1px 2px rgba(60, 64, 67, 0.3), 0px 1px 3px 1px rgba(60, 64, 67, 0.15);\n",
              "      fill: #174EA6;\n",
              "    }\n",
              "\n",
              "    [theme=dark] .colab-df-convert {\n",
              "      background-color: #3B4455;\n",
              "      fill: #D2E3FC;\n",
              "    }\n",
              "\n",
              "    [theme=dark] .colab-df-convert:hover {\n",
              "      background-color: #434B5C;\n",
              "      box-shadow: 0px 1px 3px 1px rgba(0, 0, 0, 0.15);\n",
              "      filter: drop-shadow(0px 1px 2px rgba(0, 0, 0, 0.3));\n",
              "      fill: #FFFFFF;\n",
              "    }\n",
              "  </style>\n",
              "\n",
              "      <script>\n",
              "        const buttonEl =\n",
              "          document.querySelector('#df-c9412757-865c-405b-b8d9-b25fea059aa0 button.colab-df-convert');\n",
              "        buttonEl.style.display =\n",
              "          google.colab.kernel.accessAllowed ? 'block' : 'none';\n",
              "\n",
              "        async function convertToInteractive(key) {\n",
              "          const element = document.querySelector('#df-c9412757-865c-405b-b8d9-b25fea059aa0');\n",
              "          const dataTable =\n",
              "            await google.colab.kernel.invokeFunction('convertToInteractive',\n",
              "                                                     [key], {});\n",
              "          if (!dataTable) return;\n",
              "\n",
              "          const docLinkHtml = 'Like what you see? Visit the ' +\n",
              "            '<a target=\"_blank\" href=https://colab.research.google.com/notebooks/data_table.ipynb>data table notebook</a>'\n",
              "            + ' to learn more about interactive tables.';\n",
              "          element.innerHTML = '';\n",
              "          dataTable['output_type'] = 'display_data';\n",
              "          await google.colab.output.renderOutput(dataTable, element);\n",
              "          const docLink = document.createElement('div');\n",
              "          docLink.innerHTML = docLinkHtml;\n",
              "          element.appendChild(docLink);\n",
              "        }\n",
              "      </script>\n",
              "    </div>\n",
              "  </div>\n",
              "  "
            ]
          },
          "metadata": {},
          "execution_count": 149
        }
      ]
    },
    {
      "cell_type": "code",
      "source": [
        "# Visualize the correlation coefficient between various variables using Heatmap\n",
        "coRR = df_loan.corr(method='pearson')\n",
        "coRR\n",
        "map = sns.heatmap(coRR, cmap='coolwarm')\n",
        "plt.show()"
      ],
      "metadata": {
        "colab": {
          "base_uri": "https://localhost:8080/",
          "height": 341
        },
        "id": "chwOWHCbGxNj",
        "outputId": "46a37277-e33b-4ce2-fdfe-d04b23853931"
      },
      "execution_count": 150,
      "outputs": [
        {
          "output_type": "display_data",
          "data": {
            "text/plain": [
              "<Figure size 432x288 with 2 Axes>"
            ],
            "image/png": "[encoded data removed]"
          },
          "metadata": {
            "needs_background": "light"
          }
        }
      ]
    },
    {
      "cell_type": "markdown",
      "source": [
        "# Observation:\n",
        "From the above Heatmap, it is concluded that all the features are important and needs to be considered for building the model\n"
      ],
      "metadata": {
        "id": "TJ5lxT_rG6lf"
      }
    },
    {
      "cell_type": "markdown",
      "source": [
        "# 1.     Feature Transformation"
      ],
      "metadata": {
        "id": "cV3EPdzZNcBJ"
      }
    },
    {
      "cell_type": "code",
      "source": [
        "# Check for unique values in the column 'purpose'\n",
        "df_loan.purpose.unique()\n"
      ],
      "metadata": {
        "colab": {
          "base_uri": "https://localhost:8080/",
          "height": 0
        },
        "id": "zugNenB_DMC8",
        "outputId": "c6023744-93b2-4c99-ca7a-d9d8cae2170a"
      },
      "execution_count": 151,
      "outputs": [
        {
          "output_type": "execute_result",
          "data": {
            "text/plain": [
              "array([2, 1, 0, 4, 6, 5, 3])"
            ]
          },
          "metadata": {},
          "execution_count": 151
        }
      ]
    },
    {
      "cell_type": "code",
      "source": [
        "# The column 'purpose' is categorical. Converting the data into numeric\n",
        "# Label Encoding ---> Create Dummy Variables for Column 'Purpose'\n",
        "from sklearn.preprocessing import LabelEncoder\n",
        "le = LabelEncoder()\n",
        "df_loan['purpose'] = le.fit_transform(df_loan['purpose'])\n",
        "df_loan"
      ],
      "metadata": {
        "colab": {
          "base_uri": "https://localhost:8080/",
          "height": 424
        },
        "id": "S4ADE_6zDgEp",
        "outputId": "706bc986-f9e1-4bf9-9ad9-0c501e9b9c2a"
      },
      "execution_count": 152,
      "outputs": [
        {
          "output_type": "execute_result",
          "data": {
            "text/plain": [
              "      credit.policy  purpose  int.rate  installment  log.annual.inc    dti  \\\n",
              "0                 1        2    0.1189       829.10       11.350407  19.48   \n",
              "1                 1        1    0.1071       228.22       11.082143  14.29   \n",
              "2                 1        2    0.1357       366.86       10.373491  11.63   \n",
              "3                 1        2    0.1008       162.34       11.350407   8.10   \n",
              "4                 1        1    0.1426       102.92       11.299732  14.97   \n",
              "...             ...      ...       ...          ...             ...    ...   \n",
              "9573              0        0    0.1461       344.76       12.180755  10.39   \n",
              "9574              0        0    0.1253       257.70       11.141862   0.21   \n",
              "9575              0        2    0.1071        97.81       10.596635  13.09   \n",
              "9576              0        4    0.1600       351.58       10.819778  19.18   \n",
              "9577              0        2    0.1392       853.43       11.264464  16.28   \n",
              "\n",
              "      fico  days.with.cr.line  revol.bal  revol.util  inq.last.6mths  \\\n",
              "0      737        5639.958333      28854        52.1               0   \n",
              "1      707        2760.000000      33623        76.7               0   \n",
              "2      682        4710.000000       3511        25.6               1   \n",
              "3      712        2699.958333      33667        73.2               1   \n",
              "4      667        4066.000000       4740        39.5               0   \n",
              "...    ...                ...        ...         ...             ...   \n",
              "9573   672       10474.000000     215372        82.1               2   \n",
              "9574   722        4380.000000        184         1.1               5   \n",
              "9575   687        3450.041667      10036        82.9               8   \n",
              "9576   692        1800.000000          0         3.2               5   \n",
              "9577   732        4740.000000      37879        57.0               6   \n",
              "\n",
              "      delinq.2yrs  pub.rec  not.fully.paid  \n",
              "0               0        0               0  \n",
              "1               0        0               0  \n",
              "2               0        0               0  \n",
              "3               0        0               0  \n",
              "4               1        0               0  \n",
              "...           ...      ...             ...  \n",
              "9573            0        0               1  \n",
              "9574            0        0               1  \n",
              "9575            0        0               1  \n",
              "9576            0        0               1  \n",
              "9577            0        0               1  \n",
              "\n",
              "[9578 rows x 14 columns]"
            ],
            "text/html": [
              "\n",
              "  <div id=\"df-da39f8dc-827b-484e-92e3-9d1acd4c650e\">\n",
              "    <div class=\"colab-df-container\">\n",
              "      <div>\n",
              "<style scoped>\n",
              "    .dataframe tbody tr th:only-of-type {\n",
              "        vertical-align: middle;\n",
              "    }\n",
              "\n",
              "    .dataframe tbody tr th {\n",
              "        vertical-align: top;\n",
              "    }\n",
              "\n",
              "    .dataframe thead th {\n",
              "        text-align: right;\n",
              "    }\n",
              "</style>\n",
              "<table border=\"1\" class=\"dataframe\">\n",
              "  <thead>\n",
              "    <tr style=\"text-align: right;\">\n",
              "      <th></th>\n",
              "      <th>credit.policy</th>\n",
              "      <th>purpose</th>\n",
              "      <th>int.rate</th>\n",
              "      <th>installment</th>\n",
              "      <th>log.annual.inc</th>\n",
              "      <th>dti</th>\n",
              "      <th>fico</th>\n",
              "      <th>days.with.cr.line</th>\n",
              "      <th>revol.bal</th>\n",
              "      <th>revol.util</th>\n",
              "      <th>inq.last.6mths</th>\n",
              "      <th>delinq.2yrs</th>\n",
              "      <th>pub.rec</th>\n",
              "      <th>not.fully.paid</th>\n",
              "    </tr>\n",
              "  </thead>\n",
              "  <tbody>\n",
              "    <tr>\n",
              "      <th>0</th>\n",
              "      <td>1</td>\n",
              "      <td>2</td>\n",
              "      <td>0.1189</td>\n",
              "      <td>829.10</td>\n",
              "      <td>11.350407</td>\n",
              "      <td>19.48</td>\n",
              "      <td>737</td>\n",
              "      <td>5639.958333</td>\n",
              "      <td>28854</td>\n",
              "      <td>52.1</td>\n",
              "      <td>0</td>\n",
              "      <td>0</td>\n",
              "      <td>0</td>\n",
              "      <td>0</td>\n",
              "    </tr>\n",
              "    <tr>\n",
              "      <th>1</th>\n",
              "      <td>1</td>\n",
              "      <td>1</td>\n",
              "      <td>0.1071</td>\n",
              "      <td>228.22</td>\n",
              "      <td>11.082143</td>\n",
              "      <td>14.29</td>\n",
              "      <td>707</td>\n",
              "      <td>2760.000000</td>\n",
              "      <td>33623</td>\n",
              "      <td>76.7</td>\n",
              "      <td>0</td>\n",
              "      <td>0</td>\n",
              "      <td>0</td>\n",
              "      <td>0</td>\n",
              "    </tr>\n",
              "    <tr>\n",
              "      <th>2</th>\n",
              "      <td>1</td>\n",
              "      <td>2</td>\n",
              "      <td>0.1357</td>\n",
              "      <td>366.86</td>\n",
              "      <td>10.373491</td>\n",
              "      <td>11.63</td>\n",
              "      <td>682</td>\n",
              "      <td>4710.000000</td>\n",
              "      <td>3511</td>\n",
              "      <td>25.6</td>\n",
              "      <td>1</td>\n",
              "      <td>0</td>\n",
              "      <td>0</td>\n",
              "      <td>0</td>\n",
              "    </tr>\n",
              "    <tr>\n",
              "      <th>3</th>\n",
              "      <td>1</td>\n",
              "      <td>2</td>\n",
              "      <td>0.1008</td>\n",
              "      <td>162.34</td>\n",
              "      <td>11.350407</td>\n",
              "      <td>8.10</td>\n",
              "      <td>712</td>\n",
              "      <td>2699.958333</td>\n",
              "      <td>33667</td>\n",
              "      <td>73.2</td>\n",
              "      <td>1</td>\n",
              "      <td>0</td>\n",
              "      <td>0</td>\n",
              "      <td>0</td>\n",
              "    </tr>\n",
              "    <tr>\n",
              "      <th>4</th>\n",
              "      <td>1</td>\n",
              "      <td>1</td>\n",
              "      <td>0.1426</td>\n",
              "      <td>102.92</td>\n",
              "      <td>11.299732</td>\n",
              "      <td>14.97</td>\n",
              "      <td>667</td>\n",
              "      <td>4066.000000</td>\n",
              "      <td>4740</td>\n",
              "      <td>39.5</td>\n",
              "      <td>0</td>\n",
              "      <td>1</td>\n",
              "      <td>0</td>\n",
              "      <td>0</td>\n",
              "    </tr>\n",
              "    <tr>\n",
              "      <th>...</th>\n",
              "      <td>...</td>\n",
              "      <td>...</td>\n",
              "      <td>...</td>\n",
              "      <td>...</td>\n",
              "      <td>...</td>\n",
              "      <td>...</td>\n",
              "      <td>...</td>\n",
              "      <td>...</td>\n",
              "      <td>...</td>\n",
              "      <td>...</td>\n",
              "      <td>...</td>\n",
              "      <td>...</td>\n",
              "      <td>...</td>\n",
              "      <td>...</td>\n",
              "    </tr>\n",
              "    <tr>\n",
              "      <th>9573</th>\n",
              "      <td>0</td>\n",
              "      <td>0</td>\n",
              "      <td>0.1461</td>\n",
              "      <td>344.76</td>\n",
              "      <td>12.180755</td>\n",
              "      <td>10.39</td>\n",
              "      <td>672</td>\n",
              "      <td>10474.000000</td>\n",
              "      <td>215372</td>\n",
              "      <td>82.1</td>\n",
              "      <td>2</td>\n",
              "      <td>0</td>\n",
              "      <td>0</td>\n",
              "      <td>1</td>\n",
              "    </tr>\n",
              "    <tr>\n",
              "      <th>9574</th>\n",
              "      <td>0</td>\n",
              "      <td>0</td>\n",
              "      <td>0.1253</td>\n",
              "      <td>257.70</td>\n",
              "      <td>11.141862</td>\n",
              "      <td>0.21</td>\n",
              "      <td>722</td>\n",
              "      <td>4380.000000</td>\n",
              "      <td>184</td>\n",
              "      <td>1.1</td>\n",
              "      <td>5</td>\n",
              "      <td>0</td>\n",
              "      <td>0</td>\n",
              "      <td>1</td>\n",
              "    </tr>\n",
              "    <tr>\n",
              "      <th>9575</th>\n",
              "      <td>0</td>\n",
              "      <td>2</td>\n",
              "      <td>0.1071</td>\n",
              "      <td>97.81</td>\n",
              "      <td>10.596635</td>\n",
              "      <td>13.09</td>\n",
              "      <td>687</td>\n",
              "      <td>3450.041667</td>\n",
              "      <td>10036</td>\n",
              "      <td>82.9</td>\n",
              "      <td>8</td>\n",
              "      <td>0</td>\n",
              "      <td>0</td>\n",
              "      <td>1</td>\n",
              "    </tr>\n",
              "    <tr>\n",
              "      <th>9576</th>\n",
              "      <td>0</td>\n",
              "      <td>4</td>\n",
              "      <td>0.1600</td>\n",
              "      <td>351.58</td>\n",
              "      <td>10.819778</td>\n",
              "      <td>19.18</td>\n",
              "      <td>692</td>\n",
              "      <td>1800.000000</td>\n",
              "      <td>0</td>\n",
              "      <td>3.2</td>\n",
              "      <td>5</td>\n",
              "      <td>0</td>\n",
              "      <td>0</td>\n",
              "      <td>1</td>\n",
              "    </tr>\n",
              "    <tr>\n",
              "      <th>9577</th>\n",
              "      <td>0</td>\n",
              "      <td>2</td>\n",
              "      <td>0.1392</td>\n",
              "      <td>853.43</td>\n",
              "      <td>11.264464</td>\n",
              "      <td>16.28</td>\n",
              "      <td>732</td>\n",
              "      <td>4740.000000</td>\n",
              "      <td>37879</td>\n",
              "      <td>57.0</td>\n",
              "      <td>6</td>\n",
              "      <td>0</td>\n",
              "      <td>0</td>\n",
              "      <td>1</td>\n",
              "    </tr>\n",
              "  </tbody>\n",
              "</table>\n",
              "<p>9578 rows × 14 columns</p>\n",
              "</div>\n",
              "      <button class=\"colab-df-convert\" onclick=\"convertToInteractive('df-da39f8dc-827b-484e-92e3-9d1acd4c650e')\"\n",
              "              title=\"Convert this dataframe to an interactive table.\"\n",
              "              style=\"display:none;\">\n",
              "        \n",
              "  <svg xmlns=\"http://www.w3.org/2000/svg\" height=\"24px\"viewBox=\"0 0 24 24\"\n",
              "       width=\"24px\">\n",
              "    <path d=\"M0 0h24v24H0V0z\" fill=\"none\"/>\n",
              "    <path d=\"M18.56 5.44l.94 2.06.94-2.06 2.06-.94-2.06-.94-.94-2.06-.94 2.06-2.06.94zm-11 1L8.5 8.5l.94-2.06 2.06-.94-2.06-.94L8.5 2.5l-.94 2.06-2.06.94zm10 10l.94 2.06.94-2.06 2.06-.94-2.06-.94-.94-2.06-.94 2.06-2.06.94z\"/><path d=\"M17.41 7.96l-1.37-1.37c-.4-.4-.92-.59-1.43-.59-.52 0-1.04.2-1.43.59L10.3 9.45l-7.72 7.72c-.78.78-.78 2.05 0 2.83L4 21.41c.39.39.9.59 1.41.59.51 0 1.02-.2 1.41-.59l7.78-7.78 2.81-2.81c.8-.78.8-2.07 0-2.86zM5.41 20L4 18.59l7.72-7.72 1.47 1.35L5.41 20z\"/>\n",
              "  </svg>\n",
              "      </button>\n",
              "      \n",
              "  <style>\n",
              "    .colab-df-container {\n",
              "      display:flex;\n",
              "      flex-wrap:wrap;\n",
              "      gap: 12px;\n",
              "    }\n",
              "\n",
              "    .colab-df-convert {\n",
              "      background-color: #E8F0FE;\n",
              "      border: none;\n",
              "      border-radius: 50%;\n",
              "      cursor: pointer;\n",
              "      display: none;\n",
              "      fill: #1967D2;\n",
              "      height: 32px;\n",
              "      padding: 0 0 0 0;\n",
              "      width: 32px;\n",
              "    }\n",
              "\n",
              "    .colab-df-convert:hover {\n",
              "      background-color: #E2EBFA;\n",
              "      box-shadow: 0px 1px 2px rgba(60, 64, 67, 0.3), 0px 1px 3px 1px rgba(60, 64, 67, 0.15);\n",
              "      fill: #174EA6;\n",
              "    }\n",
              "\n",
              "    [theme=dark] .colab-df-convert {\n",
              "      background-color: #3B4455;\n",
              "      fill: #D2E3FC;\n",
              "    }\n",
              "\n",
              "    [theme=dark] .colab-df-convert:hover {\n",
              "      background-color: #434B5C;\n",
              "      box-shadow: 0px 1px 3px 1px rgba(0, 0, 0, 0.15);\n",
              "      filter: drop-shadow(0px 1px 2px rgba(0, 0, 0, 0.3));\n",
              "      fill: #FFFFFF;\n",
              "    }\n",
              "  </style>\n",
              "\n",
              "      <script>\n",
              "        const buttonEl =\n",
              "          document.querySelector('#df-da39f8dc-827b-484e-92e3-9d1acd4c650e button.colab-df-convert');\n",
              "        buttonEl.style.display =\n",
              "          google.colab.kernel.accessAllowed ? 'block' : 'none';\n",
              "\n",
              "        async function convertToInteractive(key) {\n",
              "          const element = document.querySelector('#df-da39f8dc-827b-484e-92e3-9d1acd4c650e');\n",
              "          const dataTable =\n",
              "            await google.colab.kernel.invokeFunction('convertToInteractive',\n",
              "                                                     [key], {});\n",
              "          if (!dataTable) return;\n",
              "\n",
              "          const docLinkHtml = 'Like what you see? Visit the ' +\n",
              "            '<a target=\"_blank\" href=https://colab.research.google.com/notebooks/data_table.ipynb>data table notebook</a>'\n",
              "            + ' to learn more about interactive tables.';\n",
              "          element.innerHTML = '';\n",
              "          dataTable['output_type'] = 'display_data';\n",
              "          await google.colab.output.renderOutput(dataTable, element);\n",
              "          const docLink = document.createElement('div');\n",
              "          docLink.innerHTML = docLinkHtml;\n",
              "          element.appendChild(docLink);\n",
              "        }\n",
              "      </script>\n",
              "    </div>\n",
              "  </div>\n",
              "  "
            ]
          },
          "metadata": {},
          "execution_count": 152
        }
      ]
    },
    {
      "cell_type": "code",
      "source": [
        "df_loan.shape"
      ],
      "metadata": {
        "id": "u335oa5OMrA2",
        "colab": {
          "base_uri": "https://localhost:8080/",
          "height": 0
        },
        "outputId": "6b562144-7277-4851-c838-2f0aad795db9"
      },
      "execution_count": 153,
      "outputs": [
        {
          "output_type": "execute_result",
          "data": {
            "text/plain": [
              "(9578, 14)"
            ]
          },
          "metadata": {},
          "execution_count": 153
        }
      ]
    },
    {
      "cell_type": "code",
      "source": [
        "df_loan.info()"
      ],
      "metadata": {
        "colab": {
          "base_uri": "https://localhost:8080/",
          "height": 0
        },
        "id": "J9uYku6pwt-X",
        "outputId": "fc04345c-9d9e-46a3-c7fb-1792c61ca904"
      },
      "execution_count": 154,
      "outputs": [
        {
          "output_type": "stream",
          "name": "stdout",
          "text": [
            "<class 'pandas.core.frame.DataFrame'>\n",
            "RangeIndex: 9578 entries, 0 to 9577\n",
            "Data columns (total 14 columns):\n",
            " #   Column             Non-Null Count  Dtype  \n",
            "---  ------             --------------  -----  \n",
            " 0   credit.policy      9578 non-null   int64  \n",
            " 1   purpose            9578 non-null   int64  \n",
            " 2   int.rate           9578 non-null   float64\n",
            " 3   installment        9578 non-null   float64\n",
            " 4   log.annual.inc     9578 non-null   float64\n",
            " 5   dti                9578 non-null   float64\n",
            " 6   fico               9578 non-null   int64  \n",
            " 7   days.with.cr.line  9578 non-null   float64\n",
            " 8   revol.bal          9578 non-null   int64  \n",
            " 9   revol.util         9578 non-null   float64\n",
            " 10  inq.last.6mths     9578 non-null   int64  \n",
            " 11  delinq.2yrs        9578 non-null   int64  \n",
            " 12  pub.rec            9578 non-null   int64  \n",
            " 13  not.fully.paid     9578 non-null   int64  \n",
            "dtypes: float64(6), int64(8)\n",
            "memory usage: 1.0 MB\n"
          ]
        }
      ]
    },
    {
      "cell_type": "code",
      "source": [
        "df_loan.describe().transpose()\n"
      ],
      "metadata": {
        "id": "lqNGgsQkTGCA",
        "colab": {
          "base_uri": "https://localhost:8080/",
          "height": 488
        },
        "outputId": "8e5c4a15-ea59-4060-a02d-6b58b2af5273"
      },
      "execution_count": 155,
      "outputs": [
        {
          "output_type": "execute_result",
          "data": {
            "text/plain": [
              "                    count          mean           std         min  \\\n",
              "credit.policy      9578.0      0.804970      0.396245    0.000000   \n",
              "purpose            9578.0      1.944038      1.686881    0.000000   \n",
              "int.rate           9578.0      0.122640      0.026847    0.060000   \n",
              "installment        9578.0    319.089413    207.071301   15.670000   \n",
              "log.annual.inc     9578.0     10.932117      0.614813    7.547502   \n",
              "dti                9578.0     12.606679      6.883970    0.000000   \n",
              "fico               9578.0    710.846314     37.970537  612.000000   \n",
              "days.with.cr.line  9578.0   4560.767197   2496.930377  178.958333   \n",
              "revol.bal          9578.0  16913.963876  33756.189557    0.000000   \n",
              "revol.util         9578.0     46.799236     29.014417    0.000000   \n",
              "inq.last.6mths     9578.0      1.577469      2.200245    0.000000   \n",
              "delinq.2yrs        9578.0      0.163708      0.546215    0.000000   \n",
              "pub.rec            9578.0      0.062122      0.262126    0.000000   \n",
              "not.fully.paid     9578.0      0.160054      0.366676    0.000000   \n",
              "\n",
              "                           25%          50%           75%           max  \n",
              "credit.policy         1.000000     1.000000      1.000000  1.000000e+00  \n",
              "purpose               1.000000     2.000000      2.000000  6.000000e+00  \n",
              "int.rate              0.103900     0.122100      0.140700  2.164000e-01  \n",
              "installment         163.770000   268.950000    432.762500  9.401400e+02  \n",
              "log.annual.inc       10.558414    10.928884     11.291293  1.452835e+01  \n",
              "dti                   7.212500    12.665000     17.950000  2.996000e+01  \n",
              "fico                682.000000   707.000000    737.000000  8.270000e+02  \n",
              "days.with.cr.line  2820.000000  4139.958333   5730.000000  1.763996e+04  \n",
              "revol.bal          3187.000000  8596.000000  18249.500000  1.207359e+06  \n",
              "revol.util           22.600000    46.300000     70.900000  1.190000e+02  \n",
              "inq.last.6mths        0.000000     1.000000      2.000000  3.300000e+01  \n",
              "delinq.2yrs           0.000000     0.000000      0.000000  1.300000e+01  \n",
              "pub.rec               0.000000     0.000000      0.000000  5.000000e+00  \n",
              "not.fully.paid        0.000000     0.000000      0.000000  1.000000e+00  "
            ],
            "text/html": [
              "\n",
              "  <div id=\"df-c88b5772-681d-42e9-a1b7-7904e1a696e2\">\n",
              "    <div class=\"colab-df-container\">\n",
              "      <div>\n",
              "<style scoped>\n",
              "    .dataframe tbody tr th:only-of-type {\n",
              "        vertical-align: middle;\n",
              "    }\n",
              "\n",
              "    .dataframe tbody tr th {\n",
              "        vertical-align: top;\n",
              "    }\n",
              "\n",
              "    .dataframe thead th {\n",
              "        text-align: right;\n",
              "    }\n",
              "</style>\n",
              "<table border=\"1\" class=\"dataframe\">\n",
              "  <thead>\n",
              "    <tr style=\"text-align: right;\">\n",
              "      <th></th>\n",
              "      <th>count</th>\n",
              "      <th>mean</th>\n",
              "      <th>std</th>\n",
              "      <th>min</th>\n",
              "      <th>25%</th>\n",
              "      <th>50%</th>\n",
              "      <th>75%</th>\n",
              "      <th>max</th>\n",
              "    </tr>\n",
              "  </thead>\n",
              "  <tbody>\n",
              "    <tr>\n",
              "      <th>credit.policy</th>\n",
              "      <td>9578.0</td>\n",
              "      <td>0.804970</td>\n",
              "      <td>0.396245</td>\n",
              "      <td>0.000000</td>\n",
              "      <td>1.000000</td>\n",
              "      <td>1.000000</td>\n",
              "      <td>1.000000</td>\n",
              "      <td>1.000000e+00</td>\n",
              "    </tr>\n",
              "    <tr>\n",
              "      <th>purpose</th>\n",
              "      <td>9578.0</td>\n",
              "      <td>1.944038</td>\n",
              "      <td>1.686881</td>\n",
              "      <td>0.000000</td>\n",
              "      <td>1.000000</td>\n",
              "      <td>2.000000</td>\n",
              "      <td>2.000000</td>\n",
              "      <td>6.000000e+00</td>\n",
              "    </tr>\n",
              "    <tr>\n",
              "      <th>int.rate</th>\n",
              "      <td>9578.0</td>\n",
              "      <td>0.122640</td>\n",
              "      <td>0.026847</td>\n",
              "      <td>0.060000</td>\n",
              "      <td>0.103900</td>\n",
              "      <td>0.122100</td>\n",
              "      <td>0.140700</td>\n",
              "      <td>2.164000e-01</td>\n",
              "    </tr>\n",
              "    <tr>\n",
              "      <th>installment</th>\n",
              "      <td>9578.0</td>\n",
              "      <td>319.089413</td>\n",
              "      <td>207.071301</td>\n",
              "      <td>15.670000</td>\n",
              "      <td>163.770000</td>\n",
              "      <td>268.950000</td>\n",
              "      <td>432.762500</td>\n",
              "      <td>9.401400e+02</td>\n",
              "    </tr>\n",
              "    <tr>\n",
              "      <th>log.annual.inc</th>\n",
              "      <td>9578.0</td>\n",
              "      <td>10.932117</td>\n",
              "      <td>0.614813</td>\n",
              "      <td>7.547502</td>\n",
              "      <td>10.558414</td>\n",
              "      <td>10.928884</td>\n",
              "      <td>11.291293</td>\n",
              "      <td>1.452835e+01</td>\n",
              "    </tr>\n",
              "    <tr>\n",
              "      <th>dti</th>\n",
              "      <td>9578.0</td>\n",
              "      <td>12.606679</td>\n",
              "      <td>6.883970</td>\n",
              "      <td>0.000000</td>\n",
              "      <td>7.212500</td>\n",
              "      <td>12.665000</td>\n",
              "      <td>17.950000</td>\n",
              "      <td>2.996000e+01</td>\n",
              "    </tr>\n",
              "    <tr>\n",
              "      <th>fico</th>\n",
              "      <td>9578.0</td>\n",
              "      <td>710.846314</td>\n",
              "      <td>37.970537</td>\n",
              "      <td>612.000000</td>\n",
              "      <td>682.000000</td>\n",
              "      <td>707.000000</td>\n",
              "      <td>737.000000</td>\n",
              "      <td>8.270000e+02</td>\n",
              "    </tr>\n",
              "    <tr>\n",
              "      <th>days.with.cr.line</th>\n",
              "      <td>9578.0</td>\n",
              "      <td>4560.767197</td>\n",
              "      <td>2496.930377</td>\n",
              "      <td>178.958333</td>\n",
              "      <td>2820.000000</td>\n",
              "      <td>4139.958333</td>\n",
              "      <td>5730.000000</td>\n",
              "      <td>1.763996e+04</td>\n",
              "    </tr>\n",
              "    <tr>\n",
              "      <th>revol.bal</th>\n",
              "      <td>9578.0</td>\n",
              "      <td>16913.963876</td>\n",
              "      <td>33756.189557</td>\n",
              "      <td>0.000000</td>\n",
              "      <td>3187.000000</td>\n",
              "      <td>8596.000000</td>\n",
              "      <td>18249.500000</td>\n",
              "      <td>1.207359e+06</td>\n",
              "    </tr>\n",
              "    <tr>\n",
              "      <th>revol.util</th>\n",
              "      <td>9578.0</td>\n",
              "      <td>46.799236</td>\n",
              "      <td>29.014417</td>\n",
              "      <td>0.000000</td>\n",
              "      <td>22.600000</td>\n",
              "      <td>46.300000</td>\n",
              "      <td>70.900000</td>\n",
              "      <td>1.190000e+02</td>\n",
              "    </tr>\n",
              "    <tr>\n",
              "      <th>inq.last.6mths</th>\n",
              "      <td>9578.0</td>\n",
              "      <td>1.577469</td>\n",
              "      <td>2.200245</td>\n",
              "      <td>0.000000</td>\n",
              "      <td>0.000000</td>\n",
              "      <td>1.000000</td>\n",
              "      <td>2.000000</td>\n",
              "      <td>3.300000e+01</td>\n",
              "    </tr>\n",
              "    <tr>\n",
              "      <th>delinq.2yrs</th>\n",
              "      <td>9578.0</td>\n",
              "      <td>0.163708</td>\n",
              "      <td>0.546215</td>\n",
              "      <td>0.000000</td>\n",
              "      <td>0.000000</td>\n",
              "      <td>0.000000</td>\n",
              "      <td>0.000000</td>\n",
              "      <td>1.300000e+01</td>\n",
              "    </tr>\n",
              "    <tr>\n",
              "      <th>pub.rec</th>\n",
              "      <td>9578.0</td>\n",
              "      <td>0.062122</td>\n",
              "      <td>0.262126</td>\n",
              "      <td>0.000000</td>\n",
              "      <td>0.000000</td>\n",
              "      <td>0.000000</td>\n",
              "      <td>0.000000</td>\n",
              "      <td>5.000000e+00</td>\n",
              "    </tr>\n",
              "    <tr>\n",
              "      <th>not.fully.paid</th>\n",
              "      <td>9578.0</td>\n",
              "      <td>0.160054</td>\n",
              "      <td>0.366676</td>\n",
              "      <td>0.000000</td>\n",
              "      <td>0.000000</td>\n",
              "      <td>0.000000</td>\n",
              "      <td>0.000000</td>\n",
              "      <td>1.000000e+00</td>\n",
              "    </tr>\n",
              "  </tbody>\n",
              "</table>\n",
              "</div>\n",
              "      <button class=\"colab-df-convert\" onclick=\"convertToInteractive('df-c88b5772-681d-42e9-a1b7-7904e1a696e2')\"\n",
              "              title=\"Convert this dataframe to an interactive table.\"\n",
              "              style=\"display:none;\">\n",
              "        \n",
              "  <svg xmlns=\"http://www.w3.org/2000/svg\" height=\"24px\"viewBox=\"0 0 24 24\"\n",
              "       width=\"24px\">\n",
              "    <path d=\"M0 0h24v24H0V0z\" fill=\"none\"/>\n",
              "    <path d=\"M18.56 5.44l.94 2.06.94-2.06 2.06-.94-2.06-.94-.94-2.06-.94 2.06-2.06.94zm-11 1L8.5 8.5l.94-2.06 2.06-.94-2.06-.94L8.5 2.5l-.94 2.06-2.06.94zm10 10l.94 2.06.94-2.06 2.06-.94-2.06-.94-.94-2.06-.94 2.06-2.06.94z\"/><path d=\"M17.41 7.96l-1.37-1.37c-.4-.4-.92-.59-1.43-.59-.52 0-1.04.2-1.43.59L10.3 9.45l-7.72 7.72c-.78.78-.78 2.05 0 2.83L4 21.41c.39.39.9.59 1.41.59.51 0 1.02-.2 1.41-.59l7.78-7.78 2.81-2.81c.8-.78.8-2.07 0-2.86zM5.41 20L4 18.59l7.72-7.72 1.47 1.35L5.41 20z\"/>\n",
              "  </svg>\n",
              "      </button>\n",
              "      \n",
              "  <style>\n",
              "    .colab-df-container {\n",
              "      display:flex;\n",
              "      flex-wrap:wrap;\n",
              "      gap: 12px;\n",
              "    }\n",
              "\n",
              "    .colab-df-convert {\n",
              "      background-color: #E8F0FE;\n",
              "      border: none;\n",
              "      border-radius: 50%;\n",
              "      cursor: pointer;\n",
              "      display: none;\n",
              "      fill: #1967D2;\n",
              "      height: 32px;\n",
              "      padding: 0 0 0 0;\n",
              "      width: 32px;\n",
              "    }\n",
              "\n",
              "    .colab-df-convert:hover {\n",
              "      background-color: #E2EBFA;\n",
              "      box-shadow: 0px 1px 2px rgba(60, 64, 67, 0.3), 0px 1px 3px 1px rgba(60, 64, 67, 0.15);\n",
              "      fill: #174EA6;\n",
              "    }\n",
              "\n",
              "    [theme=dark] .colab-df-convert {\n",
              "      background-color: #3B4455;\n",
              "      fill: #D2E3FC;\n",
              "    }\n",
              "\n",
              "    [theme=dark] .colab-df-convert:hover {\n",
              "      background-color: #434B5C;\n",
              "      box-shadow: 0px 1px 3px 1px rgba(0, 0, 0, 0.15);\n",
              "      filter: drop-shadow(0px 1px 2px rgba(0, 0, 0, 0.3));\n",
              "      fill: #FFFFFF;\n",
              "    }\n",
              "  </style>\n",
              "\n",
              "      <script>\n",
              "        const buttonEl =\n",
              "          document.querySelector('#df-c88b5772-681d-42e9-a1b7-7904e1a696e2 button.colab-df-convert');\n",
              "        buttonEl.style.display =\n",
              "          google.colab.kernel.accessAllowed ? 'block' : 'none';\n",
              "\n",
              "        async function convertToInteractive(key) {\n",
              "          const element = document.querySelector('#df-c88b5772-681d-42e9-a1b7-7904e1a696e2');\n",
              "          const dataTable =\n",
              "            await google.colab.kernel.invokeFunction('convertToInteractive',\n",
              "                                                     [key], {});\n",
              "          if (!dataTable) return;\n",
              "\n",
              "          const docLinkHtml = 'Like what you see? Visit the ' +\n",
              "            '<a target=\"_blank\" href=https://colab.research.google.com/notebooks/data_table.ipynb>data table notebook</a>'\n",
              "            + ' to learn more about interactive tables.';\n",
              "          element.innerHTML = '';\n",
              "          dataTable['output_type'] = 'display_data';\n",
              "          await google.colab.output.renderOutput(dataTable, element);\n",
              "          const docLink = document.createElement('div');\n",
              "          docLink.innerHTML = docLinkHtml;\n",
              "          element.appendChild(docLink);\n",
              "        }\n",
              "      </script>\n",
              "    </div>\n",
              "  </div>\n",
              "  "
            ]
          },
          "metadata": {},
          "execution_count": 155
        }
      ]
    },
    {
      "cell_type": "code",
      "source": [
        "df = df_loan.drop_duplicates()\n",
        "df.info()\n"
      ],
      "metadata": {
        "colab": {
          "base_uri": "https://localhost:8080/",
          "height": 0
        },
        "id": "LYP1Ez5-EAD3",
        "outputId": "58c2d4f0-43f3-456d-d964-22709791e73e"
      },
      "execution_count": 156,
      "outputs": [
        {
          "output_type": "stream",
          "name": "stdout",
          "text": [
            "<class 'pandas.core.frame.DataFrame'>\n",
            "Int64Index: 9578 entries, 0 to 9577\n",
            "Data columns (total 14 columns):\n",
            " #   Column             Non-Null Count  Dtype  \n",
            "---  ------             --------------  -----  \n",
            " 0   credit.policy      9578 non-null   int64  \n",
            " 1   purpose            9578 non-null   int64  \n",
            " 2   int.rate           9578 non-null   float64\n",
            " 3   installment        9578 non-null   float64\n",
            " 4   log.annual.inc     9578 non-null   float64\n",
            " 5   dti                9578 non-null   float64\n",
            " 6   fico               9578 non-null   int64  \n",
            " 7   days.with.cr.line  9578 non-null   float64\n",
            " 8   revol.bal          9578 non-null   int64  \n",
            " 9   revol.util         9578 non-null   float64\n",
            " 10  inq.last.6mths     9578 non-null   int64  \n",
            " 11  delinq.2yrs        9578 non-null   int64  \n",
            " 12  pub.rec            9578 non-null   int64  \n",
            " 13  not.fully.paid     9578 non-null   int64  \n",
            "dtypes: float64(6), int64(8)\n",
            "memory usage: 1.1 MB\n"
          ]
        }
      ]
    },
    {
      "cell_type": "code",
      "source": [
        "# check for Null values, if any \n",
        "df.isnull().any()\n"
      ],
      "metadata": {
        "colab": {
          "base_uri": "https://localhost:8080/",
          "height": 0
        },
        "id": "C1ziF1D9EMC5",
        "outputId": "9afc3e61-376d-479f-c648-95f3e48faecf"
      },
      "execution_count": 157,
      "outputs": [
        {
          "output_type": "execute_result",
          "data": {
            "text/plain": [
              "credit.policy        False\n",
              "purpose              False\n",
              "int.rate             False\n",
              "installment          False\n",
              "log.annual.inc       False\n",
              "dti                  False\n",
              "fico                 False\n",
              "days.with.cr.line    False\n",
              "revol.bal            False\n",
              "revol.util           False\n",
              "inq.last.6mths       False\n",
              "delinq.2yrs          False\n",
              "pub.rec              False\n",
              "not.fully.paid       False\n",
              "dtype: bool"
            ]
          },
          "metadata": {},
          "execution_count": 157
        }
      ]
    },
    {
      "cell_type": "code",
      "source": [
        "# Check whether the dataset is balanced or unbalanced\n",
        "df['credit.policy'].value_counts()\n"
      ],
      "metadata": {
        "colab": {
          "base_uri": "https://localhost:8080/",
          "height": 0
        },
        "id": "Hq54HSxvETHK",
        "outputId": "79af3d7c-d848-4425-80a0-0cf4c53d3713"
      },
      "execution_count": 158,
      "outputs": [
        {
          "output_type": "execute_result",
          "data": {
            "text/plain": [
              "1    7710\n",
              "0    1868\n",
              "Name: credit.policy, dtype: int64"
            ]
          },
          "metadata": {},
          "execution_count": 158
        }
      ]
    },
    {
      "cell_type": "markdown",
      "source": [
        "# 2.     Exploratory data analysis of different factors of the dataset.\n",
        "Create a histogram of two FICO distributions on top of each other, one for each credit.policy outcome.\n",
        "\n"
      ],
      "metadata": {
        "id": "lh1aS4oKjMvx"
      }
    },
    {
      "cell_type": "code",
      "source": [
        "# Creating a histogram\n",
        "plt.figure(figsize=(10,6))\n",
        "df[df['credit.policy']==1]['fico'].hist(alpha=0.5,color='blue', bins=30,\n",
        " label='Credit.Policy=1')\n",
        "df[df['credit.policy']==0]['fico'].hist(alpha=0.5,color='red', bins=30,\n",
        " label='Credit.Policy=0')\n",
        "plt.legend()\n",
        "plt.xlabel('FICO')\n"
      ],
      "metadata": {
        "colab": {
          "base_uri": "https://localhost:8080/",
          "height": 405
        },
        "id": "dWeYbnXH6Si1",
        "outputId": "b4941cb1-aed4-494f-bc01-d2f2ddf404b2"
      },
      "execution_count": 159,
      "outputs": [
        {
          "output_type": "execute_result",
          "data": {
            "text/plain": [
              "Text(0.5, 0, 'FICO')"
            ]
          },
          "metadata": {},
          "execution_count": 159
        },
        {
          "output_type": "display_data",
          "data": {
            "text/plain": [
              "<Figure size 720x432 with 1 Axes>"
            ],
            "image/png": "[encoded data removed]"
          },
          "metadata": {
            "needs_background": "light"
          }
        }
      ]
    },
    {
      "cell_type": "markdown",
      "source": [
        "Create a similar figure; select the not.fully.paid column"
      ],
      "metadata": {
        "id": "D_Yw06qU7TAz"
      }
    },
    {
      "cell_type": "code",
      "source": [
        "\n",
        "plt.figure(figsize=(10,6))\n",
        "df[df['not.fully.paid']==1]['fico'].hist(alpha=0.5,color='blue',\n",
        " bins=30,label='not.fully.paid=1')\n",
        "df[df['not.fully.paid']==0]['fico'].hist(alpha=0.5,color='red',\n",
        " bins=30,label='not.fully.paid=0')\n",
        "plt.legend()\n",
        "plt.xlabel('FICO')"
      ],
      "metadata": {
        "colab": {
          "base_uri": "https://localhost:8080/",
          "height": 405
        },
        "id": "1WzmcWc47VJH",
        "outputId": "6c2689d2-16df-4dcf-9249-2ef067ae0cf6"
      },
      "execution_count": 160,
      "outputs": [
        {
          "output_type": "execute_result",
          "data": {
            "text/plain": [
              "Text(0.5, 0, 'FICO')"
            ]
          },
          "metadata": {},
          "execution_count": 160
        },
        {
          "output_type": "display_data",
          "data": {
            "text/plain": [
              "<Figure size 720x432 with 1 Axes>"
            ],
            "image/png": "[encoded data removed]"
          },
          "metadata": {
            "needs_background": "light"
          }
        }
      ]
    },
    {
      "cell_type": "markdown",
      "source": [
        "Create a countplot using seaborn showing the counts of loans by purpose with the hue defined by not.fully.paid.\n"
      ],
      "metadata": {
        "id": "b2Kwbghw7pR-"
      }
    },
    {
      "cell_type": "code",
      "source": [
        " #Creating countplot\n",
        "plt.figure(figsize=(11,7))\n",
        "sns.countplot(x='purpose',hue='not.fully.paid',data=df,palette='Set1')\n"
      ],
      "metadata": {
        "colab": {
          "base_uri": "https://localhost:8080/",
          "height": 461
        },
        "id": "jrObHj_472TJ",
        "outputId": "96536bc7-f39c-4b05-c799-9df008beed2f"
      },
      "execution_count": 161,
      "outputs": [
        {
          "output_type": "execute_result",
          "data": {
            "text/plain": [
              "<AxesSubplot:xlabel='purpose', ylabel='count'>"
            ]
          },
          "metadata": {},
          "execution_count": 161
        },
        {
          "output_type": "display_data",
          "data": {
            "text/plain": [
              "<Figure size 792x504 with 1 Axes>"
            ],
            "image/png": "[encoded data removed]"
          },
          "metadata": {
            "needs_background": "light"
          }
        }
      ]
    },
    {
      "cell_type": "code",
      "source": [],
      "metadata": {
        "id": "ZhjRJB1c8QaX"
      },
      "execution_count": 161,
      "outputs": []
    },
    {
      "cell_type": "code",
      "source": [
        "num_cols = ['dti','revol.bal', 'inq.last.6mths', 'pub.rec']\n",
        "for i in range(0,len(num_cols),2):\n",
        " plt.figure(figsize=(12,4))\n",
        " plt.subplot(121)\n",
        " sns.distplot(df[num_cols[i]], hist=True, kde=True)\n",
        " plt.subplot(122) \n",
        " sns.distplot(df[num_cols[i+1]], hist=True, kde=True)\n",
        " plt.tight_layout()\n",
        " plt.show()\n"
      ],
      "metadata": {
        "id": "fThsl_LDPdQj",
        "colab": {
          "base_uri": "https://localhost:8080/",
          "height": 577
        },
        "outputId": "7df7e8c5-fa75-4d58-a7f4-18badacab205"
      },
      "execution_count": 162,
      "outputs": [
        {
          "output_type": "display_data",
          "data": {
            "text/plain": [
              "<Figure size 864x288 with 2 Axes>"
            ],
            "image/png": "[encoded data removed]"
          },
          "metadata": {
            "needs_background": "light"
          }
        },
        {
          "output_type": "display_data",
          "data": {
            "text/plain": [
              "<Figure size 864x288 with 2 Axes>"
            ],
            "image/png": "[encoded data removed]"
          },
          "metadata": {
            "needs_background": "light"
          }
        }
      ]
    },
    {
      "cell_type": "markdown",
      "source": [
        "# Observations:\n",
        "1.   This borrower's income is same as debt, no money left over end of the month. \n",
        "2.   Decrease amount of unpaid at the end of the credit card billing cycle.\n",
        "3.   The last six months reduced in borrower of inquiries by creditors\n",
        "4.   Short spike, but was able to make payments, no frequency of deogatory public records. \n",
        "\n",
        "\n",
        "\n",
        "\n",
        "\n",
        "\n",
        "\n",
        "\n",
        "\n",
        "\n",
        "\n"
      ],
      "metadata": {
        "id": "zX5SgnKRXCzs"
      }
    },
    {
      "cell_type": "code",
      "source": [
        "sns.set_style('darkgrid')\n",
        "sns.countplot(x='not.fully.paid', data=df)"
      ],
      "metadata": {
        "id": "JpWWwtP9c7Sd",
        "colab": {
          "base_uri": "https://localhost:8080/",
          "height": 296
        },
        "outputId": "8364ef98-1342-4a25-ca72-cbf2d661d169"
      },
      "execution_count": 163,
      "outputs": [
        {
          "output_type": "execute_result",
          "data": {
            "text/plain": [
              "<AxesSubplot:xlabel='not.fully.paid', ylabel='count'>"
            ]
          },
          "metadata": {},
          "execution_count": 163
        },
        {
          "output_type": "display_data",
          "data": {
            "text/plain": [
              "<Figure size 432x288 with 1 Axes>"
            ],
            "image/png": "[encoded data removed]"
          },
          "metadata": {}
        }
      ]
    },
    {
      "cell_type": "markdown",
      "source": [
        "# Check the label “no.fully.paid” distribution in the dataset.\n",
        "\n",
        "\n",
        "The data is imblance the predication will be biased since\n",
        "“not.fully.paid =0 “ has 83.9% filled, and only 16% is the “not.fully.paid=1”"
      ],
      "metadata": {
        "id": "Y2jj6yTcfVMT"
      }
    },
    {
      "cell_type": "code",
      "source": [
        "df['not.fully.paid'].isnull().mean()\n",
        "df.groupby('not.fully.paid')['not.fully.paid'].count()/len(df)"
      ],
      "metadata": {
        "colab": {
          "base_uri": "https://localhost:8080/",
          "height": 0
        },
        "id": "FfXBst7lzDuU",
        "outputId": "e3646218-a8ec-4fb6-9a9e-f7334bc62a6e"
      },
      "execution_count": 164,
      "outputs": [
        {
          "output_type": "execute_result",
          "data": {
            "text/plain": [
              "not.fully.paid\n",
              "0    0.839946\n",
              "1    0.160054\n",
              "Name: not.fully.paid, dtype: float64"
            ]
          },
          "metadata": {},
          "execution_count": 164
        }
      ]
    },
    {
      "cell_type": "markdown",
      "source": [
        "# 3.     Additional Feature Engineering\n"
      ],
      "metadata": {
        "id": "bwS3HzZWjdB_"
      }
    },
    {
      "cell_type": "code",
      "source": [
        "plt.figure(figsize=(16,6))\n",
        "df_loan[df_loan['revol.bal']==1]['fico'].hist(alpha=0.5,color='green',bins=30,label='revol.bal=1')\n",
        "df_loan[df_loan['revol.bal']==0]['fico'].hist(alpha=0.5,color='gold',bins=30,label='revol.bal=0')\n",
        "plt.legend()\n",
        "plt.xlabel('FICO')\n"
      ],
      "metadata": {
        "id": "AtM-0qHKm-Nj",
        "colab": {
          "base_uri": "https://localhost:8080/",
          "height": 405
        },
        "outputId": "9e09a27c-12df-4912-b8b1-075d5bea14e2"
      },
      "execution_count": 165,
      "outputs": [
        {
          "output_type": "execute_result",
          "data": {
            "text/plain": [
              "Text(0.5, 0, 'FICO')"
            ]
          },
          "metadata": {},
          "execution_count": 165
        },
        {
          "output_type": "display_data",
          "data": {
            "text/plain": [
              "<Figure size 1152x432 with 1 Axes>"
            ],
            "image/png": "[encoded data removed]"
          },
          "metadata": {}
        }
      ]
    },
    {
      "cell_type": "code",
      "source": [
        "plt.figure(figsize=(11,7))\n",
        "sns.lmplot(y='int.rate',x='fico',data=df,hue='credit.policy',\n",
        "           col='not.fully.paid',palette='Set1')"
      ],
      "metadata": {
        "colab": {
          "base_uri": "https://localhost:8080/",
          "height": 404
        },
        "id": "vNi_GiVOzezY",
        "outputId": "3f08ad76-1180-4db3-eaca-873188d0222a"
      },
      "execution_count": 166,
      "outputs": [
        {
          "output_type": "execute_result",
          "data": {
            "text/plain": [
              "<seaborn.axisgrid.FacetGrid at 0x7f21543d9940>"
            ]
          },
          "metadata": {},
          "execution_count": 166
        },
        {
          "output_type": "display_data",
          "data": {
            "text/plain": [
              "<Figure size 792x504 with 0 Axes>"
            ]
          },
          "metadata": {}
        },
        {
          "output_type": "display_data",
          "data": {
            "text/plain": [
              "<Figure size 789.25x360 with 2 Axes>"
            ],
            "image/png": "[encoded data removed]"
          },
          "metadata": {}
        }
      ]
    },
    {
      "cell_type": "markdown",
      "source": [
        "**revol.bal:** The borrower's revolving balance (amount unpaid at the end of the credit card billing cycle)."
      ],
      "metadata": {
        "id": "CU9FEnHLuTEI"
      }
    },
    {
      "cell_type": "markdown",
      "source": [
        "# Setting Up the Data\n",
        "Create a list of elements containing the string purpose. Name this list cat_feats.\n"
      ],
      "metadata": {
        "id": "8_bCOpNA8b4E"
      }
    },
    {
      "cell_type": "code",
      "source": [
        "cat_feats = ['purpose']\n"
      ],
      "metadata": {
        "id": "e07ty-L08ZRZ"
      },
      "execution_count": 167,
      "outputs": []
    },
    {
      "cell_type": "markdown",
      "source": [
        "\n",
        "Use pd.get_dummies (loans,columns=cat_feats,drop_first=True) to create a fixed and larger data frame that has new feature\n",
        "columns with dummy variables. Name this data frame final_data.\n"
      ],
      "metadata": {
        "id": "MgltJ6UN8zlM"
      }
    },
    {
      "cell_type": "code",
      "source": [
        "final_data = pd.get_dummies(df,columns=cat_feats,drop_first=True)\n",
        "final_data.info()\n"
      ],
      "metadata": {
        "colab": {
          "base_uri": "https://localhost:8080/",
          "height": 0
        },
        "id": "sOrQyqmz8ous",
        "outputId": "b665072d-4129-4a7a-ef64-2c24fdde3f02"
      },
      "execution_count": 168,
      "outputs": [
        {
          "output_type": "stream",
          "name": "stdout",
          "text": [
            "<class 'pandas.core.frame.DataFrame'>\n",
            "Int64Index: 9578 entries, 0 to 9577\n",
            "Data columns (total 19 columns):\n",
            " #   Column             Non-Null Count  Dtype  \n",
            "---  ------             --------------  -----  \n",
            " 0   credit.policy      9578 non-null   int64  \n",
            " 1   int.rate           9578 non-null   float64\n",
            " 2   installment        9578 non-null   float64\n",
            " 3   log.annual.inc     9578 non-null   float64\n",
            " 4   dti                9578 non-null   float64\n",
            " 5   fico               9578 non-null   int64  \n",
            " 6   days.with.cr.line  9578 non-null   float64\n",
            " 7   revol.bal          9578 non-null   int64  \n",
            " 8   revol.util         9578 non-null   float64\n",
            " 9   inq.last.6mths     9578 non-null   int64  \n",
            " 10  delinq.2yrs        9578 non-null   int64  \n",
            " 11  pub.rec            9578 non-null   int64  \n",
            " 12  not.fully.paid     9578 non-null   int64  \n",
            " 13  purpose_1          9578 non-null   uint8  \n",
            " 14  purpose_2          9578 non-null   uint8  \n",
            " 15  purpose_3          9578 non-null   uint8  \n",
            " 16  purpose_4          9578 non-null   uint8  \n",
            " 17  purpose_5          9578 non-null   uint8  \n",
            " 18  purpose_6          9578 non-null   uint8  \n",
            "dtypes: float64(6), int64(7), uint8(6)\n",
            "memory usage: 1.3 MB\n"
          ]
        }
      ]
    },
    {
      "cell_type": "markdown",
      "source": [
        "# Train-Test Split\n",
        "\n",
        "**Distribute** the data into training and test datasets using the train_test_split() function.\n"
      ],
      "metadata": {
        "id": "-Yyh9Drw9JO4"
      }
    },
    {
      "cell_type": "code",
      "source": [
        "!pip install sklearn"
      ],
      "metadata": {
        "colab": {
          "base_uri": "https://localhost:8080/",
          "height": 0
        },
        "id": "Lt5LPOah-hXt",
        "outputId": "398ad735-a29b-411b-fe49-908b74f2ba4a"
      },
      "execution_count": 169,
      "outputs": [
        {
          "output_type": "stream",
          "name": "stdout",
          "text": [
            "Looking in indexes: https://pypi.org/simple, https://us-python.pkg.dev/colab-wheels/public/simple/\n",
            "Requirement already satisfied: sklearn in /usr/local/lib/python3.8/dist-packages (0.0.post1)\n"
          ]
        }
      ]
    },
    {
      "cell_type": "code",
      "source": [
        "import sklearn as sk \n"
      ],
      "metadata": {
        "id": "aEfcz8Xo_3Pw"
      },
      "execution_count": 170,
      "outputs": []
    },
    {
      "cell_type": "code",
      "source": [
        "from sklearn.model_selection import train_test_split\n"
      ],
      "metadata": {
        "id": "h5wpKMqr_6sZ"
      },
      "execution_count": 171,
      "outputs": []
    },
    {
      "cell_type": "code",
      "source": [
        "X = final_data.drop('not.fully.paid',axis=1)\n",
        "y = final_data['not.fully.paid']\n",
        "X_train, X_test, y_train, y_test = train_test_split(X, y, test_size=0.30, random_state=101)"
      ],
      "metadata": {
        "id": "6qltzBoy9GjH"
      },
      "execution_count": 172,
      "outputs": []
    },
    {
      "cell_type": "markdown",
      "source": [
        "Training Decision Tree Model"
      ],
      "metadata": {
        "id": "uCUF1i4uAMT0"
      }
    },
    {
      "cell_type": "code",
      "source": [
        "# Decision tree model\n",
        "from sklearn.tree import DecisionTreeClassifier\n",
        "dtree = DecisionTreeClassifier()\n",
        "dtree.fit(X_train,y_train)\n"
      ],
      "metadata": {
        "colab": {
          "base_uri": "https://localhost:8080/",
          "height": 75
        },
        "id": "bBSSrUpjAQvR",
        "outputId": "90638550-aff0-43b1-ceb1-416b51b745e0"
      },
      "execution_count": 173,
      "outputs": [
        {
          "output_type": "execute_result",
          "data": {
            "text/plain": [
              "DecisionTreeClassifier()"
            ],
            "text/html": [
              "<style>#sk-container-id-5 {color: black;background-color: white;}#sk-container-id-5 pre{padding: 0;}#sk-container-id-5 div.sk-toggleable {background-color: white;}#sk-container-id-5 label.sk-toggleable__label {cursor: pointer;display: block;width: 100%;margin-bottom: 0;padding: 0.3em;box-sizing: border-box;text-align: center;}#sk-container-id-5 label.sk-toggleable__label-arrow:before {content: \"▸\";float: left;margin-right: 0.25em;color: #696969;}#sk-container-id-5 label.sk-toggleable__label-arrow:hover:before {color: black;}#sk-container-id-5 div.sk-estimator:hover label.sk-toggleable__label-arrow:before {color: black;}#sk-container-id-5 div.sk-toggleable__content {max-height: 0;max-width: 0;overflow: hidden;text-align: left;background-color: #f0f8ff;}#sk-container-id-5 div.sk-toggleable__content pre {margin: 0.2em;color: black;border-radius: 0.25em;background-color: #f0f8ff;}#sk-container-id-5 input.sk-toggleable__control:checked~div.sk-toggleable__content {max-height: 200px;max-width: 100%;overflow: auto;}#sk-container-id-5 input.sk-toggleable__control:checked~label.sk-toggleable__label-arrow:before {content: \"▾\";}#sk-container-id-5 div.sk-estimator input.sk-toggleable__control:checked~label.sk-toggleable__label {background-color: #d4ebff;}#sk-container-id-5 div.sk-label input.sk-toggleable__control:checked~label.sk-toggleable__label {background-color: #d4ebff;}#sk-container-id-5 input.sk-hidden--visually {border: 0;clip: rect(1px 1px 1px 1px);clip: rect(1px, 1px, 1px, 1px);height: 1px;margin: -1px;overflow: hidden;padding: 0;position: absolute;width: 1px;}#sk-container-id-5 div.sk-estimator {font-family: monospace;background-color: #f0f8ff;border: 1px dotted black;border-radius: 0.25em;box-sizing: border-box;margin-bottom: 0.5em;}#sk-container-id-5 div.sk-estimator:hover {background-color: #d4ebff;}#sk-container-id-5 div.sk-parallel-item::after {content: \"\";width: 100%;border-bottom: 1px solid gray;flex-grow: 1;}#sk-container-id-5 div.sk-label:hover label.sk-toggleable__label {background-color: #d4ebff;}#sk-container-id-5 div.sk-serial::before {content: \"\";position: absolute;border-left: 1px solid gray;box-sizing: border-box;top: 0;bottom: 0;left: 50%;z-index: 0;}#sk-container-id-5 div.sk-serial {display: flex;flex-direction: column;align-items: center;background-color: white;padding-right: 0.2em;padding-left: 0.2em;position: relative;}#sk-container-id-5 div.sk-item {position: relative;z-index: 1;}#sk-container-id-5 div.sk-parallel {display: flex;align-items: stretch;justify-content: center;background-color: white;position: relative;}#sk-container-id-5 div.sk-item::before, #sk-container-id-5 div.sk-parallel-item::before {content: \"\";position: absolute;border-left: 1px solid gray;box-sizing: border-box;top: 0;bottom: 0;left: 50%;z-index: -1;}#sk-container-id-5 div.sk-parallel-item {display: flex;flex-direction: column;z-index: 1;position: relative;background-color: white;}#sk-container-id-5 div.sk-parallel-item:first-child::after {align-self: flex-end;width: 50%;}#sk-container-id-5 div.sk-parallel-item:last-child::after {align-self: flex-start;width: 50%;}#sk-container-id-5 div.sk-parallel-item:only-child::after {width: 0;}#sk-container-id-5 div.sk-dashed-wrapped {border: 1px dashed gray;margin: 0 0.4em 0.5em 0.4em;box-sizing: border-box;padding-bottom: 0.4em;background-color: white;}#sk-container-id-5 div.sk-label label {font-family: monospace;font-weight: bold;display: inline-block;line-height: 1.2em;}#sk-container-id-5 div.sk-label-container {text-align: center;}#sk-container-id-5 div.sk-container {/* jupyter's `normalize.less` sets `[hidden] { display: none; }` but bootstrap.min.css set `[hidden] { display: none !important; }` so we also need the `!important` here to be able to override the default hidden behavior on the sphinx rendered scikit-learn.org. See: https://github.com/scikit-learn/scikit-learn/issues/21755 */display: inline-block !important;position: relative;}#sk-container-id-5 div.sk-text-repr-fallback {display: none;}</style><div id=\"sk-container-id-5\" class=\"sk-top-container\"><div class=\"sk-text-repr-fallback\"><pre>DecisionTreeClassifier()</pre><b>In a Jupyter environment, please rerun this cell to show the HTML representation or trust the notebook. <br />On GitHub, the HTML representation is unable to render, please try loading this page with nbviewer.org.</b></div><div class=\"sk-container\" hidden><div class=\"sk-item\"><div class=\"sk-estimator sk-toggleable\"><input class=\"sk-toggleable__control sk-hidden--visually\" id=\"sk-estimator-id-5\" type=\"checkbox\" checked><label for=\"sk-estimator-id-5\" class=\"sk-toggleable__label sk-toggleable__label-arrow\">DecisionTreeClassifier</label><div class=\"sk-toggleable__content\"><pre>DecisionTreeClassifier()</pre></div></div></div></div></div>"
            ]
          },
          "metadata": {},
          "execution_count": 173
        }
      ]
    },
    {
      "cell_type": "markdown",
      "source": [
        "# Evaluating Decision Tree\n",
        "Create a classification report for the DecisionTreeClassifier"
      ],
      "metadata": {
        "id": "cdZ6F2J1AVJn"
      }
    },
    {
      "cell_type": "code",
      "source": [
        "# Classification report\n",
        "predictions = dtree.predict(X_test)\n",
        "from sklearn.metrics import classification_report,confusion_matrix\n",
        "print(classification_report(y_test,predictions))"
      ],
      "metadata": {
        "colab": {
          "base_uri": "https://localhost:8080/",
          "height": 0
        },
        "id": "5AGEoITgAkve",
        "outputId": "b502b506-7733-4f59-fe51-66599e064498"
      },
      "execution_count": 174,
      "outputs": [
        {
          "output_type": "stream",
          "name": "stdout",
          "text": [
            "              precision    recall  f1-score   support\n",
            "\n",
            "           0       0.86      0.82      0.84      2431\n",
            "           1       0.21      0.25      0.23       443\n",
            "\n",
            "    accuracy                           0.73      2874\n",
            "   macro avg       0.53      0.54      0.53      2874\n",
            "weighted avg       0.76      0.73      0.75      2874\n",
            "\n"
          ]
        }
      ]
    },
    {
      "cell_type": "markdown",
      "source": [
        "# Confusion Matrix\n"
      ],
      "metadata": {
        "id": "z41OKB-cAqN3"
      }
    },
    {
      "cell_type": "code",
      "source": [
        "# Creating a confusion matrix\n",
        "print(confusion_matrix(y_test,predictions))"
      ],
      "metadata": {
        "colab": {
          "base_uri": "https://localhost:8080/",
          "height": 0
        },
        "id": "dhSRCvSUAvtu",
        "outputId": "9a803012-0532-459a-b1e9-fce4d235f546"
      },
      "execution_count": 175,
      "outputs": [
        {
          "output_type": "stream",
          "name": "stdout",
          "text": [
            "[[2001  430]\n",
            " [ 332  111]]\n"
          ]
        }
      ]
    },
    {
      "cell_type": "markdown",
      "source": [
        "\n",
        "Training Random Forest Model this is part of Machine Learning previous course using RandomForestClassifier for sklearn.ensemble"
      ],
      "metadata": {
        "id": "Mwx0Ht5a3xk0"
      }
    },
    {
      "cell_type": "code",
      "source": [
        "# Random forest model\n",
        "from sklearn.ensemble import RandomForestClassifier\n",
        "rfc = RandomForestClassifier(n_estimators=600)\n",
        "rfc.fit(X_train,y_train)\n"
      ],
      "metadata": {
        "colab": {
          "base_uri": "https://localhost:8080/",
          "height": 75
        },
        "id": "UluRB-FCBQyy",
        "outputId": "df0fab92-322d-435b-a3aa-f8ef34871e20"
      },
      "execution_count": 176,
      "outputs": [
        {
          "output_type": "execute_result",
          "data": {
            "text/plain": [
              "RandomForestClassifier(n_estimators=600)"
            ],
            "text/html": [
              "<style>#sk-container-id-6 {color: black;background-color: white;}#sk-container-id-6 pre{padding: 0;}#sk-container-id-6 div.sk-toggleable {background-color: white;}#sk-container-id-6 label.sk-toggleable__label {cursor: pointer;display: block;width: 100%;margin-bottom: 0;padding: 0.3em;box-sizing: border-box;text-align: center;}#sk-container-id-6 label.sk-toggleable__label-arrow:before {content: \"▸\";float: left;margin-right: 0.25em;color: #696969;}#sk-container-id-6 label.sk-toggleable__label-arrow:hover:before {color: black;}#sk-container-id-6 div.sk-estimator:hover label.sk-toggleable__label-arrow:before {color: black;}#sk-container-id-6 div.sk-toggleable__content {max-height: 0;max-width: 0;overflow: hidden;text-align: left;background-color: #f0f8ff;}#sk-container-id-6 div.sk-toggleable__content pre {margin: 0.2em;color: black;border-radius: 0.25em;background-color: #f0f8ff;}#sk-container-id-6 input.sk-toggleable__control:checked~div.sk-toggleable__content {max-height: 200px;max-width: 100%;overflow: auto;}#sk-container-id-6 input.sk-toggleable__control:checked~label.sk-toggleable__label-arrow:before {content: \"▾\";}#sk-container-id-6 div.sk-estimator input.sk-toggleable__control:checked~label.sk-toggleable__label {background-color: #d4ebff;}#sk-container-id-6 div.sk-label input.sk-toggleable__control:checked~label.sk-toggleable__label {background-color: #d4ebff;}#sk-container-id-6 input.sk-hidden--visually {border: 0;clip: rect(1px 1px 1px 1px);clip: rect(1px, 1px, 1px, 1px);height: 1px;margin: -1px;overflow: hidden;padding: 0;position: absolute;width: 1px;}#sk-container-id-6 div.sk-estimator {font-family: monospace;background-color: #f0f8ff;border: 1px dotted black;border-radius: 0.25em;box-sizing: border-box;margin-bottom: 0.5em;}#sk-container-id-6 div.sk-estimator:hover {background-color: #d4ebff;}#sk-container-id-6 div.sk-parallel-item::after {content: \"\";width: 100%;border-bottom: 1px solid gray;flex-grow: 1;}#sk-container-id-6 div.sk-label:hover label.sk-toggleable__label {background-color: #d4ebff;}#sk-container-id-6 div.sk-serial::before {content: \"\";position: absolute;border-left: 1px solid gray;box-sizing: border-box;top: 0;bottom: 0;left: 50%;z-index: 0;}#sk-container-id-6 div.sk-serial {display: flex;flex-direction: column;align-items: center;background-color: white;padding-right: 0.2em;padding-left: 0.2em;position: relative;}#sk-container-id-6 div.sk-item {position: relative;z-index: 1;}#sk-container-id-6 div.sk-parallel {display: flex;align-items: stretch;justify-content: center;background-color: white;position: relative;}#sk-container-id-6 div.sk-item::before, #sk-container-id-6 div.sk-parallel-item::before {content: \"\";position: absolute;border-left: 1px solid gray;box-sizing: border-box;top: 0;bottom: 0;left: 50%;z-index: -1;}#sk-container-id-6 div.sk-parallel-item {display: flex;flex-direction: column;z-index: 1;position: relative;background-color: white;}#sk-container-id-6 div.sk-parallel-item:first-child::after {align-self: flex-end;width: 50%;}#sk-container-id-6 div.sk-parallel-item:last-child::after {align-self: flex-start;width: 50%;}#sk-container-id-6 div.sk-parallel-item:only-child::after {width: 0;}#sk-container-id-6 div.sk-dashed-wrapped {border: 1px dashed gray;margin: 0 0.4em 0.5em 0.4em;box-sizing: border-box;padding-bottom: 0.4em;background-color: white;}#sk-container-id-6 div.sk-label label {font-family: monospace;font-weight: bold;display: inline-block;line-height: 1.2em;}#sk-container-id-6 div.sk-label-container {text-align: center;}#sk-container-id-6 div.sk-container {/* jupyter's `normalize.less` sets `[hidden] { display: none; }` but bootstrap.min.css set `[hidden] { display: none !important; }` so we also need the `!important` here to be able to override the default hidden behavior on the sphinx rendered scikit-learn.org. See: https://github.com/scikit-learn/scikit-learn/issues/21755 */display: inline-block !important;position: relative;}#sk-container-id-6 div.sk-text-repr-fallback {display: none;}</style><div id=\"sk-container-id-6\" class=\"sk-top-container\"><div class=\"sk-text-repr-fallback\"><pre>RandomForestClassifier(n_estimators=600)</pre><b>In a Jupyter environment, please rerun this cell to show the HTML representation or trust the notebook. <br />On GitHub, the HTML representation is unable to render, please try loading this page with nbviewer.org.</b></div><div class=\"sk-container\" hidden><div class=\"sk-item\"><div class=\"sk-estimator sk-toggleable\"><input class=\"sk-toggleable__control sk-hidden--visually\" id=\"sk-estimator-id-6\" type=\"checkbox\" checked><label for=\"sk-estimator-id-6\" class=\"sk-toggleable__label sk-toggleable__label-arrow\">RandomForestClassifier</label><div class=\"sk-toggleable__content\"><pre>RandomForestClassifier(n_estimators=600)</pre></div></div></div></div></div>"
            ]
          },
          "metadata": {},
          "execution_count": 176
        }
      ]
    },
    {
      "cell_type": "markdown",
      "source": [
        "# Evaluating Random Forest Model\n",
        "A classification report for the RandomForestClassifier "
      ],
      "metadata": {
        "id": "45I4g-3_BYBQ"
      }
    },
    {
      "cell_type": "code",
      "source": [
        "predictions = rfc.predict(X_test)\n",
        "from sklearn.metrics import classification_report,confusion_matrix\n",
        "print(classification_report(y_test,predictions))\n"
      ],
      "metadata": {
        "colab": {
          "base_uri": "https://localhost:8080/",
          "height": 0
        },
        "id": "3tHJvX60BaIF",
        "outputId": "e346928a-2dc0-4db9-d137-006d4e988496"
      },
      "execution_count": 177,
      "outputs": [
        {
          "output_type": "stream",
          "name": "stdout",
          "text": [
            "              precision    recall  f1-score   support\n",
            "\n",
            "           0       0.85      1.00      0.92      2431\n",
            "           1       0.41      0.02      0.03       443\n",
            "\n",
            "    accuracy                           0.84      2874\n",
            "   macro avg       0.63      0.51      0.47      2874\n",
            "weighted avg       0.78      0.84      0.78      2874\n",
            "\n"
          ]
        }
      ]
    },
    {
      "cell_type": "markdown",
      "source": [
        "# Printing the Confusion Matrix\n"
      ],
      "metadata": {
        "id": "qVhUyDLpBnSO"
      }
    },
    {
      "cell_type": "code",
      "source": [
        "print(confusion_matrix(y_test,predictions))\n"
      ],
      "metadata": {
        "colab": {
          "base_uri": "https://localhost:8080/",
          "height": 0
        },
        "id": "7xf7f_FwBtM8",
        "outputId": "cd7ee152-3973-4a0a-d389-1e8d0a606dd9"
      },
      "execution_count": 178,
      "outputs": [
        {
          "output_type": "stream",
          "name": "stdout",
          "text": [
            "[[2421   10]\n",
            " [ 436    7]]\n"
          ]
        }
      ]
    },
    {
      "cell_type": "markdown",
      "source": [
        "# Conclusion; From the above use case, the accuracy of random forest is better than decision tree from Machine Learning method evalution. \n"
      ],
      "metadata": {
        "id": "KRz8AeiEBxND"
      }
    },
    {
      "cell_type": "markdown",
      "source": [
        "# 4.     Modeling"
      ],
      "metadata": {
        "id": "619Ww5V-GPjn"
      }
    },
    {
      "cell_type": "code",
      "source": [
        "# define features and label\n",
        "features = df.iloc[:,1:]\n",
        "label = df.iloc[:,[0]]\n"
      ],
      "metadata": {
        "id": "-jpf_BDcHM6X"
      },
      "execution_count": 179,
      "outputs": []
    },
    {
      "cell_type": "code",
      "source": [
        "features"
      ],
      "metadata": {
        "colab": {
          "base_uri": "https://localhost:8080/",
          "height": 424
        },
        "id": "arekyDwzHSI6",
        "outputId": "46b15b46-c2e4-4813-d334-adbdadeec496"
      },
      "execution_count": 180,
      "outputs": [
        {
          "output_type": "execute_result",
          "data": {
            "text/plain": [
              "      purpose  int.rate  installment  log.annual.inc    dti  fico  \\\n",
              "0           2    0.1189       829.10       11.350407  19.48   737   \n",
              "1           1    0.1071       228.22       11.082143  14.29   707   \n",
              "2           2    0.1357       366.86       10.373491  11.63   682   \n",
              "3           2    0.1008       162.34       11.350407   8.10   712   \n",
              "4           1    0.1426       102.92       11.299732  14.97   667   \n",
              "...       ...       ...          ...             ...    ...   ...   \n",
              "9573        0    0.1461       344.76       12.180755  10.39   672   \n",
              "9574        0    0.1253       257.70       11.141862   0.21   722   \n",
              "9575        2    0.1071        97.81       10.596635  13.09   687   \n",
              "9576        4    0.1600       351.58       10.819778  19.18   692   \n",
              "9577        2    0.1392       853.43       11.264464  16.28   732   \n",
              "\n",
              "      days.with.cr.line  revol.bal  revol.util  inq.last.6mths  delinq.2yrs  \\\n",
              "0           5639.958333      28854        52.1               0            0   \n",
              "1           2760.000000      33623        76.7               0            0   \n",
              "2           4710.000000       3511        25.6               1            0   \n",
              "3           2699.958333      33667        73.2               1            0   \n",
              "4           4066.000000       4740        39.5               0            1   \n",
              "...                 ...        ...         ...             ...          ...   \n",
              "9573       10474.000000     215372        82.1               2            0   \n",
              "9574        4380.000000        184         1.1               5            0   \n",
              "9575        3450.041667      10036        82.9               8            0   \n",
              "9576        1800.000000          0         3.2               5            0   \n",
              "9577        4740.000000      37879        57.0               6            0   \n",
              "\n",
              "      pub.rec  not.fully.paid  \n",
              "0           0               0  \n",
              "1           0               0  \n",
              "2           0               0  \n",
              "3           0               0  \n",
              "4           0               0  \n",
              "...       ...             ...  \n",
              "9573        0               1  \n",
              "9574        0               1  \n",
              "9575        0               1  \n",
              "9576        0               1  \n",
              "9577        0               1  \n",
              "\n",
              "[9578 rows x 13 columns]"
            ],
            "text/html": [
              "\n",
              "  <div id=\"df-883e3c93-5ef1-4711-a591-00d34dc09e81\">\n",
              "    <div class=\"colab-df-container\">\n",
              "      <div>\n",
              "<style scoped>\n",
              "    .dataframe tbody tr th:only-of-type {\n",
              "        vertical-align: middle;\n",
              "    }\n",
              "\n",
              "    .dataframe tbody tr th {\n",
              "        vertical-align: top;\n",
              "    }\n",
              "\n",
              "    .dataframe thead th {\n",
              "        text-align: right;\n",
              "    }\n",
              "</style>\n",
              "<table border=\"1\" class=\"dataframe\">\n",
              "  <thead>\n",
              "    <tr style=\"text-align: right;\">\n",
              "      <th></th>\n",
              "      <th>purpose</th>\n",
              "      <th>int.rate</th>\n",
              "      <th>installment</th>\n",
              "      <th>log.annual.inc</th>\n",
              "      <th>dti</th>\n",
              "      <th>fico</th>\n",
              "      <th>days.with.cr.line</th>\n",
              "      <th>revol.bal</th>\n",
              "      <th>revol.util</th>\n",
              "      <th>inq.last.6mths</th>\n",
              "      <th>delinq.2yrs</th>\n",
              "      <th>pub.rec</th>\n",
              "      <th>not.fully.paid</th>\n",
              "    </tr>\n",
              "  </thead>\n",
              "  <tbody>\n",
              "    <tr>\n",
              "      <th>0</th>\n",
              "      <td>2</td>\n",
              "      <td>0.1189</td>\n",
              "      <td>829.10</td>\n",
              "      <td>11.350407</td>\n",
              "      <td>19.48</td>\n",
              "      <td>737</td>\n",
              "      <td>5639.958333</td>\n",
              "      <td>28854</td>\n",
              "      <td>52.1</td>\n",
              "      <td>0</td>\n",
              "      <td>0</td>\n",
              "      <td>0</td>\n",
              "      <td>0</td>\n",
              "    </tr>\n",
              "    <tr>\n",
              "      <th>1</th>\n",
              "      <td>1</td>\n",
              "      <td>0.1071</td>\n",
              "      <td>228.22</td>\n",
              "      <td>11.082143</td>\n",
              "      <td>14.29</td>\n",
              "      <td>707</td>\n",
              "      <td>2760.000000</td>\n",
              "      <td>33623</td>\n",
              "      <td>76.7</td>\n",
              "      <td>0</td>\n",
              "      <td>0</td>\n",
              "      <td>0</td>\n",
              "      <td>0</td>\n",
              "    </tr>\n",
              "    <tr>\n",
              "      <th>2</th>\n",
              "      <td>2</td>\n",
              "      <td>0.1357</td>\n",
              "      <td>366.86</td>\n",
              "      <td>10.373491</td>\n",
              "      <td>11.63</td>\n",
              "      <td>682</td>\n",
              "      <td>4710.000000</td>\n",
              "      <td>3511</td>\n",
              "      <td>25.6</td>\n",
              "      <td>1</td>\n",
              "      <td>0</td>\n",
              "      <td>0</td>\n",
              "      <td>0</td>\n",
              "    </tr>\n",
              "    <tr>\n",
              "      <th>3</th>\n",
              "      <td>2</td>\n",
              "      <td>0.1008</td>\n",
              "      <td>162.34</td>\n",
              "      <td>11.350407</td>\n",
              "      <td>8.10</td>\n",
              "      <td>712</td>\n",
              "      <td>2699.958333</td>\n",
              "      <td>33667</td>\n",
              "      <td>73.2</td>\n",
              "      <td>1</td>\n",
              "      <td>0</td>\n",
              "      <td>0</td>\n",
              "      <td>0</td>\n",
              "    </tr>\n",
              "    <tr>\n",
              "      <th>4</th>\n",
              "      <td>1</td>\n",
              "      <td>0.1426</td>\n",
              "      <td>102.92</td>\n",
              "      <td>11.299732</td>\n",
              "      <td>14.97</td>\n",
              "      <td>667</td>\n",
              "      <td>4066.000000</td>\n",
              "      <td>4740</td>\n",
              "      <td>39.5</td>\n",
              "      <td>0</td>\n",
              "      <td>1</td>\n",
              "      <td>0</td>\n",
              "      <td>0</td>\n",
              "    </tr>\n",
              "    <tr>\n",
              "      <th>...</th>\n",
              "      <td>...</td>\n",
              "      <td>...</td>\n",
              "      <td>...</td>\n",
              "      <td>...</td>\n",
              "      <td>...</td>\n",
              "      <td>...</td>\n",
              "      <td>...</td>\n",
              "      <td>...</td>\n",
              "      <td>...</td>\n",
              "      <td>...</td>\n",
              "      <td>...</td>\n",
              "      <td>...</td>\n",
              "      <td>...</td>\n",
              "    </tr>\n",
              "    <tr>\n",
              "      <th>9573</th>\n",
              "      <td>0</td>\n",
              "      <td>0.1461</td>\n",
              "      <td>344.76</td>\n",
              "      <td>12.180755</td>\n",
              "      <td>10.39</td>\n",
              "      <td>672</td>\n",
              "      <td>10474.000000</td>\n",
              "      <td>215372</td>\n",
              "      <td>82.1</td>\n",
              "      <td>2</td>\n",
              "      <td>0</td>\n",
              "      <td>0</td>\n",
              "      <td>1</td>\n",
              "    </tr>\n",
              "    <tr>\n",
              "      <th>9574</th>\n",
              "      <td>0</td>\n",
              "      <td>0.1253</td>\n",
              "      <td>257.70</td>\n",
              "      <td>11.141862</td>\n",
              "      <td>0.21</td>\n",
              "      <td>722</td>\n",
              "      <td>4380.000000</td>\n",
              "      <td>184</td>\n",
              "      <td>1.1</td>\n",
              "      <td>5</td>\n",
              "      <td>0</td>\n",
              "      <td>0</td>\n",
              "      <td>1</td>\n",
              "    </tr>\n",
              "    <tr>\n",
              "      <th>9575</th>\n",
              "      <td>2</td>\n",
              "      <td>0.1071</td>\n",
              "      <td>97.81</td>\n",
              "      <td>10.596635</td>\n",
              "      <td>13.09</td>\n",
              "      <td>687</td>\n",
              "      <td>3450.041667</td>\n",
              "      <td>10036</td>\n",
              "      <td>82.9</td>\n",
              "      <td>8</td>\n",
              "      <td>0</td>\n",
              "      <td>0</td>\n",
              "      <td>1</td>\n",
              "    </tr>\n",
              "    <tr>\n",
              "      <th>9576</th>\n",
              "      <td>4</td>\n",
              "      <td>0.1600</td>\n",
              "      <td>351.58</td>\n",
              "      <td>10.819778</td>\n",
              "      <td>19.18</td>\n",
              "      <td>692</td>\n",
              "      <td>1800.000000</td>\n",
              "      <td>0</td>\n",
              "      <td>3.2</td>\n",
              "      <td>5</td>\n",
              "      <td>0</td>\n",
              "      <td>0</td>\n",
              "      <td>1</td>\n",
              "    </tr>\n",
              "    <tr>\n",
              "      <th>9577</th>\n",
              "      <td>2</td>\n",
              "      <td>0.1392</td>\n",
              "      <td>853.43</td>\n",
              "      <td>11.264464</td>\n",
              "      <td>16.28</td>\n",
              "      <td>732</td>\n",
              "      <td>4740.000000</td>\n",
              "      <td>37879</td>\n",
              "      <td>57.0</td>\n",
              "      <td>6</td>\n",
              "      <td>0</td>\n",
              "      <td>0</td>\n",
              "      <td>1</td>\n",
              "    </tr>\n",
              "  </tbody>\n",
              "</table>\n",
              "<p>9578 rows × 13 columns</p>\n",
              "</div>\n",
              "      <button class=\"colab-df-convert\" onclick=\"convertToInteractive('df-883e3c93-5ef1-4711-a591-00d34dc09e81')\"\n",
              "              title=\"Convert this dataframe to an interactive table.\"\n",
              "              style=\"display:none;\">\n",
              "        \n",
              "  <svg xmlns=\"http://www.w3.org/2000/svg\" height=\"24px\"viewBox=\"0 0 24 24\"\n",
              "       width=\"24px\">\n",
              "    <path d=\"M0 0h24v24H0V0z\" fill=\"none\"/>\n",
              "    <path d=\"M18.56 5.44l.94 2.06.94-2.06 2.06-.94-2.06-.94-.94-2.06-.94 2.06-2.06.94zm-11 1L8.5 8.5l.94-2.06 2.06-.94-2.06-.94L8.5 2.5l-.94 2.06-2.06.94zm10 10l.94 2.06.94-2.06 2.06-.94-2.06-.94-.94-2.06-.94 2.06-2.06.94z\"/><path d=\"M17.41 7.96l-1.37-1.37c-.4-.4-.92-.59-1.43-.59-.52 0-1.04.2-1.43.59L10.3 9.45l-7.72 7.72c-.78.78-.78 2.05 0 2.83L4 21.41c.39.39.9.59 1.41.59.51 0 1.02-.2 1.41-.59l7.78-7.78 2.81-2.81c.8-.78.8-2.07 0-2.86zM5.41 20L4 18.59l7.72-7.72 1.47 1.35L5.41 20z\"/>\n",
              "  </svg>\n",
              "      </button>\n",
              "      \n",
              "  <style>\n",
              "    .colab-df-container {\n",
              "      display:flex;\n",
              "      flex-wrap:wrap;\n",
              "      gap: 12px;\n",
              "    }\n",
              "\n",
              "    .colab-df-convert {\n",
              "      background-color: #E8F0FE;\n",
              "      border: none;\n",
              "      border-radius: 50%;\n",
              "      cursor: pointer;\n",
              "      display: none;\n",
              "      fill: #1967D2;\n",
              "      height: 32px;\n",
              "      padding: 0 0 0 0;\n",
              "      width: 32px;\n",
              "    }\n",
              "\n",
              "    .colab-df-convert:hover {\n",
              "      background-color: #E2EBFA;\n",
              "      box-shadow: 0px 1px 2px rgba(60, 64, 67, 0.3), 0px 1px 3px 1px rgba(60, 64, 67, 0.15);\n",
              "      fill: #174EA6;\n",
              "    }\n",
              "\n",
              "    [theme=dark] .colab-df-convert {\n",
              "      background-color: #3B4455;\n",
              "      fill: #D2E3FC;\n",
              "    }\n",
              "\n",
              "    [theme=dark] .colab-df-convert:hover {\n",
              "      background-color: #434B5C;\n",
              "      box-shadow: 0px 1px 3px 1px rgba(0, 0, 0, 0.15);\n",
              "      filter: drop-shadow(0px 1px 2px rgba(0, 0, 0, 0.3));\n",
              "      fill: #FFFFFF;\n",
              "    }\n",
              "  </style>\n",
              "\n",
              "      <script>\n",
              "        const buttonEl =\n",
              "          document.querySelector('#df-883e3c93-5ef1-4711-a591-00d34dc09e81 button.colab-df-convert');\n",
              "        buttonEl.style.display =\n",
              "          google.colab.kernel.accessAllowed ? 'block' : 'none';\n",
              "\n",
              "        async function convertToInteractive(key) {\n",
              "          const element = document.querySelector('#df-883e3c93-5ef1-4711-a591-00d34dc09e81');\n",
              "          const dataTable =\n",
              "            await google.colab.kernel.invokeFunction('convertToInteractive',\n",
              "                                                     [key], {});\n",
              "          if (!dataTable) return;\n",
              "\n",
              "          const docLinkHtml = 'Like what you see? Visit the ' +\n",
              "            '<a target=\"_blank\" href=https://colab.research.google.com/notebooks/data_table.ipynb>data table notebook</a>'\n",
              "            + ' to learn more about interactive tables.';\n",
              "          element.innerHTML = '';\n",
              "          dataTable['output_type'] = 'display_data';\n",
              "          await google.colab.output.renderOutput(dataTable, element);\n",
              "          const docLink = document.createElement('div');\n",
              "          docLink.innerHTML = docLinkHtml;\n",
              "          element.appendChild(docLink);\n",
              "        }\n",
              "      </script>\n",
              "    </div>\n",
              "  </div>\n",
              "  "
            ]
          },
          "metadata": {},
          "execution_count": 180
        }
      ]
    },
    {
      "cell_type": "code",
      "source": [
        "label"
      ],
      "metadata": {
        "colab": {
          "base_uri": "https://localhost:8080/",
          "height": 424
        },
        "id": "SwaCq4QHHVtm",
        "outputId": "924b674a-7729-4d01-b99c-b185653a2a21"
      },
      "execution_count": 181,
      "outputs": [
        {
          "output_type": "execute_result",
          "data": {
            "text/plain": [
              "      credit.policy\n",
              "0                 1\n",
              "1                 1\n",
              "2                 1\n",
              "3                 1\n",
              "4                 1\n",
              "...             ...\n",
              "9573              0\n",
              "9574              0\n",
              "9575              0\n",
              "9576              0\n",
              "9577              0\n",
              "\n",
              "[9578 rows x 1 columns]"
            ],
            "text/html": [
              "\n",
              "  <div id=\"df-70707027-c08e-48d7-9daa-1496fb49a645\">\n",
              "    <div class=\"colab-df-container\">\n",
              "      <div>\n",
              "<style scoped>\n",
              "    .dataframe tbody tr th:only-of-type {\n",
              "        vertical-align: middle;\n",
              "    }\n",
              "\n",
              "    .dataframe tbody tr th {\n",
              "        vertical-align: top;\n",
              "    }\n",
              "\n",
              "    .dataframe thead th {\n",
              "        text-align: right;\n",
              "    }\n",
              "</style>\n",
              "<table border=\"1\" class=\"dataframe\">\n",
              "  <thead>\n",
              "    <tr style=\"text-align: right;\">\n",
              "      <th></th>\n",
              "      <th>credit.policy</th>\n",
              "    </tr>\n",
              "  </thead>\n",
              "  <tbody>\n",
              "    <tr>\n",
              "      <th>0</th>\n",
              "      <td>1</td>\n",
              "    </tr>\n",
              "    <tr>\n",
              "      <th>1</th>\n",
              "      <td>1</td>\n",
              "    </tr>\n",
              "    <tr>\n",
              "      <th>2</th>\n",
              "      <td>1</td>\n",
              "    </tr>\n",
              "    <tr>\n",
              "      <th>3</th>\n",
              "      <td>1</td>\n",
              "    </tr>\n",
              "    <tr>\n",
              "      <th>4</th>\n",
              "      <td>1</td>\n",
              "    </tr>\n",
              "    <tr>\n",
              "      <th>...</th>\n",
              "      <td>...</td>\n",
              "    </tr>\n",
              "    <tr>\n",
              "      <th>9573</th>\n",
              "      <td>0</td>\n",
              "    </tr>\n",
              "    <tr>\n",
              "      <th>9574</th>\n",
              "      <td>0</td>\n",
              "    </tr>\n",
              "    <tr>\n",
              "      <th>9575</th>\n",
              "      <td>0</td>\n",
              "    </tr>\n",
              "    <tr>\n",
              "      <th>9576</th>\n",
              "      <td>0</td>\n",
              "    </tr>\n",
              "    <tr>\n",
              "      <th>9577</th>\n",
              "      <td>0</td>\n",
              "    </tr>\n",
              "  </tbody>\n",
              "</table>\n",
              "<p>9578 rows × 1 columns</p>\n",
              "</div>\n",
              "      <button class=\"colab-df-convert\" onclick=\"convertToInteractive('df-70707027-c08e-48d7-9daa-1496fb49a645')\"\n",
              "              title=\"Convert this dataframe to an interactive table.\"\n",
              "              style=\"display:none;\">\n",
              "        \n",
              "  <svg xmlns=\"http://www.w3.org/2000/svg\" height=\"24px\"viewBox=\"0 0 24 24\"\n",
              "       width=\"24px\">\n",
              "    <path d=\"M0 0h24v24H0V0z\" fill=\"none\"/>\n",
              "    <path d=\"M18.56 5.44l.94 2.06.94-2.06 2.06-.94-2.06-.94-.94-2.06-.94 2.06-2.06.94zm-11 1L8.5 8.5l.94-2.06 2.06-.94-2.06-.94L8.5 2.5l-.94 2.06-2.06.94zm10 10l.94 2.06.94-2.06 2.06-.94-2.06-.94-.94-2.06-.94 2.06-2.06.94z\"/><path d=\"M17.41 7.96l-1.37-1.37c-.4-.4-.92-.59-1.43-.59-.52 0-1.04.2-1.43.59L10.3 9.45l-7.72 7.72c-.78.78-.78 2.05 0 2.83L4 21.41c.39.39.9.59 1.41.59.51 0 1.02-.2 1.41-.59l7.78-7.78 2.81-2.81c.8-.78.8-2.07 0-2.86zM5.41 20L4 18.59l7.72-7.72 1.47 1.35L5.41 20z\"/>\n",
              "  </svg>\n",
              "      </button>\n",
              "      \n",
              "  <style>\n",
              "    .colab-df-container {\n",
              "      display:flex;\n",
              "      flex-wrap:wrap;\n",
              "      gap: 12px;\n",
              "    }\n",
              "\n",
              "    .colab-df-convert {\n",
              "      background-color: #E8F0FE;\n",
              "      border: none;\n",
              "      border-radius: 50%;\n",
              "      cursor: pointer;\n",
              "      display: none;\n",
              "      fill: #1967D2;\n",
              "      height: 32px;\n",
              "      padding: 0 0 0 0;\n",
              "      width: 32px;\n",
              "    }\n",
              "\n",
              "    .colab-df-convert:hover {\n",
              "      background-color: #E2EBFA;\n",
              "      box-shadow: 0px 1px 2px rgba(60, 64, 67, 0.3), 0px 1px 3px 1px rgba(60, 64, 67, 0.15);\n",
              "      fill: #174EA6;\n",
              "    }\n",
              "\n",
              "    [theme=dark] .colab-df-convert {\n",
              "      background-color: #3B4455;\n",
              "      fill: #D2E3FC;\n",
              "    }\n",
              "\n",
              "    [theme=dark] .colab-df-convert:hover {\n",
              "      background-color: #434B5C;\n",
              "      box-shadow: 0px 1px 3px 1px rgba(0, 0, 0, 0.15);\n",
              "      filter: drop-shadow(0px 1px 2px rgba(0, 0, 0, 0.3));\n",
              "      fill: #FFFFFF;\n",
              "    }\n",
              "  </style>\n",
              "\n",
              "      <script>\n",
              "        const buttonEl =\n",
              "          document.querySelector('#df-70707027-c08e-48d7-9daa-1496fb49a645 button.colab-df-convert');\n",
              "        buttonEl.style.display =\n",
              "          google.colab.kernel.accessAllowed ? 'block' : 'none';\n",
              "\n",
              "        async function convertToInteractive(key) {\n",
              "          const element = document.querySelector('#df-70707027-c08e-48d7-9daa-1496fb49a645');\n",
              "          const dataTable =\n",
              "            await google.colab.kernel.invokeFunction('convertToInteractive',\n",
              "                                                     [key], {});\n",
              "          if (!dataTable) return;\n",
              "\n",
              "          const docLinkHtml = 'Like what you see? Visit the ' +\n",
              "            '<a target=\"_blank\" href=https://colab.research.google.com/notebooks/data_table.ipynb>data table notebook</a>'\n",
              "            + ' to learn more about interactive tables.';\n",
              "          element.innerHTML = '';\n",
              "          dataTable['output_type'] = 'display_data';\n",
              "          await google.colab.output.renderOutput(dataTable, element);\n",
              "          const docLink = document.createElement('div');\n",
              "          docLink.innerHTML = docLinkHtml;\n",
              "          element.appendChild(docLink);\n",
              "        }\n",
              "      </script>\n",
              "    </div>\n",
              "  </div>\n",
              "  "
            ]
          },
          "metadata": {},
          "execution_count": 181
        }
      ]
    },
    {
      "cell_type": "code",
      "source": [
        "# Standardization\n",
        "from sklearn.preprocessing import StandardScaler\n",
        "Scaler = StandardScaler()\n",
        "features = Scaler.fit_transform(features)\n",
        "features\n"
      ],
      "metadata": {
        "colab": {
          "base_uri": "https://localhost:8080/",
          "height": 0
        },
        "id": "UtCOLC7xHd7c",
        "outputId": "5a286f1e-c459-41d9-d799-e9a04e11d223"
      },
      "execution_count": 182,
      "outputs": [
        {
          "output_type": "execute_result",
          "data": {
            "text/plain": [
              "array([[ 0.03317632, -0.13931753,  2.46309947, ..., -0.29973008,\n",
              "        -0.23700318, -0.43652393],\n",
              "       [-0.55966463, -0.57886837, -0.43885443, ..., -0.29973008,\n",
              "        -0.23700318, -0.43652393],\n",
              "       [ 0.03317632,  0.48648368,  0.23070836, ..., -0.29973008,\n",
              "        -0.23700318, -0.43652393],\n",
              "       ...,\n",
              "       [ 0.03317632, -0.57886837, -1.06867038, ..., -0.29973008,\n",
              "        -0.23700318,  2.29082517],\n",
              "       [ 1.2188582 ,  1.39166043,  0.1569135 , ..., -0.29973008,\n",
              "        -0.23700318,  2.29082517],\n",
              "       [ 0.03317632,  0.61685894,  2.58060136, ..., -0.29973008,\n",
              "        -0.23700318,  2.29082517]])"
            ]
          },
          "metadata": {},
          "execution_count": 182
        }
      ]
    },
    {
      "cell_type": "markdown",
      "source": [
        "# Starting our Final Model"
      ],
      "metadata": {
        "id": "i1RVuc1RHoIM"
      }
    },
    {
      "cell_type": "code",
      "source": [
        "# Starting our Final Model\n",
        "# Recursive Feature Elimination (RFE ) Technique\n",
        "# Initialize the model algorithm\n",
        "from sklearn.linear_model import LinearRegression\n",
        "modelLR = LinearRegression()\n",
        "# Apply RFE to model (All features and labels)\n",
        "from sklearn.feature_selection import RFE\n",
        "selectFeaturesFromRFE = RFE(estimator=modelLR,\n",
        " step=1) \n",
        "# Fit the data with RFE\n",
        "selectFeaturesFromRFE.fit(features,label)\n",
        "# Get Features with High Ranking (1,2,3,4,...) (Get features that has Rank 1. Sometimes Rank 2 is considered)\n",
        "print(selectFeaturesFromRFE.ranking_)\n"
      ],
      "metadata": {
        "colab": {
          "base_uri": "https://localhost:8080/",
          "height": 0
        },
        "id": "owUY7WWQHfzH",
        "outputId": "3d517f19-da82-49cc-cb32-615dc3b878bc"
      },
      "execution_count": 183,
      "outputs": [
        {
          "output_type": "stream",
          "name": "stdout",
          "text": [
            "[4 1 2 1 7 1 5 1 1 1 6 8 3]\n"
          ]
        }
      ]
    },
    {
      "cell_type": "markdown",
      "source": [
        "# Observation:\n",
        "The features 'int.rate', 'log.annual.inc', 'fico', 'revol.bal', 'revol.util' and 'inq.last.6mths' are \n",
        "selected for model building \n"
      ],
      "metadata": {
        "id": "fd6DAcXrH0xK"
      }
    },
    {
      "cell_type": "code",
      "source": [
        "# Select by Model (SBM)\n",
        "# 1. Initialize the model algorithm\n",
        "from sklearn.linear_model import LinearRegression\n",
        "modelLR = LinearRegression()\n",
        "# 2. Apply SBM to model (All features and labels)\n",
        "from sklearn.feature_selection import SelectFromModel\n",
        "selectFeaturesFromSBM = SelectFromModel(modelLR) \n",
        "# Fit the data with SBM\n",
        "selectFeaturesFromSBM.fit(features,label)\n",
        "# 3. Get Features with High Ranking (1,2,3,4,...) (Get features that has Rank 1. Sometimes Rank 2 is considered\n",
        "print(selectFeaturesFromSBM.get_support())\n"
      ],
      "metadata": {
        "colab": {
          "base_uri": "https://localhost:8080/",
          "height": 0
        },
        "id": "JWTBtHfZH6Nd",
        "outputId": "e6fb1f36-ed98-4eb1-d561-35d17aac642f"
      },
      "execution_count": 184,
      "outputs": [
        {
          "output_type": "stream",
          "name": "stdout",
          "text": [
            "[False False False False False  True False  True False  True False False\n",
            " False]\n"
          ]
        }
      ]
    },
    {
      "cell_type": "markdown",
      "source": [
        "# Observation:\n",
        "The features 'fico', 'revol.bal' and 'inq.last.6mths' are selected for model building\n"
      ],
      "metadata": {
        "id": "Z8Aw2W28IB7l"
      }
    },
    {
      "cell_type": "code",
      "source": [
        "finalFeatures=features[:,[2,4,6,8,9,10]]\n"
      ],
      "metadata": {
        "id": "2RdBctNkH6P_"
      },
      "execution_count": 185,
      "outputs": []
    },
    {
      "cell_type": "code",
      "source": [
        "import tensorflow as tf\n"
      ],
      "metadata": {
        "id": "FTVWvNBmIpxD"
      },
      "execution_count": 186,
      "outputs": []
    },
    {
      "cell_type": "code",
      "source": [
        "seed = 2501\n",
        "X_train,X_test,y_train,y_test = train_test_split(finalFeatures,\n",
        "                                                label,\n",
        "                                                test_size=0.2,\n",
        "                                                random_state = seed)\n",
        "tf.random.set_seed(seed)\n",
        "np.random.seed(seed)\n"
      ],
      "metadata": {
        "id": "8D1PXheTILWF"
      },
      "execution_count": 187,
      "outputs": []
    },
    {
      "cell_type": "code",
      "source": [
        "#Architect the model\n",
        "model = tf.keras.models.Sequential()\n",
        "# units ---> How many neurons/nodes needs to initialized?\n",
        "# Option1: No of units ---> No of features\n",
        "# Option2: No of units ---> 3 * No of features (3*6=18)\n",
        "# Option3: No of units ---> 1/3 * No of features\n",
        "model.add(tf.keras.layers.Dense( units = 18, activation= 'relu',input_shape=(6,) ))\n",
        "model.add(tf.keras.layers.Dense( units = 18, activation= 'relu' ))\n",
        "model.add(tf.keras.layers.Dense( units = 18, activation= 'relu' ))\n",
        "model.add(tf.keras.layers.Dense( units = 1, activation= 'sigmoid' ))\n"
      ],
      "metadata": {
        "id": "i3iFzNRuJli5"
      },
      "execution_count": 188,
      "outputs": []
    },
    {
      "cell_type": "code",
      "source": [
        "# Compile Model\n",
        "# Binary Classification : binary_crossentropy\n",
        "# MultiClass (Label) Classification: categorical_crossentropy\n",
        "model.compile(optimizer = \"Adam\" , \n",
        " loss = 'binary_crossentropy', \n",
        " metrics = ['accuracy'])\n"
      ],
      "metadata": {
        "id": "VeZZN1l1JriF"
      },
      "execution_count": 189,
      "outputs": []
    },
    {
      "cell_type": "code",
      "source": [
        "# Custom EarlyStopping Code\n",
        "class thresholdCallback(tf.keras.callbacks.Callback):\n",
        "   def __init__(self, cl):\n",
        "      super(thresholdCallback, self).__init__()\n",
        "      self.cl = cl\n",
        " \n",
        "   def on_epoch_end(self, epoch, logs=None):\n",
        "        test_score = logs[\"val_accuracy\"]\n",
        "        train_score = logs[\"accuracy\"]\n",
        "        if ( test_score > train_score and test_score > self.cl ) or test_score == 1 :\n",
        "                  self.model.stop_training = True"
      ],
      "metadata": {
        "id": "UIqzTm1cJudE"
      },
      "execution_count": 196,
      "outputs": []
    },
    {
      "cell_type": "markdown",
      "source": [
        "# Train the final MODEL "
      ],
      "metadata": {
        "id": "ROkFBndgLVng"
      }
    },
    {
      "cell_type": "code",
      "source": [
        "# Train the model\n",
        "scoreMonitor = thresholdCallback(cl=0.9)\n",
        "epoch_hist = model.fit(X_train,\n",
        "                        y_train,\n",
        "                        epochs=300,\n",
        "                        validation_data=(X_test,y_test),\n",
        "                        callbacks= [scoreMonitor] )\n"
      ],
      "metadata": {
        "colab": {
          "base_uri": "https://localhost:8080/",
          "height": 0
        },
        "id": "oQLimWjRLRKh",
        "outputId": "9f2a4618-98aa-4314-a04f-3bba4abedc8f"
      },
      "execution_count": 197,
      "outputs": [
        {
          "output_type": "stream",
          "name": "stdout",
          "text": [
            "Epoch 1/300\n",
            "240/240 [==============================] - 2s 3ms/step - loss: 0.4238 - accuracy: 0.8524 - val_loss: 0.3288 - val_accuracy: 0.8883\n",
            "Epoch 2/300\n",
            "240/240 [==============================] - 0s 2ms/step - loss: 0.3180 - accuracy: 0.8898 - val_loss: 0.3102 - val_accuracy: 0.8914\n",
            "Epoch 3/300\n",
            "240/240 [==============================] - 1s 2ms/step - loss: 0.2989 - accuracy: 0.8926 - val_loss: 0.3017 - val_accuracy: 0.8914\n",
            "Epoch 4/300\n",
            "240/240 [==============================] - 1s 3ms/step - loss: 0.2858 - accuracy: 0.8939 - val_loss: 0.2913 - val_accuracy: 0.8909\n",
            "Epoch 5/300\n",
            "240/240 [==============================] - 1s 3ms/step - loss: 0.2771 - accuracy: 0.8966 - val_loss: 0.2880 - val_accuracy: 0.8925\n",
            "Epoch 6/300\n",
            "240/240 [==============================] - 1s 3ms/step - loss: 0.2713 - accuracy: 0.9012 - val_loss: 0.2864 - val_accuracy: 0.8925\n",
            "Epoch 7/300\n",
            "240/240 [==============================] - 1s 3ms/step - loss: 0.2658 - accuracy: 0.9022 - val_loss: 0.2812 - val_accuracy: 0.8993\n",
            "Epoch 8/300\n",
            "240/240 [==============================] - 1s 2ms/step - loss: 0.2611 - accuracy: 0.9051 - val_loss: 0.2732 - val_accuracy: 0.9019\n",
            "Epoch 9/300\n",
            "240/240 [==============================] - 1s 2ms/step - loss: 0.2575 - accuracy: 0.9090 - val_loss: 0.2716 - val_accuracy: 0.9034\n",
            "Epoch 10/300\n",
            "240/240 [==============================] - 0s 2ms/step - loss: 0.2529 - accuracy: 0.9118 - val_loss: 0.2670 - val_accuracy: 0.9034\n",
            "Epoch 11/300\n",
            "240/240 [==============================] - 0s 2ms/step - loss: 0.2520 - accuracy: 0.9118 - val_loss: 0.2652 - val_accuracy: 0.9050\n",
            "Epoch 12/300\n",
            "240/240 [==============================] - 1s 2ms/step - loss: 0.2477 - accuracy: 0.9146 - val_loss: 0.2647 - val_accuracy: 0.9076\n",
            "Epoch 13/300\n",
            "240/240 [==============================] - 0s 2ms/step - loss: 0.2454 - accuracy: 0.9139 - val_loss: 0.2601 - val_accuracy: 0.9118\n",
            "Epoch 14/300\n",
            "240/240 [==============================] - 0s 2ms/step - loss: 0.2424 - accuracy: 0.9161 - val_loss: 0.2609 - val_accuracy: 0.9134\n",
            "Epoch 15/300\n",
            "240/240 [==============================] - 0s 2ms/step - loss: 0.2408 - accuracy: 0.9170 - val_loss: 0.2557 - val_accuracy: 0.9118\n",
            "Epoch 16/300\n",
            "240/240 [==============================] - 1s 2ms/step - loss: 0.2393 - accuracy: 0.9174 - val_loss: 0.2571 - val_accuracy: 0.9076\n",
            "Epoch 17/300\n",
            "240/240 [==============================] - 0s 2ms/step - loss: 0.2384 - accuracy: 0.9179 - val_loss: 0.2558 - val_accuracy: 0.9092\n",
            "Epoch 18/300\n",
            "240/240 [==============================] - 0s 2ms/step - loss: 0.2366 - accuracy: 0.9175 - val_loss: 0.2591 - val_accuracy: 0.9123\n",
            "Epoch 19/300\n",
            "240/240 [==============================] - 0s 2ms/step - loss: 0.2352 - accuracy: 0.9184 - val_loss: 0.2551 - val_accuracy: 0.9128\n",
            "Epoch 20/300\n",
            "240/240 [==============================] - 0s 2ms/step - loss: 0.2339 - accuracy: 0.9195 - val_loss: 0.2515 - val_accuracy: 0.9154\n",
            "Epoch 21/300\n",
            "240/240 [==============================] - 0s 2ms/step - loss: 0.2328 - accuracy: 0.9196 - val_loss: 0.2540 - val_accuracy: 0.9149\n",
            "Epoch 22/300\n",
            "240/240 [==============================] - 1s 2ms/step - loss: 0.2318 - accuracy: 0.9218 - val_loss: 0.2508 - val_accuracy: 0.9144\n",
            "Epoch 23/300\n",
            "240/240 [==============================] - 0s 2ms/step - loss: 0.2315 - accuracy: 0.9191 - val_loss: 0.2519 - val_accuracy: 0.9139\n",
            "Epoch 24/300\n",
            "240/240 [==============================] - 0s 2ms/step - loss: 0.2288 - accuracy: 0.9226 - val_loss: 0.2510 - val_accuracy: 0.9154\n",
            "Epoch 25/300\n",
            "240/240 [==============================] - 0s 2ms/step - loss: 0.2281 - accuracy: 0.9230 - val_loss: 0.2488 - val_accuracy: 0.9165\n",
            "Epoch 26/300\n",
            "240/240 [==============================] - 0s 2ms/step - loss: 0.2274 - accuracy: 0.9235 - val_loss: 0.2509 - val_accuracy: 0.9165\n",
            "Epoch 27/300\n",
            "240/240 [==============================] - 1s 2ms/step - loss: 0.2254 - accuracy: 0.9227 - val_loss: 0.2483 - val_accuracy: 0.9170\n",
            "Epoch 28/300\n",
            "240/240 [==============================] - 1s 3ms/step - loss: 0.2253 - accuracy: 0.9229 - val_loss: 0.2489 - val_accuracy: 0.9160\n",
            "Epoch 29/300\n",
            "240/240 [==============================] - 1s 3ms/step - loss: 0.2250 - accuracy: 0.9252 - val_loss: 0.2494 - val_accuracy: 0.9160\n",
            "Epoch 30/300\n",
            "240/240 [==============================] - 1s 3ms/step - loss: 0.2241 - accuracy: 0.9240 - val_loss: 0.2512 - val_accuracy: 0.9134\n",
            "Epoch 31/300\n",
            "240/240 [==============================] - 1s 3ms/step - loss: 0.2226 - accuracy: 0.9259 - val_loss: 0.2471 - val_accuracy: 0.9154\n",
            "Epoch 32/300\n",
            "240/240 [==============================] - 0s 2ms/step - loss: 0.2228 - accuracy: 0.9230 - val_loss: 0.2455 - val_accuracy: 0.9175\n",
            "Epoch 33/300\n",
            "240/240 [==============================] - 0s 2ms/step - loss: 0.2200 - accuracy: 0.9252 - val_loss: 0.2497 - val_accuracy: 0.9170\n",
            "Epoch 34/300\n",
            "240/240 [==============================] - 0s 2ms/step - loss: 0.2215 - accuracy: 0.9239 - val_loss: 0.2462 - val_accuracy: 0.9170\n",
            "Epoch 35/300\n",
            "240/240 [==============================] - 1s 2ms/step - loss: 0.2203 - accuracy: 0.9280 - val_loss: 0.2459 - val_accuracy: 0.9144\n",
            "Epoch 36/300\n",
            "240/240 [==============================] - 1s 2ms/step - loss: 0.2192 - accuracy: 0.9259 - val_loss: 0.2458 - val_accuracy: 0.9139\n",
            "Epoch 37/300\n",
            "240/240 [==============================] - 1s 2ms/step - loss: 0.2197 - accuracy: 0.9256 - val_loss: 0.2435 - val_accuracy: 0.9191\n",
            "Epoch 38/300\n",
            "240/240 [==============================] - 0s 2ms/step - loss: 0.2180 - accuracy: 0.9256 - val_loss: 0.2422 - val_accuracy: 0.9170\n",
            "Epoch 39/300\n",
            "240/240 [==============================] - 0s 2ms/step - loss: 0.2177 - accuracy: 0.9274 - val_loss: 0.2425 - val_accuracy: 0.9175\n",
            "Epoch 40/300\n",
            "240/240 [==============================] - 0s 2ms/step - loss: 0.2171 - accuracy: 0.9269 - val_loss: 0.2440 - val_accuracy: 0.9175\n",
            "Epoch 41/300\n",
            "240/240 [==============================] - 1s 2ms/step - loss: 0.2168 - accuracy: 0.9274 - val_loss: 0.2432 - val_accuracy: 0.9165\n",
            "Epoch 42/300\n",
            "240/240 [==============================] - 1s 2ms/step - loss: 0.2161 - accuracy: 0.9276 - val_loss: 0.2440 - val_accuracy: 0.9160\n",
            "Epoch 43/300\n",
            "240/240 [==============================] - 0s 2ms/step - loss: 0.2160 - accuracy: 0.9268 - val_loss: 0.2474 - val_accuracy: 0.9139\n",
            "Epoch 44/300\n",
            "240/240 [==============================] - 1s 2ms/step - loss: 0.2154 - accuracy: 0.9270 - val_loss: 0.2424 - val_accuracy: 0.9207\n",
            "Epoch 45/300\n",
            "240/240 [==============================] - 0s 2ms/step - loss: 0.2143 - accuracy: 0.9267 - val_loss: 0.2413 - val_accuracy: 0.9212\n",
            "Epoch 46/300\n",
            "240/240 [==============================] - 1s 2ms/step - loss: 0.2142 - accuracy: 0.9307 - val_loss: 0.2396 - val_accuracy: 0.9233\n",
            "Epoch 47/300\n",
            "240/240 [==============================] - 1s 2ms/step - loss: 0.2134 - accuracy: 0.9287 - val_loss: 0.2409 - val_accuracy: 0.9175\n",
            "Epoch 48/300\n",
            "240/240 [==============================] - 0s 2ms/step - loss: 0.2130 - accuracy: 0.9270 - val_loss: 0.2447 - val_accuracy: 0.9175\n",
            "Epoch 49/300\n",
            "240/240 [==============================] - 0s 2ms/step - loss: 0.2132 - accuracy: 0.9289 - val_loss: 0.2420 - val_accuracy: 0.9160\n",
            "Epoch 50/300\n",
            "240/240 [==============================] - 0s 2ms/step - loss: 0.2120 - accuracy: 0.9293 - val_loss: 0.2486 - val_accuracy: 0.9175\n",
            "Epoch 51/300\n",
            "240/240 [==============================] - 1s 3ms/step - loss: 0.2122 - accuracy: 0.9286 - val_loss: 0.2444 - val_accuracy: 0.9144\n",
            "Epoch 52/300\n",
            "240/240 [==============================] - 1s 2ms/step - loss: 0.2121 - accuracy: 0.9289 - val_loss: 0.2471 - val_accuracy: 0.9181\n",
            "Epoch 53/300\n",
            "240/240 [==============================] - 1s 3ms/step - loss: 0.2134 - accuracy: 0.9278 - val_loss: 0.2409 - val_accuracy: 0.9196\n",
            "Epoch 54/300\n",
            "240/240 [==============================] - 1s 3ms/step - loss: 0.2107 - accuracy: 0.9291 - val_loss: 0.2422 - val_accuracy: 0.9191\n",
            "Epoch 55/300\n",
            "240/240 [==============================] - 1s 3ms/step - loss: 0.2109 - accuracy: 0.9306 - val_loss: 0.2411 - val_accuracy: 0.9222\n",
            "Epoch 56/300\n",
            "240/240 [==============================] - 0s 2ms/step - loss: 0.2097 - accuracy: 0.9286 - val_loss: 0.2431 - val_accuracy: 0.9217\n",
            "Epoch 57/300\n",
            "240/240 [==============================] - 0s 2ms/step - loss: 0.2103 - accuracy: 0.9283 - val_loss: 0.2441 - val_accuracy: 0.9181\n",
            "Epoch 58/300\n",
            "240/240 [==============================] - 0s 2ms/step - loss: 0.2096 - accuracy: 0.9290 - val_loss: 0.2374 - val_accuracy: 0.9228\n",
            "Epoch 59/300\n",
            "240/240 [==============================] - 0s 2ms/step - loss: 0.2086 - accuracy: 0.9287 - val_loss: 0.2464 - val_accuracy: 0.9170\n",
            "Epoch 60/300\n",
            "240/240 [==============================] - 1s 2ms/step - loss: 0.2105 - accuracy: 0.9294 - val_loss: 0.2381 - val_accuracy: 0.9222\n",
            "Epoch 61/300\n",
            "240/240 [==============================] - 1s 2ms/step - loss: 0.2091 - accuracy: 0.9282 - val_loss: 0.2380 - val_accuracy: 0.9212\n",
            "Epoch 62/300\n",
            "240/240 [==============================] - 1s 2ms/step - loss: 0.2083 - accuracy: 0.9287 - val_loss: 0.2379 - val_accuracy: 0.9233\n",
            "Epoch 63/300\n",
            "240/240 [==============================] - 1s 2ms/step - loss: 0.2090 - accuracy: 0.9291 - val_loss: 0.2387 - val_accuracy: 0.9222\n",
            "Epoch 64/300\n",
            "240/240 [==============================] - 0s 2ms/step - loss: 0.2090 - accuracy: 0.9289 - val_loss: 0.2392 - val_accuracy: 0.9222\n",
            "Epoch 65/300\n",
            "240/240 [==============================] - 1s 2ms/step - loss: 0.2092 - accuracy: 0.9290 - val_loss: 0.2412 - val_accuracy: 0.9212\n",
            "Epoch 66/300\n",
            "240/240 [==============================] - 1s 2ms/step - loss: 0.2076 - accuracy: 0.9290 - val_loss: 0.2433 - val_accuracy: 0.9181\n",
            "Epoch 67/300\n",
            "240/240 [==============================] - 0s 2ms/step - loss: 0.2071 - accuracy: 0.9306 - val_loss: 0.2394 - val_accuracy: 0.9233\n",
            "Epoch 68/300\n",
            "240/240 [==============================] - 1s 2ms/step - loss: 0.2055 - accuracy: 0.9311 - val_loss: 0.2399 - val_accuracy: 0.9217\n",
            "Epoch 69/300\n",
            "240/240 [==============================] - 1s 2ms/step - loss: 0.2073 - accuracy: 0.9307 - val_loss: 0.2407 - val_accuracy: 0.9207\n",
            "Epoch 70/300\n",
            "240/240 [==============================] - 1s 2ms/step - loss: 0.2059 - accuracy: 0.9312 - val_loss: 0.2374 - val_accuracy: 0.9228\n",
            "Epoch 71/300\n",
            "240/240 [==============================] - 1s 2ms/step - loss: 0.2059 - accuracy: 0.9315 - val_loss: 0.2385 - val_accuracy: 0.9217\n",
            "Epoch 72/300\n",
            "240/240 [==============================] - 1s 2ms/step - loss: 0.2065 - accuracy: 0.9306 - val_loss: 0.2379 - val_accuracy: 0.9259\n",
            "Epoch 73/300\n",
            "240/240 [==============================] - 1s 2ms/step - loss: 0.2045 - accuracy: 0.9323 - val_loss: 0.2373 - val_accuracy: 0.9233\n",
            "Epoch 74/300\n",
            "240/240 [==============================] - 0s 2ms/step - loss: 0.2044 - accuracy: 0.9315 - val_loss: 0.2398 - val_accuracy: 0.9238\n",
            "Epoch 75/300\n",
            "240/240 [==============================] - 1s 3ms/step - loss: 0.2050 - accuracy: 0.9306 - val_loss: 0.2398 - val_accuracy: 0.9233\n",
            "Epoch 76/300\n",
            "240/240 [==============================] - 1s 3ms/step - loss: 0.2063 - accuracy: 0.9306 - val_loss: 0.2471 - val_accuracy: 0.9165\n",
            "Epoch 77/300\n",
            "240/240 [==============================] - 1s 3ms/step - loss: 0.2044 - accuracy: 0.9303 - val_loss: 0.2408 - val_accuracy: 0.9259\n",
            "Epoch 78/300\n",
            "240/240 [==============================] - 1s 3ms/step - loss: 0.2040 - accuracy: 0.9316 - val_loss: 0.2400 - val_accuracy: 0.9217\n",
            "Epoch 79/300\n",
            "240/240 [==============================] - 0s 2ms/step - loss: 0.2044 - accuracy: 0.9311 - val_loss: 0.2395 - val_accuracy: 0.9264\n",
            "Epoch 80/300\n",
            "240/240 [==============================] - 0s 2ms/step - loss: 0.2031 - accuracy: 0.9321 - val_loss: 0.2424 - val_accuracy: 0.9228\n",
            "Epoch 81/300\n",
            "240/240 [==============================] - 0s 2ms/step - loss: 0.2050 - accuracy: 0.9300 - val_loss: 0.2389 - val_accuracy: 0.9233\n",
            "Epoch 82/300\n",
            "240/240 [==============================] - 0s 2ms/step - loss: 0.2026 - accuracy: 0.9327 - val_loss: 0.2391 - val_accuracy: 0.9207\n",
            "Epoch 83/300\n",
            "240/240 [==============================] - 0s 2ms/step - loss: 0.2034 - accuracy: 0.9320 - val_loss: 0.2430 - val_accuracy: 0.9207\n",
            "Epoch 84/300\n",
            "240/240 [==============================] - 0s 2ms/step - loss: 0.2021 - accuracy: 0.9328 - val_loss: 0.2372 - val_accuracy: 0.9243\n",
            "Epoch 85/300\n",
            "240/240 [==============================] - 0s 2ms/step - loss: 0.2022 - accuracy: 0.9316 - val_loss: 0.2374 - val_accuracy: 0.9275\n",
            "Epoch 86/300\n",
            "240/240 [==============================] - 0s 2ms/step - loss: 0.2020 - accuracy: 0.9299 - val_loss: 0.2375 - val_accuracy: 0.9264\n",
            "Epoch 87/300\n",
            "240/240 [==============================] - 1s 2ms/step - loss: 0.2017 - accuracy: 0.9310 - val_loss: 0.2470 - val_accuracy: 0.9181\n",
            "Epoch 88/300\n",
            "240/240 [==============================] - 0s 2ms/step - loss: 0.2019 - accuracy: 0.9315 - val_loss: 0.2410 - val_accuracy: 0.9191\n",
            "Epoch 89/300\n",
            "240/240 [==============================] - 0s 2ms/step - loss: 0.2024 - accuracy: 0.9340 - val_loss: 0.2528 - val_accuracy: 0.9175\n",
            "Epoch 90/300\n",
            "240/240 [==============================] - 0s 2ms/step - loss: 0.2024 - accuracy: 0.9319 - val_loss: 0.2400 - val_accuracy: 0.9233\n",
            "Epoch 91/300\n",
            "240/240 [==============================] - 1s 2ms/step - loss: 0.2008 - accuracy: 0.9320 - val_loss: 0.2400 - val_accuracy: 0.9207\n",
            "Epoch 92/300\n",
            "240/240 [==============================] - 0s 2ms/step - loss: 0.2003 - accuracy: 0.9321 - val_loss: 0.2386 - val_accuracy: 0.9243\n",
            "Epoch 93/300\n",
            "240/240 [==============================] - 1s 2ms/step - loss: 0.2002 - accuracy: 0.9308 - val_loss: 0.2402 - val_accuracy: 0.9228\n",
            "Epoch 94/300\n",
            "240/240 [==============================] - 1s 2ms/step - loss: 0.1992 - accuracy: 0.9330 - val_loss: 0.2404 - val_accuracy: 0.9212\n",
            "Epoch 95/300\n",
            "240/240 [==============================] - 0s 2ms/step - loss: 0.1988 - accuracy: 0.9345 - val_loss: 0.2418 - val_accuracy: 0.9233\n",
            "Epoch 96/300\n",
            "240/240 [==============================] - 1s 2ms/step - loss: 0.2000 - accuracy: 0.9333 - val_loss: 0.2406 - val_accuracy: 0.9233\n",
            "Epoch 97/300\n",
            "240/240 [==============================] - 0s 2ms/step - loss: 0.2002 - accuracy: 0.9320 - val_loss: 0.2399 - val_accuracy: 0.9248\n",
            "Epoch 98/300\n",
            "240/240 [==============================] - 1s 2ms/step - loss: 0.1990 - accuracy: 0.9329 - val_loss: 0.2373 - val_accuracy: 0.9254\n",
            "Epoch 99/300\n",
            "240/240 [==============================] - 1s 3ms/step - loss: 0.2009 - accuracy: 0.9307 - val_loss: 0.2411 - val_accuracy: 0.9212\n",
            "Epoch 100/300\n",
            "240/240 [==============================] - 1s 3ms/step - loss: 0.1980 - accuracy: 0.9320 - val_loss: 0.2516 - val_accuracy: 0.9196\n",
            "Epoch 101/300\n",
            "240/240 [==============================] - 1s 3ms/step - loss: 0.1989 - accuracy: 0.9321 - val_loss: 0.2413 - val_accuracy: 0.9212\n",
            "Epoch 102/300\n",
            "240/240 [==============================] - 1s 3ms/step - loss: 0.1981 - accuracy: 0.9341 - val_loss: 0.2384 - val_accuracy: 0.9248\n",
            "Epoch 103/300\n",
            "240/240 [==============================] - 1s 2ms/step - loss: 0.1983 - accuracy: 0.9323 - val_loss: 0.2428 - val_accuracy: 0.9248\n",
            "Epoch 104/300\n",
            "240/240 [==============================] - 1s 2ms/step - loss: 0.1978 - accuracy: 0.9342 - val_loss: 0.2448 - val_accuracy: 0.9207\n",
            "Epoch 105/300\n",
            "240/240 [==============================] - 0s 2ms/step - loss: 0.1983 - accuracy: 0.9330 - val_loss: 0.2376 - val_accuracy: 0.9259\n",
            "Epoch 106/300\n",
            "240/240 [==============================] - 1s 2ms/step - loss: 0.1979 - accuracy: 0.9333 - val_loss: 0.2448 - val_accuracy: 0.9191\n",
            "Epoch 107/300\n",
            "240/240 [==============================] - 0s 2ms/step - loss: 0.1972 - accuracy: 0.9340 - val_loss: 0.2390 - val_accuracy: 0.9228\n",
            "Epoch 108/300\n",
            "240/240 [==============================] - 1s 2ms/step - loss: 0.1980 - accuracy: 0.9323 - val_loss: 0.2424 - val_accuracy: 0.9222\n",
            "Epoch 109/300\n",
            "240/240 [==============================] - 1s 2ms/step - loss: 0.1972 - accuracy: 0.9337 - val_loss: 0.2424 - val_accuracy: 0.9228\n",
            "Epoch 110/300\n",
            "240/240 [==============================] - 0s 2ms/step - loss: 0.1984 - accuracy: 0.9311 - val_loss: 0.2397 - val_accuracy: 0.9259\n",
            "Epoch 111/300\n",
            "240/240 [==============================] - 0s 2ms/step - loss: 0.1968 - accuracy: 0.9350 - val_loss: 0.2375 - val_accuracy: 0.9254\n",
            "Epoch 112/300\n",
            "240/240 [==============================] - 1s 2ms/step - loss: 0.1965 - accuracy: 0.9346 - val_loss: 0.2360 - val_accuracy: 0.9269\n",
            "Epoch 113/300\n",
            "240/240 [==============================] - 1s 2ms/step - loss: 0.1975 - accuracy: 0.9338 - val_loss: 0.2452 - val_accuracy: 0.9222\n",
            "Epoch 114/300\n",
            "240/240 [==============================] - 1s 2ms/step - loss: 0.1965 - accuracy: 0.9342 - val_loss: 0.2389 - val_accuracy: 0.9264\n",
            "Epoch 115/300\n",
            "240/240 [==============================] - 0s 2ms/step - loss: 0.1965 - accuracy: 0.9329 - val_loss: 0.2393 - val_accuracy: 0.9248\n",
            "Epoch 116/300\n",
            "240/240 [==============================] - 0s 2ms/step - loss: 0.1962 - accuracy: 0.9346 - val_loss: 0.2396 - val_accuracy: 0.9233\n",
            "Epoch 117/300\n",
            "240/240 [==============================] - 0s 2ms/step - loss: 0.1953 - accuracy: 0.9349 - val_loss: 0.2415 - val_accuracy: 0.9228\n",
            "Epoch 118/300\n",
            "240/240 [==============================] - 0s 2ms/step - loss: 0.1957 - accuracy: 0.9334 - val_loss: 0.2384 - val_accuracy: 0.9248\n",
            "Epoch 119/300\n",
            "240/240 [==============================] - 0s 2ms/step - loss: 0.1951 - accuracy: 0.9338 - val_loss: 0.2400 - val_accuracy: 0.9243\n",
            "Epoch 120/300\n",
            "240/240 [==============================] - 0s 2ms/step - loss: 0.1949 - accuracy: 0.9337 - val_loss: 0.2382 - val_accuracy: 0.9243\n",
            "Epoch 121/300\n",
            "240/240 [==============================] - 1s 2ms/step - loss: 0.1945 - accuracy: 0.9347 - val_loss: 0.2410 - val_accuracy: 0.9264\n",
            "Epoch 122/300\n",
            "240/240 [==============================] - 0s 2ms/step - loss: 0.1940 - accuracy: 0.9329 - val_loss: 0.2401 - val_accuracy: 0.9275\n",
            "Epoch 123/300\n",
            "240/240 [==============================] - 1s 3ms/step - loss: 0.1940 - accuracy: 0.9350 - val_loss: 0.2408 - val_accuracy: 0.9233\n",
            "Epoch 124/300\n",
            "240/240 [==============================] - 1s 3ms/step - loss: 0.1948 - accuracy: 0.9345 - val_loss: 0.2460 - val_accuracy: 0.9186\n",
            "Epoch 125/300\n",
            "240/240 [==============================] - 1s 3ms/step - loss: 0.1935 - accuracy: 0.9355 - val_loss: 0.2404 - val_accuracy: 0.9217\n",
            "Epoch 126/300\n",
            "240/240 [==============================] - 1s 3ms/step - loss: 0.1947 - accuracy: 0.9346 - val_loss: 0.2407 - val_accuracy: 0.9264\n",
            "Epoch 127/300\n",
            "240/240 [==============================] - 1s 2ms/step - loss: 0.1926 - accuracy: 0.9359 - val_loss: 0.2395 - val_accuracy: 0.9264\n",
            "Epoch 128/300\n",
            "240/240 [==============================] - 0s 2ms/step - loss: 0.1939 - accuracy: 0.9344 - val_loss: 0.2386 - val_accuracy: 0.9254\n",
            "Epoch 129/300\n",
            "240/240 [==============================] - 0s 2ms/step - loss: 0.1936 - accuracy: 0.9349 - val_loss: 0.2434 - val_accuracy: 0.9243\n",
            "Epoch 130/300\n",
            "240/240 [==============================] - 0s 2ms/step - loss: 0.1941 - accuracy: 0.9337 - val_loss: 0.2471 - val_accuracy: 0.9201\n",
            "Epoch 131/300\n",
            "240/240 [==============================] - 1s 2ms/step - loss: 0.1927 - accuracy: 0.9353 - val_loss: 0.2450 - val_accuracy: 0.9243\n",
            "Epoch 132/300\n",
            "240/240 [==============================] - 1s 2ms/step - loss: 0.1945 - accuracy: 0.9333 - val_loss: 0.2417 - val_accuracy: 0.9254\n",
            "Epoch 133/300\n",
            "240/240 [==============================] - 0s 2ms/step - loss: 0.1918 - accuracy: 0.9364 - val_loss: 0.2412 - val_accuracy: 0.9207\n",
            "Epoch 134/300\n",
            "240/240 [==============================] - 0s 2ms/step - loss: 0.1944 - accuracy: 0.9347 - val_loss: 0.2422 - val_accuracy: 0.9222\n",
            "Epoch 135/300\n",
            "240/240 [==============================] - 1s 2ms/step - loss: 0.1931 - accuracy: 0.9355 - val_loss: 0.2445 - val_accuracy: 0.9228\n",
            "Epoch 136/300\n",
            "240/240 [==============================] - 0s 2ms/step - loss: 0.1914 - accuracy: 0.9346 - val_loss: 0.2467 - val_accuracy: 0.9217\n",
            "Epoch 137/300\n",
            "240/240 [==============================] - 1s 2ms/step - loss: 0.1936 - accuracy: 0.9349 - val_loss: 0.2435 - val_accuracy: 0.9248\n",
            "Epoch 138/300\n",
            "240/240 [==============================] - 0s 2ms/step - loss: 0.1898 - accuracy: 0.9372 - val_loss: 0.2493 - val_accuracy: 0.9201\n",
            "Epoch 139/300\n",
            "240/240 [==============================] - 1s 2ms/step - loss: 0.1909 - accuracy: 0.9362 - val_loss: 0.2428 - val_accuracy: 0.9259\n",
            "Epoch 140/300\n",
            "240/240 [==============================] - 0s 2ms/step - loss: 0.1927 - accuracy: 0.9351 - val_loss: 0.2489 - val_accuracy: 0.9222\n",
            "Epoch 141/300\n",
            "240/240 [==============================] - 1s 2ms/step - loss: 0.1926 - accuracy: 0.9353 - val_loss: 0.2489 - val_accuracy: 0.9175\n",
            "Epoch 142/300\n",
            "240/240 [==============================] - 1s 2ms/step - loss: 0.1900 - accuracy: 0.9372 - val_loss: 0.2419 - val_accuracy: 0.9259\n",
            "Epoch 143/300\n",
            "240/240 [==============================] - 0s 2ms/step - loss: 0.1909 - accuracy: 0.9355 - val_loss: 0.2403 - val_accuracy: 0.9233\n",
            "Epoch 144/300\n",
            "240/240 [==============================] - 1s 2ms/step - loss: 0.1913 - accuracy: 0.9359 - val_loss: 0.2427 - val_accuracy: 0.9243\n",
            "Epoch 145/300\n",
            "240/240 [==============================] - 0s 2ms/step - loss: 0.1890 - accuracy: 0.9368 - val_loss: 0.2465 - val_accuracy: 0.9222\n",
            "Epoch 146/300\n",
            "240/240 [==============================] - 1s 3ms/step - loss: 0.1908 - accuracy: 0.9342 - val_loss: 0.2426 - val_accuracy: 0.9254\n",
            "Epoch 147/300\n",
            "240/240 [==============================] - 1s 3ms/step - loss: 0.1921 - accuracy: 0.9342 - val_loss: 0.2417 - val_accuracy: 0.9269\n",
            "Epoch 148/300\n",
            "240/240 [==============================] - 1s 3ms/step - loss: 0.1906 - accuracy: 0.9353 - val_loss: 0.2428 - val_accuracy: 0.9264\n",
            "Epoch 149/300\n",
            "240/240 [==============================] - 1s 3ms/step - loss: 0.1909 - accuracy: 0.9368 - val_loss: 0.2399 - val_accuracy: 0.9243\n",
            "Epoch 150/300\n",
            "240/240 [==============================] - 1s 2ms/step - loss: 0.1896 - accuracy: 0.9368 - val_loss: 0.2433 - val_accuracy: 0.9233\n",
            "Epoch 151/300\n",
            "240/240 [==============================] - 1s 2ms/step - loss: 0.1882 - accuracy: 0.9370 - val_loss: 0.2399 - val_accuracy: 0.9275\n",
            "Epoch 152/300\n",
            "240/240 [==============================] - 1s 3ms/step - loss: 0.1877 - accuracy: 0.9364 - val_loss: 0.2453 - val_accuracy: 0.9254\n",
            "Epoch 153/300\n",
            "240/240 [==============================] - 1s 3ms/step - loss: 0.1905 - accuracy: 0.9350 - val_loss: 0.2414 - val_accuracy: 0.9248\n",
            "Epoch 154/300\n",
            "240/240 [==============================] - 1s 3ms/step - loss: 0.1910 - accuracy: 0.9334 - val_loss: 0.2448 - val_accuracy: 0.9212\n",
            "Epoch 155/300\n",
            "240/240 [==============================] - 1s 3ms/step - loss: 0.1892 - accuracy: 0.9347 - val_loss: 0.2456 - val_accuracy: 0.9238\n",
            "Epoch 156/300\n",
            "240/240 [==============================] - 1s 3ms/step - loss: 0.1887 - accuracy: 0.9367 - val_loss: 0.2472 - val_accuracy: 0.9222\n",
            "Epoch 157/300\n",
            "240/240 [==============================] - 0s 2ms/step - loss: 0.1894 - accuracy: 0.9363 - val_loss: 0.2444 - val_accuracy: 0.9264\n",
            "Epoch 158/300\n",
            "240/240 [==============================] - 0s 2ms/step - loss: 0.1881 - accuracy: 0.9375 - val_loss: 0.2510 - val_accuracy: 0.9165\n",
            "Epoch 159/300\n",
            "240/240 [==============================] - 0s 2ms/step - loss: 0.1898 - accuracy: 0.9345 - val_loss: 0.2451 - val_accuracy: 0.9254\n",
            "Epoch 160/300\n",
            "240/240 [==============================] - 1s 2ms/step - loss: 0.1889 - accuracy: 0.9376 - val_loss: 0.2453 - val_accuracy: 0.9238\n",
            "Epoch 161/300\n",
            "240/240 [==============================] - 1s 2ms/step - loss: 0.1878 - accuracy: 0.9367 - val_loss: 0.2467 - val_accuracy: 0.9207\n",
            "Epoch 162/300\n",
            "240/240 [==============================] - 0s 2ms/step - loss: 0.1887 - accuracy: 0.9371 - val_loss: 0.2466 - val_accuracy: 0.9228\n",
            "Epoch 163/300\n",
            "240/240 [==============================] - 1s 2ms/step - loss: 0.1867 - accuracy: 0.9379 - val_loss: 0.2467 - val_accuracy: 0.9248\n",
            "Epoch 164/300\n",
            "240/240 [==============================] - 1s 3ms/step - loss: 0.1891 - accuracy: 0.9353 - val_loss: 0.2423 - val_accuracy: 0.9254\n",
            "Epoch 165/300\n",
            "240/240 [==============================] - 1s 2ms/step - loss: 0.1886 - accuracy: 0.9344 - val_loss: 0.2493 - val_accuracy: 0.9191\n",
            "Epoch 166/300\n",
            "240/240 [==============================] - 0s 2ms/step - loss: 0.1893 - accuracy: 0.9366 - val_loss: 0.2433 - val_accuracy: 0.9248\n",
            "Epoch 167/300\n",
            "240/240 [==============================] - 1s 2ms/step - loss: 0.1865 - accuracy: 0.9374 - val_loss: 0.2478 - val_accuracy: 0.9238\n",
            "Epoch 168/300\n",
            "240/240 [==============================] - 1s 3ms/step - loss: 0.1877 - accuracy: 0.9367 - val_loss: 0.2465 - val_accuracy: 0.9228\n",
            "Epoch 169/300\n",
            "240/240 [==============================] - 1s 3ms/step - loss: 0.1877 - accuracy: 0.9358 - val_loss: 0.2496 - val_accuracy: 0.9181\n",
            "Epoch 170/300\n",
            "240/240 [==============================] - 1s 3ms/step - loss: 0.1862 - accuracy: 0.9389 - val_loss: 0.2487 - val_accuracy: 0.9201\n",
            "Epoch 171/300\n",
            "240/240 [==============================] - 1s 3ms/step - loss: 0.1860 - accuracy: 0.9358 - val_loss: 0.2500 - val_accuracy: 0.9254\n",
            "Epoch 172/300\n",
            "240/240 [==============================] - 1s 2ms/step - loss: 0.1861 - accuracy: 0.9368 - val_loss: 0.2482 - val_accuracy: 0.9238\n",
            "Epoch 173/300\n",
            "240/240 [==============================] - 0s 2ms/step - loss: 0.1866 - accuracy: 0.9368 - val_loss: 0.2460 - val_accuracy: 0.9201\n",
            "Epoch 174/300\n",
            "240/240 [==============================] - 1s 2ms/step - loss: 0.1866 - accuracy: 0.9368 - val_loss: 0.2467 - val_accuracy: 0.9243\n",
            "Epoch 175/300\n",
            "240/240 [==============================] - 1s 2ms/step - loss: 0.1857 - accuracy: 0.9367 - val_loss: 0.2471 - val_accuracy: 0.9217\n",
            "Epoch 176/300\n",
            "240/240 [==============================] - 0s 2ms/step - loss: 0.1873 - accuracy: 0.9364 - val_loss: 0.2466 - val_accuracy: 0.9248\n",
            "Epoch 177/300\n",
            "240/240 [==============================] - 1s 2ms/step - loss: 0.1858 - accuracy: 0.9370 - val_loss: 0.2466 - val_accuracy: 0.9207\n",
            "Epoch 178/300\n",
            "240/240 [==============================] - 1s 2ms/step - loss: 0.1879 - accuracy: 0.9370 - val_loss: 0.2471 - val_accuracy: 0.9222\n",
            "Epoch 179/300\n",
            "240/240 [==============================] - 1s 2ms/step - loss: 0.1861 - accuracy: 0.9371 - val_loss: 0.2550 - val_accuracy: 0.9217\n",
            "Epoch 180/300\n",
            "240/240 [==============================] - 1s 2ms/step - loss: 0.1860 - accuracy: 0.9377 - val_loss: 0.2508 - val_accuracy: 0.9191\n",
            "Epoch 181/300\n",
            "240/240 [==============================] - 1s 2ms/step - loss: 0.1866 - accuracy: 0.9376 - val_loss: 0.2435 - val_accuracy: 0.9222\n",
            "Epoch 182/300\n",
            "240/240 [==============================] - 0s 2ms/step - loss: 0.1855 - accuracy: 0.9384 - val_loss: 0.2514 - val_accuracy: 0.9228\n",
            "Epoch 183/300\n",
            "240/240 [==============================] - 0s 2ms/step - loss: 0.1859 - accuracy: 0.9381 - val_loss: 0.2548 - val_accuracy: 0.9186\n",
            "Epoch 184/300\n",
            "240/240 [==============================] - 0s 2ms/step - loss: 0.1850 - accuracy: 0.9394 - val_loss: 0.2454 - val_accuracy: 0.9238\n",
            "Epoch 185/300\n",
            "240/240 [==============================] - 1s 2ms/step - loss: 0.1855 - accuracy: 0.9381 - val_loss: 0.2472 - val_accuracy: 0.9228\n",
            "Epoch 186/300\n",
            "240/240 [==============================] - 0s 2ms/step - loss: 0.1858 - accuracy: 0.9367 - val_loss: 0.2561 - val_accuracy: 0.9128\n",
            "Epoch 187/300\n",
            "240/240 [==============================] - 1s 2ms/step - loss: 0.1858 - accuracy: 0.9366 - val_loss: 0.2485 - val_accuracy: 0.9222\n",
            "Epoch 188/300\n",
            "240/240 [==============================] - 1s 2ms/step - loss: 0.1848 - accuracy: 0.9375 - val_loss: 0.2443 - val_accuracy: 0.9243\n",
            "Epoch 189/300\n",
            "240/240 [==============================] - 0s 2ms/step - loss: 0.1855 - accuracy: 0.9387 - val_loss: 0.2473 - val_accuracy: 0.9248\n",
            "Epoch 190/300\n",
            "240/240 [==============================] - 1s 3ms/step - loss: 0.1836 - accuracy: 0.9384 - val_loss: 0.2501 - val_accuracy: 0.9222\n",
            "Epoch 191/300\n",
            "240/240 [==============================] - 1s 3ms/step - loss: 0.1850 - accuracy: 0.9374 - val_loss: 0.2482 - val_accuracy: 0.9243\n",
            "Epoch 192/300\n",
            "240/240 [==============================] - 1s 3ms/step - loss: 0.1845 - accuracy: 0.9367 - val_loss: 0.2533 - val_accuracy: 0.9217\n",
            "Epoch 193/300\n",
            "240/240 [==============================] - 2s 7ms/step - loss: 0.1852 - accuracy: 0.9388 - val_loss: 0.2461 - val_accuracy: 0.9243\n",
            "Epoch 194/300\n",
            "240/240 [==============================] - 1s 2ms/step - loss: 0.1838 - accuracy: 0.9383 - val_loss: 0.2479 - val_accuracy: 0.9264\n",
            "Epoch 195/300\n",
            "240/240 [==============================] - 0s 2ms/step - loss: 0.1854 - accuracy: 0.9364 - val_loss: 0.2488 - val_accuracy: 0.9196\n",
            "Epoch 196/300\n",
            "240/240 [==============================] - 1s 2ms/step - loss: 0.1819 - accuracy: 0.9383 - val_loss: 0.2492 - val_accuracy: 0.9207\n",
            "Epoch 197/300\n",
            "240/240 [==============================] - 0s 2ms/step - loss: 0.1821 - accuracy: 0.9385 - val_loss: 0.2467 - val_accuracy: 0.9222\n",
            "Epoch 198/300\n",
            "240/240 [==============================] - 1s 2ms/step - loss: 0.1824 - accuracy: 0.9379 - val_loss: 0.2572 - val_accuracy: 0.9181\n",
            "Epoch 199/300\n",
            "240/240 [==============================] - 1s 2ms/step - loss: 0.1845 - accuracy: 0.9363 - val_loss: 0.2548 - val_accuracy: 0.9170\n",
            "Epoch 200/300\n",
            "240/240 [==============================] - 1s 2ms/step - loss: 0.1831 - accuracy: 0.9380 - val_loss: 0.2471 - val_accuracy: 0.9217\n",
            "Epoch 201/300\n",
            "240/240 [==============================] - 0s 2ms/step - loss: 0.1835 - accuracy: 0.9377 - val_loss: 0.2535 - val_accuracy: 0.9222\n",
            "Epoch 202/300\n",
            "240/240 [==============================] - 1s 2ms/step - loss: 0.1844 - accuracy: 0.9372 - val_loss: 0.2510 - val_accuracy: 0.9233\n",
            "Epoch 203/300\n",
            "240/240 [==============================] - 0s 2ms/step - loss: 0.1864 - accuracy: 0.9366 - val_loss: 0.2459 - val_accuracy: 0.9233\n",
            "Epoch 204/300\n",
            "240/240 [==============================] - 1s 2ms/step - loss: 0.1819 - accuracy: 0.9387 - val_loss: 0.2585 - val_accuracy: 0.9165\n",
            "Epoch 205/300\n",
            "240/240 [==============================] - 0s 2ms/step - loss: 0.1839 - accuracy: 0.9367 - val_loss: 0.2489 - val_accuracy: 0.9207\n",
            "Epoch 206/300\n",
            "240/240 [==============================] - 0s 2ms/step - loss: 0.1832 - accuracy: 0.9371 - val_loss: 0.2502 - val_accuracy: 0.9222\n",
            "Epoch 207/300\n",
            "240/240 [==============================] - 1s 2ms/step - loss: 0.1818 - accuracy: 0.9375 - val_loss: 0.2488 - val_accuracy: 0.9243\n",
            "Epoch 208/300\n",
            "240/240 [==============================] - 1s 2ms/step - loss: 0.1820 - accuracy: 0.9390 - val_loss: 0.2504 - val_accuracy: 0.9191\n",
            "Epoch 209/300\n",
            "240/240 [==============================] - 0s 2ms/step - loss: 0.1828 - accuracy: 0.9367 - val_loss: 0.2510 - val_accuracy: 0.9196\n",
            "Epoch 210/300\n",
            "240/240 [==============================] - 0s 2ms/step - loss: 0.1819 - accuracy: 0.9379 - val_loss: 0.2511 - val_accuracy: 0.9160\n",
            "Epoch 211/300\n",
            "240/240 [==============================] - 0s 2ms/step - loss: 0.1826 - accuracy: 0.9372 - val_loss: 0.2486 - val_accuracy: 0.9228\n",
            "Epoch 212/300\n",
            "240/240 [==============================] - 1s 3ms/step - loss: 0.1816 - accuracy: 0.9367 - val_loss: 0.2527 - val_accuracy: 0.9222\n",
            "Epoch 213/300\n",
            "240/240 [==============================] - 1s 3ms/step - loss: 0.1819 - accuracy: 0.9379 - val_loss: 0.2553 - val_accuracy: 0.9139\n",
            "Epoch 214/300\n",
            "240/240 [==============================] - 1s 3ms/step - loss: 0.1811 - accuracy: 0.9396 - val_loss: 0.2479 - val_accuracy: 0.9212\n",
            "Epoch 215/300\n",
            "240/240 [==============================] - 1s 3ms/step - loss: 0.1792 - accuracy: 0.9387 - val_loss: 0.2513 - val_accuracy: 0.9212\n",
            "Epoch 216/300\n",
            "240/240 [==============================] - 1s 3ms/step - loss: 0.1809 - accuracy: 0.9370 - val_loss: 0.2576 - val_accuracy: 0.9181\n",
            "Epoch 217/300\n",
            "240/240 [==============================] - 0s 2ms/step - loss: 0.1808 - accuracy: 0.9389 - val_loss: 0.2524 - val_accuracy: 0.9186\n",
            "Epoch 218/300\n",
            "240/240 [==============================] - 1s 2ms/step - loss: 0.1821 - accuracy: 0.9368 - val_loss: 0.2545 - val_accuracy: 0.9196\n",
            "Epoch 219/300\n",
            "240/240 [==============================] - 0s 2ms/step - loss: 0.1805 - accuracy: 0.9367 - val_loss: 0.2611 - val_accuracy: 0.9144\n",
            "Epoch 220/300\n",
            "240/240 [==============================] - 0s 2ms/step - loss: 0.1813 - accuracy: 0.9363 - val_loss: 0.2516 - val_accuracy: 0.9217\n",
            "Epoch 221/300\n",
            "240/240 [==============================] - 1s 2ms/step - loss: 0.1785 - accuracy: 0.9392 - val_loss: 0.2584 - val_accuracy: 0.9196\n",
            "Epoch 222/300\n",
            "240/240 [==============================] - 1s 2ms/step - loss: 0.1798 - accuracy: 0.9383 - val_loss: 0.2684 - val_accuracy: 0.9097\n",
            "Epoch 223/300\n",
            "240/240 [==============================] - 1s 2ms/step - loss: 0.1846 - accuracy: 0.9358 - val_loss: 0.2520 - val_accuracy: 0.9228\n",
            "Epoch 224/300\n",
            "240/240 [==============================] - 1s 2ms/step - loss: 0.1812 - accuracy: 0.9357 - val_loss: 0.2492 - val_accuracy: 0.9228\n",
            "Epoch 225/300\n",
            "240/240 [==============================] - 1s 2ms/step - loss: 0.1799 - accuracy: 0.9388 - val_loss: 0.2454 - val_accuracy: 0.9264\n",
            "Epoch 226/300\n",
            "240/240 [==============================] - 1s 2ms/step - loss: 0.1806 - accuracy: 0.9380 - val_loss: 0.2536 - val_accuracy: 0.9186\n",
            "Epoch 227/300\n",
            "240/240 [==============================] - 1s 2ms/step - loss: 0.1796 - accuracy: 0.9385 - val_loss: 0.2520 - val_accuracy: 0.9207\n",
            "Epoch 228/300\n",
            "240/240 [==============================] - 1s 2ms/step - loss: 0.1791 - accuracy: 0.9383 - val_loss: 0.2480 - val_accuracy: 0.9259\n",
            "Epoch 229/300\n",
            "240/240 [==============================] - 1s 2ms/step - loss: 0.1808 - accuracy: 0.9387 - val_loss: 0.2501 - val_accuracy: 0.9233\n",
            "Epoch 230/300\n",
            "240/240 [==============================] - 1s 2ms/step - loss: 0.1789 - accuracy: 0.9379 - val_loss: 0.2588 - val_accuracy: 0.9201\n",
            "Epoch 231/300\n",
            "240/240 [==============================] - 1s 2ms/step - loss: 0.1797 - accuracy: 0.9374 - val_loss: 0.2568 - val_accuracy: 0.9207\n",
            "Epoch 232/300\n",
            "240/240 [==============================] - 1s 2ms/step - loss: 0.1787 - accuracy: 0.9389 - val_loss: 0.2528 - val_accuracy: 0.9238\n",
            "Epoch 233/300\n",
            "240/240 [==============================] - 1s 2ms/step - loss: 0.1818 - accuracy: 0.9371 - val_loss: 0.2549 - val_accuracy: 0.9207\n",
            "Epoch 234/300\n",
            "240/240 [==============================] - 0s 2ms/step - loss: 0.1798 - accuracy: 0.9374 - val_loss: 0.2579 - val_accuracy: 0.9212\n",
            "Epoch 235/300\n",
            "240/240 [==============================] - 1s 3ms/step - loss: 0.1805 - accuracy: 0.9359 - val_loss: 0.2584 - val_accuracy: 0.9144\n",
            "Epoch 236/300\n",
            "240/240 [==============================] - 1s 3ms/step - loss: 0.1798 - accuracy: 0.9376 - val_loss: 0.2493 - val_accuracy: 0.9238\n",
            "Epoch 237/300\n",
            "240/240 [==============================] - 1s 3ms/step - loss: 0.1787 - accuracy: 0.9381 - val_loss: 0.2517 - val_accuracy: 0.9217\n",
            "Epoch 238/300\n",
            "240/240 [==============================] - 1s 3ms/step - loss: 0.1794 - accuracy: 0.9387 - val_loss: 0.2547 - val_accuracy: 0.9201\n",
            "Epoch 239/300\n",
            "240/240 [==============================] - 1s 3ms/step - loss: 0.1787 - accuracy: 0.9374 - val_loss: 0.2541 - val_accuracy: 0.9165\n",
            "Epoch 240/300\n",
            "240/240 [==============================] - 1s 2ms/step - loss: 0.1784 - accuracy: 0.9396 - val_loss: 0.2555 - val_accuracy: 0.9165\n",
            "Epoch 241/300\n",
            "240/240 [==============================] - 0s 2ms/step - loss: 0.1781 - accuracy: 0.9401 - val_loss: 0.2533 - val_accuracy: 0.9207\n",
            "Epoch 242/300\n",
            "240/240 [==============================] - 1s 2ms/step - loss: 0.1779 - accuracy: 0.9380 - val_loss: 0.2510 - val_accuracy: 0.9228\n",
            "Epoch 243/300\n",
            "240/240 [==============================] - 1s 2ms/step - loss: 0.1799 - accuracy: 0.9377 - val_loss: 0.2564 - val_accuracy: 0.9207\n",
            "Epoch 244/300\n",
            "240/240 [==============================] - 1s 2ms/step - loss: 0.1781 - accuracy: 0.9394 - val_loss: 0.2561 - val_accuracy: 0.9228\n",
            "Epoch 245/300\n",
            "240/240 [==============================] - 0s 2ms/step - loss: 0.1807 - accuracy: 0.9367 - val_loss: 0.2606 - val_accuracy: 0.9191\n",
            "Epoch 246/300\n",
            "240/240 [==============================] - 0s 2ms/step - loss: 0.1781 - accuracy: 0.9371 - val_loss: 0.2559 - val_accuracy: 0.9175\n",
            "Epoch 247/300\n",
            "240/240 [==============================] - 0s 2ms/step - loss: 0.1795 - accuracy: 0.9401 - val_loss: 0.2582 - val_accuracy: 0.9196\n",
            "Epoch 248/300\n",
            "240/240 [==============================] - 1s 2ms/step - loss: 0.1789 - accuracy: 0.9400 - val_loss: 0.2512 - val_accuracy: 0.9201\n",
            "Epoch 249/300\n",
            "240/240 [==============================] - 0s 2ms/step - loss: 0.1781 - accuracy: 0.9388 - val_loss: 0.2574 - val_accuracy: 0.9170\n",
            "Epoch 250/300\n",
            "240/240 [==============================] - 1s 2ms/step - loss: 0.1779 - accuracy: 0.9387 - val_loss: 0.2526 - val_accuracy: 0.9196\n",
            "Epoch 251/300\n",
            "240/240 [==============================] - 0s 2ms/step - loss: 0.1782 - accuracy: 0.9404 - val_loss: 0.2539 - val_accuracy: 0.9196\n",
            "Epoch 252/300\n",
            "240/240 [==============================] - 0s 2ms/step - loss: 0.1774 - accuracy: 0.9394 - val_loss: 0.2557 - val_accuracy: 0.9196\n",
            "Epoch 253/300\n",
            "240/240 [==============================] - 1s 2ms/step - loss: 0.1752 - accuracy: 0.9418 - val_loss: 0.2506 - val_accuracy: 0.9228\n",
            "Epoch 254/300\n",
            "240/240 [==============================] - 0s 2ms/step - loss: 0.1769 - accuracy: 0.9401 - val_loss: 0.2594 - val_accuracy: 0.9191\n",
            "Epoch 255/300\n",
            "240/240 [==============================] - 0s 2ms/step - loss: 0.1763 - accuracy: 0.9401 - val_loss: 0.2583 - val_accuracy: 0.9243\n",
            "Epoch 256/300\n",
            "240/240 [==============================] - 0s 2ms/step - loss: 0.1775 - accuracy: 0.9385 - val_loss: 0.2518 - val_accuracy: 0.9191\n",
            "Epoch 257/300\n",
            "240/240 [==============================] - 0s 2ms/step - loss: 0.1783 - accuracy: 0.9377 - val_loss: 0.2532 - val_accuracy: 0.9201\n",
            "Epoch 258/300\n",
            "240/240 [==============================] - 1s 3ms/step - loss: 0.1775 - accuracy: 0.9385 - val_loss: 0.2590 - val_accuracy: 0.9186\n",
            "Epoch 259/300\n",
            "240/240 [==============================] - 1s 3ms/step - loss: 0.1783 - accuracy: 0.9396 - val_loss: 0.2580 - val_accuracy: 0.9139\n",
            "Epoch 260/300\n",
            "240/240 [==============================] - 1s 3ms/step - loss: 0.1753 - accuracy: 0.9411 - val_loss: 0.2543 - val_accuracy: 0.9238\n",
            "Epoch 261/300\n",
            "240/240 [==============================] - 1s 3ms/step - loss: 0.1782 - accuracy: 0.9370 - val_loss: 0.2583 - val_accuracy: 0.9207\n",
            "Epoch 262/300\n",
            "240/240 [==============================] - 1s 3ms/step - loss: 0.1780 - accuracy: 0.9384 - val_loss: 0.2597 - val_accuracy: 0.9186\n",
            "Epoch 263/300\n",
            "240/240 [==============================] - 0s 2ms/step - loss: 0.1777 - accuracy: 0.9394 - val_loss: 0.2577 - val_accuracy: 0.9201\n",
            "Epoch 264/300\n",
            "240/240 [==============================] - 0s 2ms/step - loss: 0.1749 - accuracy: 0.9407 - val_loss: 0.2561 - val_accuracy: 0.9217\n",
            "Epoch 265/300\n",
            "240/240 [==============================] - 1s 2ms/step - loss: 0.1778 - accuracy: 0.9401 - val_loss: 0.2531 - val_accuracy: 0.9248\n",
            "Epoch 266/300\n",
            "240/240 [==============================] - 1s 2ms/step - loss: 0.1763 - accuracy: 0.9402 - val_loss: 0.2536 - val_accuracy: 0.9212\n",
            "Epoch 267/300\n",
            "240/240 [==============================] - 1s 4ms/step - loss: 0.1763 - accuracy: 0.9390 - val_loss: 0.2576 - val_accuracy: 0.9201\n",
            "Epoch 268/300\n",
            "240/240 [==============================] - 1s 3ms/step - loss: 0.1774 - accuracy: 0.9410 - val_loss: 0.2575 - val_accuracy: 0.9217\n",
            "Epoch 269/300\n",
            "240/240 [==============================] - 1s 2ms/step - loss: 0.1775 - accuracy: 0.9381 - val_loss: 0.2582 - val_accuracy: 0.9181\n",
            "Epoch 270/300\n",
            "240/240 [==============================] - 1s 2ms/step - loss: 0.1752 - accuracy: 0.9397 - val_loss: 0.2612 - val_accuracy: 0.9165\n",
            "Epoch 271/300\n",
            "240/240 [==============================] - 1s 2ms/step - loss: 0.1770 - accuracy: 0.9397 - val_loss: 0.2550 - val_accuracy: 0.9212\n",
            "Epoch 272/300\n",
            "240/240 [==============================] - 1s 2ms/step - loss: 0.1753 - accuracy: 0.9393 - val_loss: 0.2552 - val_accuracy: 0.9191\n",
            "Epoch 273/300\n",
            "240/240 [==============================] - 0s 2ms/step - loss: 0.1750 - accuracy: 0.9404 - val_loss: 0.2627 - val_accuracy: 0.9212\n",
            "Epoch 274/300\n",
            "240/240 [==============================] - 0s 2ms/step - loss: 0.1772 - accuracy: 0.9392 - val_loss: 0.2546 - val_accuracy: 0.9201\n",
            "Epoch 275/300\n",
            "240/240 [==============================] - 1s 2ms/step - loss: 0.1758 - accuracy: 0.9397 - val_loss: 0.2545 - val_accuracy: 0.9196\n",
            "Epoch 276/300\n",
            "240/240 [==============================] - 0s 2ms/step - loss: 0.1758 - accuracy: 0.9388 - val_loss: 0.2573 - val_accuracy: 0.9207\n",
            "Epoch 277/300\n",
            "240/240 [==============================] - 1s 2ms/step - loss: 0.1751 - accuracy: 0.9401 - val_loss: 0.2577 - val_accuracy: 0.9222\n",
            "Epoch 278/300\n",
            "240/240 [==============================] - 1s 2ms/step - loss: 0.1759 - accuracy: 0.9402 - val_loss: 0.2675 - val_accuracy: 0.9154\n",
            "Epoch 279/300\n",
            "240/240 [==============================] - 1s 2ms/step - loss: 0.1766 - accuracy: 0.9379 - val_loss: 0.2570 - val_accuracy: 0.9196\n",
            "Epoch 280/300\n",
            "240/240 [==============================] - 1s 3ms/step - loss: 0.1747 - accuracy: 0.9396 - val_loss: 0.2654 - val_accuracy: 0.9102\n",
            "Epoch 281/300\n",
            "240/240 [==============================] - 1s 2ms/step - loss: 0.1759 - accuracy: 0.9402 - val_loss: 0.2559 - val_accuracy: 0.9222\n",
            "Epoch 282/300\n",
            "240/240 [==============================] - 1s 3ms/step - loss: 0.1756 - accuracy: 0.9398 - val_loss: 0.2584 - val_accuracy: 0.9181\n",
            "Epoch 283/300\n",
            "240/240 [==============================] - 1s 3ms/step - loss: 0.1753 - accuracy: 0.9405 - val_loss: 0.2625 - val_accuracy: 0.9186\n",
            "Epoch 284/300\n",
            "240/240 [==============================] - 1s 3ms/step - loss: 0.1744 - accuracy: 0.9405 - val_loss: 0.2642 - val_accuracy: 0.9154\n",
            "Epoch 285/300\n",
            "240/240 [==============================] - 1s 2ms/step - loss: 0.1766 - accuracy: 0.9384 - val_loss: 0.2650 - val_accuracy: 0.9128\n",
            "Epoch 286/300\n",
            "240/240 [==============================] - 1s 2ms/step - loss: 0.1764 - accuracy: 0.9394 - val_loss: 0.2572 - val_accuracy: 0.9186\n",
            "Epoch 287/300\n",
            "240/240 [==============================] - 1s 3ms/step - loss: 0.1775 - accuracy: 0.9393 - val_loss: 0.2635 - val_accuracy: 0.9118\n",
            "Epoch 288/300\n",
            "240/240 [==============================] - 1s 2ms/step - loss: 0.1742 - accuracy: 0.9390 - val_loss: 0.2624 - val_accuracy: 0.9118\n",
            "Epoch 289/300\n",
            "240/240 [==============================] - 0s 2ms/step - loss: 0.1751 - accuracy: 0.9387 - val_loss: 0.2745 - val_accuracy: 0.9066\n",
            "Epoch 290/300\n",
            "240/240 [==============================] - 0s 2ms/step - loss: 0.1748 - accuracy: 0.9400 - val_loss: 0.2585 - val_accuracy: 0.9201\n",
            "Epoch 291/300\n",
            "240/240 [==============================] - 1s 2ms/step - loss: 0.1752 - accuracy: 0.9392 - val_loss: 0.2522 - val_accuracy: 0.9243\n",
            "Epoch 292/300\n",
            "240/240 [==============================] - 1s 2ms/step - loss: 0.1752 - accuracy: 0.9392 - val_loss: 0.2612 - val_accuracy: 0.9123\n",
            "Epoch 293/300\n",
            "240/240 [==============================] - 0s 2ms/step - loss: 0.1750 - accuracy: 0.9392 - val_loss: 0.2706 - val_accuracy: 0.9118\n",
            "Epoch 294/300\n",
            "240/240 [==============================] - 0s 2ms/step - loss: 0.1754 - accuracy: 0.9383 - val_loss: 0.2592 - val_accuracy: 0.9160\n",
            "Epoch 295/300\n",
            "240/240 [==============================] - 1s 2ms/step - loss: 0.1747 - accuracy: 0.9385 - val_loss: 0.2582 - val_accuracy: 0.9212\n",
            "Epoch 296/300\n",
            "240/240 [==============================] - 0s 2ms/step - loss: 0.1741 - accuracy: 0.9402 - val_loss: 0.2589 - val_accuracy: 0.9191\n",
            "Epoch 297/300\n",
            "240/240 [==============================] - 1s 2ms/step - loss: 0.1744 - accuracy: 0.9400 - val_loss: 0.2596 - val_accuracy: 0.9207\n",
            "Epoch 298/300\n",
            "240/240 [==============================] - 1s 3ms/step - loss: 0.1731 - accuracy: 0.9396 - val_loss: 0.2590 - val_accuracy: 0.9175\n",
            "Epoch 299/300\n",
            "240/240 [==============================] - 0s 2ms/step - loss: 0.1756 - accuracy: 0.9375 - val_loss: 0.2664 - val_accuracy: 0.9092\n",
            "Epoch 300/300\n",
            "240/240 [==============================] - 0s 2ms/step - loss: 0.1746 - accuracy: 0.9392 - val_loss: 0.2626 - val_accuracy: 0.9149\n"
          ]
        }
      ]
    },
    {
      "cell_type": "code",
      "source": [
        "# Validate the model\n",
        "# Since the dataset is an UNBALANCED DATASET , it is recommended to perform one more check,\n",
        "# Domainwise Tolerance !!! or F1 Score\n",
        "from sklearn.metrics import confusion_matrix\n",
        "from sklearn.metrics import classification_report\n",
        "# Prediction\n",
        "predLabel= (model.predict(finalFeatures) > 0.5).astype(\"int32\")\n",
        "confusion_matrix(label,predLabel)"
      ],
      "metadata": {
        "colab": {
          "base_uri": "https://localhost:8080/",
          "height": 0
        },
        "id": "4KLFxGqlMlrl",
        "outputId": "7aea90f1-ffaa-4bec-b0dc-25d36d05dc65"
      },
      "execution_count": 199,
      "outputs": [
        {
          "output_type": "stream",
          "name": "stdout",
          "text": [
            "300/300 [==============================] - 0s 1ms/step\n"
          ]
        },
        {
          "output_type": "execute_result",
          "data": {
            "text/plain": [
              "array([[1455,  413],\n",
              "       [ 206, 7504]])"
            ]
          },
          "metadata": {},
          "execution_count": 199
        }
      ]
    },
    {
      "cell_type": "markdown",
      "source": [
        "# Observation:\n",
        "Considering the average of (Recall of 1 and Precision of 0) (0.98+0.88)/2 = 0.93 \n",
        "Since the value 0.93 > CL 0.92, the model is Accepted"
      ],
      "metadata": {
        "id": "EoWUjXlzM7uW"
      }
    },
    {
      "cell_type": "code",
      "source": [
        "\n"
      ],
      "metadata": {
        "id": "kLIjR7w4Muv6"
      },
      "execution_count": null,
      "outputs": []
    }
  ]
}