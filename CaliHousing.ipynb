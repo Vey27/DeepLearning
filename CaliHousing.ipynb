{
  "nbformat": 4,
  "nbformat_minor": 0,
  "metadata": {
    "colab": {
      "private_outputs": true,
      "provenance": [],
      "machine_shape": "hm",
      "mount_file_id": "1u0hRQbKWzTCeXUcqgzVfNJtOWAqg3I2J",
      "authorship_tag": "ABX9TyPlkk/MUzsgOK4LAN3l0oUZ"
    },
    "kernelspec": {
      "name": "python3",
      "display_name": "Python 3"
    },
    "language_info": {
      "name": "python"
    },
    "accelerator": "GPU",
    "gpuClass": "premium"
  },
  "cells": [
    {
      "cell_type": "code",
      "execution_count": null,
      "metadata": {
        "id": "mXqdNqI_iDPQ"
      },
      "outputs": [],
      "source": [
        "import pandas as pd"
      ]
    },
    {
      "cell_type": "code",
      "source": [
        "df=pd.read_csv(\"/content/Calihousing.csv\")"
      ],
      "metadata": {
        "id": "RAw08qQvD-VK"
      },
      "execution_count": null,
      "outputs": []
    },
    {
      "cell_type": "code",
      "source": [
        "df.head()"
      ],
      "metadata": {
        "id": "fD5UmB33Esp5"
      },
      "execution_count": null,
      "outputs": []
    },
    {
      "cell_type": "code",
      "source": [
        "df.shape"
      ],
      "metadata": {
        "id": "C1AHyWR4Ev61"
      },
      "execution_count": null,
      "outputs": []
    },
    {
      "cell_type": "code",
      "source": [
        "df.info()"
      ],
      "metadata": {
        "id": "EoXHrosOEywk"
      },
      "execution_count": null,
      "outputs": []
    },
    {
      "cell_type": "code",
      "source": [
        "# checking if any missing value\n",
        "df.isna().sum()"
      ],
      "metadata": {
        "id": "TM7aC7oUE12z"
      },
      "execution_count": null,
      "outputs": []
    },
    {
      "cell_type": "code",
      "source": [
        "df.isna().sum()*100/df.shape[0]"
      ],
      "metadata": {
        "id": "jHbKnhKYE3Sp"
      },
      "execution_count": null,
      "outputs": []
    },
    {
      "cell_type": "code",
      "source": [
        "# dropping missing values\n",
        "df.dropna(inplace=True)"
      ],
      "metadata": {
        "id": "ebHxJnncE-RB"
      },
      "execution_count": null,
      "outputs": []
    },
    {
      "cell_type": "code",
      "source": [
        "# creating dummy variables\n",
        "df_dummy=pd.get_dummies(df,drop_first=True)"
      ],
      "metadata": {
        "id": "Vxqr-sjpE_rk"
      },
      "execution_count": null,
      "outputs": []
    },
    {
      "cell_type": "code",
      "source": [
        "# separate features and outcome\n",
        "y=df_dummy['median_house_value']\n",
        "x=df_dummy.drop(columns='median_house_value')"
      ],
      "metadata": {
        "id": "r35ae-_VFC3o"
      },
      "execution_count": null,
      "outputs": []
    },
    {
      "cell_type": "code",
      "source": [
        "# split the data\n",
        "from sklearn.model_selection import train_test_split\n",
        "x_train,x_test,y_train,y_test = train_test_split(x,y,random_state=0)\n",
        "# standardise the data\n",
        "from sklearn.preprocessing import StandardScaler\n",
        "sc=StandardScaler()\n",
        "x_train_std = sc.fit_transform(x_train)\n",
        "x_test_std = sc.transform(x_test)"
      ],
      "metadata": {
        "id": "1UXyV6AuFFv-"
      },
      "execution_count": null,
      "outputs": []
    },
    {
      "cell_type": "code",
      "source": [
        "# build model\n",
        "from tensorflow.keras.models import Sequential\n",
        "from tensorflow.keras.layers import Input, Dense"
      ],
      "metadata": {
        "id": "buYdGV_WFI-T"
      },
      "execution_count": null,
      "outputs": []
    },
    {
      "cell_type": "code",
      "source": [
        "no_features = x_train.shape[1]"
      ],
      "metadata": {
        "id": "-pzxwchXFMqp"
      },
      "execution_count": null,
      "outputs": []
    },
    {
      "cell_type": "code",
      "source": [
        "no_features"
      ],
      "metadata": {
        "id": "k0RyV0SyFQCH"
      },
      "execution_count": null,
      "outputs": []
    },
    {
      "cell_type": "code",
      "source": [
        "!pip install matplotlib-venn"
      ],
      "metadata": {
        "id": "CNQubG0eFfLN"
      },
      "execution_count": null,
      "outputs": []
    },
    {
      "cell_type": "code",
      "source": [
        "!apt-get -qq install -y libfluidsynth1"
      ],
      "metadata": {
        "id": "yRFKDct_Fk7Y"
      },
      "execution_count": null,
      "outputs": []
    },
    {
      "cell_type": "code",
      "source": [
        "# https://pypi.python.org/pypi/libarchive\n",
        "!apt-get -qq install -y libarchive-dev && pip install -U libarchive\n",
        "import libarchive"
      ],
      "metadata": {
        "id": "No5mACv3FvGW"
      },
      "execution_count": null,
      "outputs": []
    },
    {
      "cell_type": "code",
      "source": [
        "# https://pypi.python.org/pypi/pydot\n",
        "!apt-get -qq install -y graphviz && pip install pydot\n",
        "import pydot"
      ],
      "metadata": {
        "id": "53y_-AOQFzMS"
      },
      "execution_count": null,
      "outputs": []
    },
    {
      "cell_type": "code",
      "source": [
        "!pip install cartopy\n",
        "import cartopy"
      ],
      "metadata": {
        "id": "DXFmBFCtF8Bj"
      },
      "execution_count": null,
      "outputs": []
    },
    {
      "cell_type": "code",
      "source": [
        "!pip install livelossplot\n"
      ],
      "metadata": {
        "id": "PwWT6dLCHBbY"
      },
      "execution_count": null,
      "outputs": []
    },
    {
      "cell_type": "code",
      "source": [
        "model = Sequential()\n",
        "model.add(Input(shape=(None,no_features),name=\"InputLayer\"))\n",
        "model.add(Dense(8,activation =\"relu\",name=\"HiddenLayer\"))\n",
        "model.add(Dense(1,activation = \"relu\",name=\"OutputLayer\"))\n",
        "\n",
        "model.compile(loss=\"mse\",metrics=['mae'],optimizer=\"adam\")\n",
        "\n",
        "model.summary()\n",
        "\n",
        "from livelossplot import PlotLossesKerasTF\n",
        "\n",
        "model.fit(x_train_std,y_train,epochs=200,validation_data=(x_test_std,y_test),callbacks=[PlotLossesKerasTF()])"
      ],
      "metadata": {
        "id": "SDNhG6wrFTCF"
      },
      "execution_count": null,
      "outputs": []
    },
    {
      "cell_type": "markdown",
      "source": [
        "# Comment\n",
        "The data is showing \n",
        "LOSS training  MIN and MAX is not the most accurrate; we going to try adding more layer to have most accurate model "
      ],
      "metadata": {
        "id": "GPSBX6TAImmT"
      }
    },
    {
      "cell_type": "markdown",
      "source": [
        "# Add more layers"
      ],
      "metadata": {
        "id": "uNL2kr-pRWLa"
      }
    },
    {
      "cell_type": "code",
      "source": [
        "# resturcture model with more hidden layer\n",
        "model = Sequential()\n",
        "model.add(Input(shape=(None,no_features),name=\"InputLayer\"))\n",
        "model.add(Dense(16,activation =\"relu\",name=\"HiddenLayer1\"))\n",
        "model.add(Dense(16,activation =\"relu\",name=\"HiddenLayer2\"))\n",
        "model.add(Dense(1,activation = \"relu\",name=\"OutputLayer\"))\n",
        "\n",
        "model.compile(loss=\"mse\",metrics=['mae'],optimizer=\"adam\")\n",
        "\n",
        "model.summary()"
      ],
      "metadata": {
        "id": "q-9Vc-DPJIp5"
      },
      "execution_count": null,
      "outputs": []
    },
    {
      "cell_type": "code",
      "source": [
        "model.fit(x_train_std,y_train,epochs=50,validation_data=(x_test_std,y_test),callbacks=[PlotLossesKerasTF()])"
      ],
      "metadata": {
        "id": "_iObKagpJcUB"
      },
      "execution_count": null,
      "outputs": []
    },
    {
      "cell_type": "markdown",
      "source": [
        "# Comment\n",
        "This is a fake model it's overfitted even added more layers.The two losses are decreasing.  So this indicates the modeling is trained in a good way. But... lets changing activation functions. "
      ],
      "metadata": {
        "id": "EyrzVgbCNSKd"
      }
    },
    {
      "cell_type": "markdown",
      "source": [
        "# Dealing with the Overfitting Problem\n"
      ],
      "metadata": {
        "id": "LDARXTtCQzge"
      }
    },
    {
      "cell_type": "code",
      "source": [
        "# change activation functions\n",
        "model = Sequential()\n",
        "model.add(Input(shape=(None,no_features),name=\"InputLayer\"))\n",
        "model.add(Dense(16,activation =\"sigmoid\",name=\"HiddenLayer1\"))\n",
        "model.add(Dense(16,activation =\"sigmoid\",name=\"HiddenLayer2\"))\n",
        "model.add(Dense(16,activation =\"sigmoid\",name=\"HiddenLayer3\"))\n",
        "\n",
        "model.add(Dense(1,activation = \"relu\",name=\"OutputLayer\"))\n",
        "\n",
        "model.compile(loss=\"mse\",metrics=['mae'],optimizer=\"adam\")\n",
        "\n",
        "model.summary()"
      ],
      "metadata": {
        "id": "3v6soV6QOwmk"
      },
      "execution_count": null,
      "outputs": []
    },
    {
      "cell_type": "code",
      "source": [
        "model.fit(x_train_std,y_train,epochs=50,validation_data=(x_test_std,y_test),callbacks=[PlotLossesKerasTF()])"
      ],
      "metadata": {
        "id": "zcC-OH1PO2GD"
      },
      "execution_count": null,
      "outputs": []
    },
    {
      "cell_type": "markdown",
      "source": [
        "\n",
        "# Comment... mmmm to be continue \n",
        "```\n",
        "# This is formatted as code\n",
        "```\n",
        "\n"
      ],
      "metadata": {
        "id": "COwmkpr6UFJF"
      }
    }
  ]
}